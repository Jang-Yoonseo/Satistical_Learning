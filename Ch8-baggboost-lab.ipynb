{
 "cells": [
  {
   "cell_type": "code",
   "execution_count": null,
   "id": "a7479913",
   "metadata": {
    "lines_to_next_cell": 0,
    "name": "setup",
    "tags": [
     "remove_input"
    ]
   },
   "outputs": [],
   "source": [
    "knitr::opts_chunk$set(error = TRUE)"
   ]
  },
  {
   "cell_type": "markdown",
   "id": "7ed37383",
   "metadata": {},
   "source": [
    "# Decision Trees\n",
    "## Fitting Classification Trees"
   ]
  },
  {
   "cell_type": "markdown",
   "id": "401f9d5f",
   "metadata": {},
   "source": [
    "The `tree` library is used to construct classification and regression trees."
   ]
  },
  {
   "cell_type": "code",
   "execution_count": 3,
   "id": "7a035ea5",
   "metadata": {
    "name": "chunk1"
   },
   "outputs": [
    {
     "name": "stderr",
     "output_type": "stream",
     "text": [
      "Warning message:\n",
      "\"패키지 'tree'는 R 버전 4.1.3에서 작성되었습니다\"\n"
     ]
    }
   ],
   "source": [
    "library(tree)"
   ]
  },
  {
   "cell_type": "markdown",
   "id": "0a67bc72",
   "metadata": {},
   "source": [
    "We first use classification trees  to analyze the `Carseats` data set.\n",
    "In these data, `Sales` is a continuous variable, and so we begin by recoding it  as a binary variable. We use the `ifelse()` function to create a variable, called `High`, which takes on a value of `Yes` if the `Sales` variable exceeds $8$,\n",
    "and takes on a value of `No` otherwise."
   ]
  },
  {
   "cell_type": "code",
   "execution_count": 4,
   "id": "9b9295a0",
   "metadata": {
    "name": "chunk2"
   },
   "outputs": [
    {
     "name": "stderr",
     "output_type": "stream",
     "text": [
      "The following objects are masked from Carseats (pos = 4):\n",
      "\n",
      "    Advertising, Age, CompPrice, Education, Income, Population, Price,\n",
      "    Sales, ShelveLoc, Urban, US\n",
      "\n",
      "\n"
     ]
    }
   ],
   "source": [
    "library(ISLR2)\n",
    "attach(Carseats)\n",
    "High <- factor(ifelse(Sales <= 8, \"No\", \"Yes\")) \n",
    "#sales = 8 기준으로 binary response 생성"
   ]
  },
  {
   "cell_type": "markdown",
   "id": "f9f4dbc7",
   "metadata": {},
   "source": [
    "Finally, we use the `data.frame()` function to merge `High` with the rest of the `Carseats` data."
   ]
  },
  {
   "cell_type": "code",
   "execution_count": 5,
   "id": "107b9cfb",
   "metadata": {
    "name": "chunk3"
   },
   "outputs": [],
   "source": [
    "Carseats <- data.frame(Carseats, High)"
   ]
  },
  {
   "cell_type": "markdown",
   "id": "115ed59b",
   "metadata": {},
   "source": [
    "We now  use the `tree()` function to fit a classification tree in order to predict `High` using all variables but `Sales`.\n",
    "The syntax of the `tree()` function is quite similar to that of the `lm()` function."
   ]
  },
  {
   "cell_type": "markdown",
   "id": "fa465cb5-3e33-44b1-b194-4df1bb6949ca",
   "metadata": {},
   "source": [
    "#### 그냥 tree model 적합"
   ]
  },
  {
   "cell_type": "code",
   "execution_count": 6,
   "id": "c08f524c",
   "metadata": {
    "name": "chunk4"
   },
   "outputs": [],
   "source": [
    "#의사결정 나무 적합 High 반응변수 , salse 제외\n",
    "tree.carseats <- tree(High ~ . - Sales, Carseats)"
   ]
  },
  {
   "cell_type": "markdown",
   "id": "9337d6e0",
   "metadata": {},
   "source": [
    "The `summary()` function lists the variables that are used as internal nodes in the tree, the number of terminal nodes, and the (training) error rate."
   ]
  },
  {
   "cell_type": "code",
   "execution_count": 7,
   "id": "9edccc76",
   "metadata": {
    "name": "chunk5"
   },
   "outputs": [
    {
     "data": {
      "text/plain": [
       "\n",
       "Classification tree:\n",
       "tree(formula = High ~ . - Sales, data = Carseats)\n",
       "Variables actually used in tree construction:\n",
       "[1] \"ShelveLoc\"   \"Price\"       \"Income\"      \"CompPrice\"   \"Population\" \n",
       "[6] \"Advertising\" \"Age\"         \"US\"         \n",
       "Number of terminal nodes:  27 \n",
       "Residual mean deviance:  0.4575 = 170.7 / 373 \n",
       "Misclassification error rate: 0.09 = 36 / 400 "
      ]
     },
     "metadata": {},
     "output_type": "display_data"
    }
   ],
   "source": [
    "summary(tree.carseats) #요약정보"
   ]
  },
  {
   "cell_type": "markdown",
   "id": "b1837e4d",
   "metadata": {},
   "source": [
    "We see that the training error rate is  $9\\%$.\n",
    "For classification trees, the deviance reported in the output of `summary()` is\n",
    "given by\n",
    "$\n",
    "-2 \\sum_m \\sum_k n_{mk} \\log \\hat{p}_{mk},\n",
    "$\n",
    " where $n_{mk}$ is the number of observations in the $m$th terminal node that belong to the $k$th class. This is closely related to the entropy, defined in (8.7).\n",
    "A small deviance indicates a tree that provides a good fit to the (training) data.\n",
    "The *residual mean deviance* reported is simply the deviance divided by $n-|{T}_0|$, which in this case is $400-27=373$.\n",
    "\n",
    "One of the most attractive properties of trees is that they can be  graphically displayed. We use the `plot()` function to display the tree structure, and the `text()` function to display the node labels. The argument `pretty = 0` instructs `R` to include the category names for any qualitative predictors, rather than simply displaying a letter for each category."
   ]
  },
  {
   "cell_type": "code",
   "execution_count": 50,
   "id": "d2fadb67",
   "metadata": {
    "name": "chunk6"
   },
   "outputs": [
    {
     "data": {
      "image/png": "[encoded data removed]",
      "text/plain": [
       "plot without title"
      ]
     },
     "metadata": {
      "image/png": {
       "height": 420,
       "width": 420
      }
     },
     "output_type": "display_data"
    }
   ],
   "source": [
    "plot(tree.carseats) #나무모형 시각화\n",
    "text(tree.carseats, pretty = 0) #text 병합"
   ]
  },
  {
   "cell_type": "markdown",
   "id": "5cd78c94",
   "metadata": {},
   "source": [
    "The most important indicator of `Sales` appears to be shelving location, since the first branch differentiates `Good` locations from `Bad` and `Medium` locations.\n",
    "\n",
    "If we just type the name of the tree object,  `R` prints output corresponding to each branch of the tree. `R` displays the split criterion  (e.g. `Price < 92.5`), the number of observations in  that branch, the deviance,  the overall prediction for the branch (`Yes` or `No`),  and the fraction of observations in that branch that take on values of `Yes` and `No`. Branches that lead to terminal nodes are indicated using asterisks."
   ]
  },
  {
   "cell_type": "code",
   "execution_count": 51,
   "id": "d8bd7b50",
   "metadata": {
    "lines_to_next_cell": 2,
    "name": "chunk7"
   },
   "outputs": [
    {
     "data": {
      "text/plain": [
       "node), split, n, deviance, yval, (yprob)\n",
       "      * denotes terminal node\n",
       "\n",
       "  1) root 400 541.500 No ( 0.59000 0.41000 )  \n",
       "    2) ShelveLoc: Bad,Medium 315 390.600 No ( 0.68889 0.31111 )  \n",
       "      4) Price < 92.5 46  56.530 Yes ( 0.30435 0.69565 )  \n",
       "        8) Income < 57 10  12.220 No ( 0.70000 0.30000 )  \n",
       "         16) CompPrice < 110.5 5   0.000 No ( 1.00000 0.00000 ) *\n",
       "         17) CompPrice > 110.5 5   6.730 Yes ( 0.40000 0.60000 ) *\n",
       "        9) Income > 57 36  35.470 Yes ( 0.19444 0.80556 )  \n",
       "         18) Population < 207.5 16  21.170 Yes ( 0.37500 0.62500 ) *\n",
       "         19) Population > 207.5 20   7.941 Yes ( 0.05000 0.95000 ) *\n",
       "      5) Price > 92.5 269 299.800 No ( 0.75465 0.24535 )  \n",
       "       10) Advertising < 13.5 224 213.200 No ( 0.81696 0.18304 )  \n",
       "         20) CompPrice < 124.5 96  44.890 No ( 0.93750 0.06250 )  \n",
       "           40) Price < 106.5 38  33.150 No ( 0.84211 0.15789 )  \n",
       "             80) Population < 177 12  16.300 No ( 0.58333 0.41667 )  \n",
       "              160) Income < 60.5 6   0.000 No ( 1.00000 0.00000 ) *\n",
       "              161) Income > 60.5 6   5.407 Yes ( 0.16667 0.83333 ) *\n",
       "             81) Population > 177 26   8.477 No ( 0.96154 0.03846 ) *\n",
       "           41) Price > 106.5 58   0.000 No ( 1.00000 0.00000 ) *\n",
       "         21) CompPrice > 124.5 128 150.200 No ( 0.72656 0.27344 )  \n",
       "           42) Price < 122.5 51  70.680 Yes ( 0.49020 0.50980 )  \n",
       "             84) ShelveLoc: Bad 11   6.702 No ( 0.90909 0.09091 ) *\n",
       "             85) ShelveLoc: Medium 40  52.930 Yes ( 0.37500 0.62500 )  \n",
       "              170) Price < 109.5 16   7.481 Yes ( 0.06250 0.93750 ) *\n",
       "              171) Price > 109.5 24  32.600 No ( 0.58333 0.41667 )  \n",
       "                342) Age < 49.5 13  16.050 Yes ( 0.30769 0.69231 ) *\n",
       "                343) Age > 49.5 11   6.702 No ( 0.90909 0.09091 ) *\n",
       "           43) Price > 122.5 77  55.540 No ( 0.88312 0.11688 )  \n",
       "             86) CompPrice < 147.5 58  17.400 No ( 0.96552 0.03448 ) *\n",
       "             87) CompPrice > 147.5 19  25.010 No ( 0.63158 0.36842 )  \n",
       "              174) Price < 147 12  16.300 Yes ( 0.41667 0.58333 )  \n",
       "                348) CompPrice < 152.5 7   5.742 Yes ( 0.14286 0.85714 ) *\n",
       "                349) CompPrice > 152.5 5   5.004 No ( 0.80000 0.20000 ) *\n",
       "              175) Price > 147 7   0.000 No ( 1.00000 0.00000 ) *\n",
       "       11) Advertising > 13.5 45  61.830 Yes ( 0.44444 0.55556 )  \n",
       "         22) Age < 54.5 25  25.020 Yes ( 0.20000 0.80000 )  \n",
       "           44) CompPrice < 130.5 14  18.250 Yes ( 0.35714 0.64286 )  \n",
       "             88) Income < 100 9  12.370 No ( 0.55556 0.44444 ) *\n",
       "             89) Income > 100 5   0.000 Yes ( 0.00000 1.00000 ) *\n",
       "           45) CompPrice > 130.5 11   0.000 Yes ( 0.00000 1.00000 ) *\n",
       "         23) Age > 54.5 20  22.490 No ( 0.75000 0.25000 )  \n",
       "           46) CompPrice < 122.5 10   0.000 No ( 1.00000 0.00000 ) *\n",
       "           47) CompPrice > 122.5 10  13.860 No ( 0.50000 0.50000 )  \n",
       "             94) Price < 125 5   0.000 Yes ( 0.00000 1.00000 ) *\n",
       "             95) Price > 125 5   0.000 No ( 1.00000 0.00000 ) *\n",
       "    3) ShelveLoc: Good 85  90.330 Yes ( 0.22353 0.77647 )  \n",
       "      6) Price < 135 68  49.260 Yes ( 0.11765 0.88235 )  \n",
       "       12) US: No 17  22.070 Yes ( 0.35294 0.64706 )  \n",
       "         24) Price < 109 8   0.000 Yes ( 0.00000 1.00000 ) *\n",
       "         25) Price > 109 9  11.460 No ( 0.66667 0.33333 ) *\n",
       "       13) US: Yes 51  16.880 Yes ( 0.03922 0.96078 ) *\n",
       "      7) Price > 135 17  22.070 No ( 0.64706 0.35294 )  \n",
       "       14) Income < 46 6   0.000 No ( 1.00000 0.00000 ) *\n",
       "       15) Income > 46 11  15.160 Yes ( 0.45455 0.54545 ) *"
      ]
     },
     "metadata": {},
     "output_type": "display_data"
    }
   ],
   "source": [
    "tree.carseats #계층적 시각화"
   ]
  },
  {
   "cell_type": "markdown",
   "id": "c9c3059f",
   "metadata": {},
   "source": [
    "In order to properly evaluate the performance of a classification tree\n",
    "on these data, we must estimate the test error rather than simply\n",
    "computing the training error. We split the observations into a\n",
    "training set and a test set, build the tree using the training set,\n",
    "and evaluate its performance on the test data. The `predict()`\n",
    "function can be used for this purpose. In the case of a classification\n",
    "tree, the argument `type = \"class\"` instructs `R` to return the\n",
    "actual class prediction. This approach leads to correct predictions\n",
    "for around $77 \\%$ of the locations in the test data set."
   ]
  },
  {
   "cell_type": "markdown",
   "id": "a6a29c97-df4a-4c2e-9063-0e3a51bffd1d",
   "metadata": {},
   "source": [
    "#### test data 뽑고 적합하기!!"
   ]
  },
  {
   "cell_type": "code",
   "execution_count": 11,
   "id": "1ac04a44",
   "metadata": {
    "name": "chunk8"
   },
   "outputs": [
    {
     "data": {
      "text/plain": [
       "         High.test\n",
       "tree.pred  No Yes\n",
       "      No  104  33\n",
       "      Yes  13  50"
      ]
     },
     "metadata": {},
     "output_type": "display_data"
    },
    {
     "data": {
      "text/html": [
       "0.77"
      ],
      "text/latex": [
       "0.77"
      ],
      "text/markdown": [
       "0.77"
      ],
      "text/plain": [
       "[1] 0.77"
      ]
     },
     "metadata": {},
     "output_type": "display_data"
    },
    {
     "data": {
      "text/html": [
       "0.23"
      ],
      "text/latex": [
       "0.23"
      ],
      "text/markdown": [
       "0.23"
      ],
      "text/plain": [
       "[1] 0.23"
      ]
     },
     "metadata": {},
     "output_type": "display_data"
    }
   ],
   "source": [
    "#200개의 관측치를 뽑아 훈련자료로 설정한 후 모형 평가\n",
    "\n",
    "set.seed(2)\n",
    "train <- sample(1:nrow(Carseats), 200)\n",
    "Carseats.test <- Carseats[-train, ]\n",
    "High.test <- High[-train]\n",
    "tree.carseats <- tree(High ~ . - Sales, Carseats,\n",
    "    subset = train) #훈련 자료로 적합\n",
    "tree.pred <- predict(tree.carseats, Carseats.test,\n",
    "    type = \"class\") #평가 자료에 의한 예측\n",
    "table(tree.pred, High.test) #confusion matrix\n",
    "(104 + 50) / 200 #정분류율'\n",
    "1-(104+50)/200 #오분류율"
   ]
  },
  {
   "cell_type": "markdown",
   "id": "60a2bd6c",
   "metadata": {},
   "source": [
    "(If you re-run the `predict()` function then you might get slightly different results, due to \"ties\": for instance, this can happen when the training observations corresponding to a terminal node are evenly split between `Yes` and `No` response values.)\n",
    "\n",
    "Next, we consider whether pruning the tree might lead to improved  results.\n",
    "The function `cv.tree()` performs cross-validation in order to  determine the optimal level of tree complexity; cost complexity pruning is used in order to select a sequence of trees for consideration.\n",
    "We use the argument `FUN = prune.misclass` in order to indicate that we want the classification error rate to guide the cross-validation and pruning process, rather than the default for the `cv.tree()` function, which is deviance. The `cv.tree()` function reports the number of terminal nodes of each tree considered (`size`) as well as the corresponding error rate and the value of the cost-complexity parameter used (`k`, which corresponds to $\\alpha$ in (8.4))."
   ]
  },
  {
   "cell_type": "code",
   "execution_count": 61,
   "id": "39285535-386f-4b07-9656-78847fefccde",
   "metadata": {},
   "outputs": [],
   "source": [
    "#dev는 cross valdation 오분류율"
   ]
  },
  {
   "cell_type": "markdown",
   "id": "1436804a-1dc4-4608-ad81-b0ce8317fe4e",
   "metadata": {},
   "source": [
    "#### 가지 치기 기법"
   ]
  },
  {
   "cell_type": "code",
   "execution_count": 14,
   "id": "ae34f010",
   "metadata": {
    "name": "chunk9"
   },
   "outputs": [
    {
     "data": {
      "text/html": [
       "<style>\n",
       ".list-inline {list-style: none; margin:0; padding: 0}\n",
       ".list-inline>li {display: inline-block}\n",
       ".list-inline>li:not(:last-child)::after {content: \"\\00b7\"; padding: 0 .5ex}\n",
       "</style>\n",
       "<ol class=list-inline><li>'size'</li><li>'dev'</li><li>'k'</li><li>'method'</li></ol>\n"
      ],
      "text/latex": [
       "\\begin{enumerate*}\n",
       "\\item 'size'\n",
       "\\item 'dev'\n",
       "\\item 'k'\n",
       "\\item 'method'\n",
       "\\end{enumerate*}\n"
      ],
      "text/markdown": [
       "1. 'size'\n",
       "2. 'dev'\n",
       "3. 'k'\n",
       "4. 'method'\n",
       "\n",
       "\n"
      ],
      "text/plain": [
       "[1] \"size\"   \"dev\"    \"k\"      \"method\""
      ]
     },
     "metadata": {},
     "output_type": "display_data"
    },
    {
     "data": {
      "text/plain": [
       "$size\n",
       "[1] 21 19 14  9  8  5  3  2  1\n",
       "\n",
       "$dev\n",
       "[1] 75 75 75 74 82 83 83 85 82\n",
       "\n",
       "$k\n",
       "[1] -Inf  0.0  1.0  1.4  2.0  3.0  4.0  9.0 18.0\n",
       "\n",
       "$method\n",
       "[1] \"misclass\"\n",
       "\n",
       "attr(,\"class\")\n",
       "[1] \"prune\"         \"tree.sequence\""
      ]
     },
     "metadata": {},
     "output_type": "display_data"
    }
   ],
   "source": [
    "set.seed(7)\n",
    "#교차타당검증에 의해 나무모형의 복잡도(최종노드의 개수)를 선택\n",
    "cv.carseats <- cv.tree(tree.carseats, FUN = prune.misclass) \n",
    "names(cv.carseats)\n",
    "cv.carseats #k는 tuning parameter 역할 (교재의 alpha)\n",
    "#dev는 지표에 따라 다르다... 내기 봤을 떈 \n",
    "#test data니까 뭔가 낮을 수록 안좋은 것 같음"
   ]
  },
  {
   "cell_type": "markdown",
   "id": "b3e8886a-f6db-4433-8ae9-7d03bbff0242",
   "metadata": {},
   "source": [
    "#### dev는 cross validation 오분류 수를 나타낸다고 한다."
   ]
  },
  {
   "cell_type": "markdown",
   "id": "ace7cf54",
   "metadata": {},
   "source": [
    "Despite its name, `dev` corresponds to the number of\n",
    "cross-validation errors. The tree with 9 terminal nodes results in only 74 cross-validation errors.  We plot\n",
    "the  error rate as a function of both `size` and\n",
    "`k`."
   ]
  },
  {
   "cell_type": "code",
   "execution_count": 56,
   "id": "94a805e0",
   "metadata": {
    "name": "chunk10"
   },
   "outputs": [
    {
     "data": {
      "image/png": "[encoded data removed]",
      "text/plain": [
       "plot without title"
      ]
     },
     "metadata": {
      "image/png": {
       "height": 420,
       "width": 420
      }
     },
     "output_type": "display_data"
    }
   ],
   "source": [
    "par(mfrow = c(1, 2))\n",
    "plot(cv.carseats$size, cv.carseats$dev, type = \"b\")\n",
    "plot(cv.carseats$k, cv.carseats$dev, type = \"b\")"
   ]
  },
  {
   "cell_type": "markdown",
   "id": "4412782f",
   "metadata": {},
   "source": [
    "We now apply the  `prune.misclass()`  function in order to prune the tree to obtain the nine-node tree."
   ]
  },
  {
   "cell_type": "code",
   "execution_count": 62,
   "id": "b41ac62a",
   "metadata": {
    "lines_to_next_cell": 2,
    "name": "chunk11"
   },
   "outputs": [
    {
     "data": {
      "image/png": "[encoded data removed]",
      "text/plain": [
       "plot without title"
      ]
     },
     "metadata": {
      "image/png": {
       "height": 420,
       "width": 420
      }
     },
     "output_type": "display_data"
    }
   ],
   "source": [
    "prune.carseats <- prune.misclass(tree.carseats, best = 9) #최종 나무 모형\n",
    "plot(prune.carseats)\n",
    "text(prune.carseats, pretty = 0)"
   ]
  },
  {
   "cell_type": "markdown",
   "id": "7f2737cd",
   "metadata": {},
   "source": [
    "How well does this pruned tree perform on the test data set? Once again, we apply the `predict()` function."
   ]
  },
  {
   "cell_type": "markdown",
   "id": "cc1f4494-96d6-421e-b77e-c5ae7c6a03b0",
   "metadata": {},
   "source": [
    "#### Pruning tree의 confusion matrix와 정분류율"
   ]
  },
  {
   "cell_type": "code",
   "execution_count": 63,
   "id": "850042c1",
   "metadata": {
    "name": "chunk12"
   },
   "outputs": [
    {
     "data": {
      "text/plain": [
       "         High.test\n",
       "tree.pred No Yes\n",
       "      No  97  25\n",
       "      Yes 20  58"
      ]
     },
     "metadata": {},
     "output_type": "display_data"
    },
    {
     "data": {
      "text/html": [
       "0.775"
      ],
      "text/latex": [
       "0.775"
      ],
      "text/markdown": [
       "0.775"
      ],
      "text/plain": [
       "[1] 0.775"
      ]
     },
     "metadata": {},
     "output_type": "display_data"
    }
   ],
   "source": [
    "tree.pred <- predict(prune.carseats, Carseats.test,\n",
    "    type = \"class\")\n",
    "table(tree.pred, High.test)\n",
    "(97 + 58) / 200 #향상된 평가오차 , 간단한 나무모형"
   ]
  },
  {
   "cell_type": "markdown",
   "id": "ec15aca1",
   "metadata": {},
   "source": [
    "Now $77.5 \\%$ of the test observations are correctly classified, so not only has the pruning process produced a more interpretable tree, but it has also slightly improved the classification accuracy.\n",
    "\n",
    "If we increase the value of `best`, we obtain a larger pruned tree with lower classification accuracy:"
   ]
  },
  {
   "cell_type": "markdown",
   "id": "a5504387-f360-4a43-9e19-bff9a8752ee1",
   "metadata": {},
   "source": [
    "#### best 가 아닌 경우 예측 성능이 떨어질 수도 있다."
   ]
  },
  {
   "cell_type": "code",
   "execution_count": 15,
   "id": "f3667ffa",
   "metadata": {
    "lines_to_next_cell": 0,
    "name": "chunk13"
   },
   "outputs": [
    {
     "data": {
      "text/plain": [
       "         High.test\n",
       "tree.pred  No Yes\n",
       "      No  102  31\n",
       "      Yes  15  52"
      ]
     },
     "metadata": {},
     "output_type": "display_data"
    },
    {
     "data": {
      "text/html": [
       "0.77"
      ],
      "text/latex": [
       "0.77"
      ],
      "text/markdown": [
       "0.77"
      ],
      "text/plain": [
       "[1] 0.77"
      ]
     },
     "metadata": {},
     "output_type": "display_data"
    },
    {
     "data": {
      "image/png": "[encoded data removed]",
      "text/plain": [
       "plot without title"
      ]
     },
     "metadata": {
      "image/png": {
       "height": 420,
       "width": 420
      }
     },
     "output_type": "display_data"
    }
   ],
   "source": [
    "prune.carseats <- prune.misclass(tree.carseats, best = 14)\n",
    "plot(prune.carseats)\n",
    "text(prune.carseats, pretty = 0)\n",
    "tree.pred <- predict(prune.carseats, Carseats.test,\n",
    "    type = \"class\")\n",
    "table(tree.pred, High.test)\n",
    "(102 + 52) / 200"
   ]
  },
  {
   "cell_type": "markdown",
   "id": "aeda85f9",
   "metadata": {},
   "source": [
    "\n",
    "\n",
    "\n"
   ]
  },
  {
   "cell_type": "markdown",
   "id": "880177f3",
   "metadata": {},
   "source": [
    "## Fitting Regression Trees\n",
    "\n",
    "Here we fit a regression tree to the `Boston`  data set. First, we create a training set, and fit the tree to the training data."
   ]
  },
  {
   "cell_type": "markdown",
   "id": "9c818d15-47e2-45d0-a917-f61408a3af3a",
   "metadata": {},
   "source": [
    "#### 훈련평가 분할"
   ]
  },
  {
   "cell_type": "code",
   "execution_count": 22,
   "id": "5e26e48e",
   "metadata": {
    "name": "chunk14"
   },
   "outputs": [
    {
     "data": {
      "text/plain": [
       "\n",
       "Regression tree:\n",
       "tree(formula = medv ~ ., data = Boston, subset = train)\n",
       "Variables actually used in tree construction:\n",
       "[1] \"rm\"    \"lstat\" \"crim\"  \"age\"  \n",
       "Number of terminal nodes:  7 \n",
       "Residual mean deviance:  10.38 = 2555 / 246 \n",
       "Distribution of residuals:\n",
       "    Min.  1st Qu.   Median     Mean  3rd Qu.     Max. \n",
       "-10.1800  -1.7770  -0.1775   0.0000   1.9230  16.5800 "
      ]
     },
     "metadata": {},
     "output_type": "display_data"
    }
   ],
   "source": [
    "#회귀분석에도 나무모형 이용.\n",
    "set.seed(1)\n",
    "train <- sample(1:nrow(Boston), nrow(Boston) / 2) #훈련평가분할\n",
    "#Boston data의 train데이터에 대해 회귀나무 적합\n",
    "tree.boston <- tree(medv ~ ., Boston, subset = train)\n",
    "summary(tree.boston)"
   ]
  },
  {
   "cell_type": "markdown",
   "id": "42e299fc",
   "metadata": {},
   "source": [
    "Notice that the output of `summary()` indicates that only four of the variables have been used in constructing the tree. In the context of a regression tree, the deviance is simply the sum of squared errors for the tree. We now plot the tree."
   ]
  },
  {
   "cell_type": "code",
   "execution_count": 24,
   "id": "5d9600b5",
   "metadata": {
    "name": "chunk15"
   },
   "outputs": [
    {
     "data": {
      "image/png": "[encoded data removed]",
      "text/plain": [
       "plot without title"
      ]
     },
     "metadata": {
      "image/png": {
       "height": 420,
       "width": 420
      }
     },
     "output_type": "display_data"
    }
   ],
   "source": [
    "plot(tree.boston)\n",
    "text(tree.boston, pretty = 0)"
   ]
  },
  {
   "cell_type": "markdown",
   "id": "57854453",
   "metadata": {},
   "source": [
    "The variable `lstat` measures the percentage of individuals with {lower  socioeconomic status}, while the variable `rm` corresponds to the average number of rooms. The tree indicates that larger values of `rm`, or lower values of `lstat`, correspond to more expensive houses. For example, the tree predicts a median house price of $$45{,}400$ for homes in census tracts in which `rm >= 7.553`."
   ]
  },
  {
   "cell_type": "markdown",
   "id": "16ca895a",
   "metadata": {},
   "source": [
    "It is worth noting that we could have fit a much bigger tree, by\n",
    "passing `control = tree.control(nobs = length(train), mindev = 0)` into the `tree()` function.\n",
    "\n",
    "Now we use the `cv.tree()` function to see whether pruning the tree will improve performance."
   ]
  },
  {
   "cell_type": "code",
   "execution_count": 25,
   "id": "49f782ea",
   "metadata": {
    "name": "chunk16"
   },
   "outputs": [
    {
     "data": {
      "image/png": "[encoded data removed]",
      "text/plain": [
       "plot without title"
      ]
     },
     "metadata": {
      "image/png": {
       "height": 420,
       "width": 420
      }
     },
     "output_type": "display_data"
    }
   ],
   "source": [
    "cv.boston <- cv.tree(tree.boston) #교차 타당 검증법..\n",
    "plot(cv.boston$size, cv.boston$dev, type = \"b\")"
   ]
  },
  {
   "cell_type": "markdown",
   "id": "0dd76ee6",
   "metadata": {},
   "source": [
    "In this case, the most complex tree  under consideration is selected by cross-validation. However, if we wish to prune the tree, we could do so as follows, using the `prune.tree()` function:"
   ]
  },
  {
   "cell_type": "markdown",
   "id": "0ee046f8-05df-455d-9d29-9417eb5c7b0e",
   "metadata": {},
   "source": [
    "#### prune tree 모형 사용"
   ]
  },
  {
   "cell_type": "code",
   "execution_count": 28,
   "id": "6b424e32",
   "metadata": {
    "name": "chunk17"
   },
   "outputs": [
    {
     "data": {
      "image/png": "[encoded data removed]",
      "text/plain": [
       "plot without title"
      ]
     },
     "metadata": {
      "image/png": {
       "height": 420,
       "width": 420
      }
     },
     "output_type": "display_data"
    }
   ],
   "source": [
    "prune.boston <- prune.tree(tree.boston, best = 5) #final nodes = 5\n",
    "plot(prune.boston)\n",
    "text(prune.boston, pretty = 0)"
   ]
  },
  {
   "cell_type": "markdown",
   "id": "511393f8",
   "metadata": {},
   "source": [
    "In keeping with the cross-validation results, we use the unpruned tree to make predictions on the test set."
   ]
  },
  {
   "cell_type": "markdown",
   "id": "a3e31483-36b5-4c85-a643-9e46869bf658",
   "metadata": {},
   "source": [
    "#### 훈련자료 적합 ,test data로 평가"
   ]
  },
  {
   "cell_type": "code",
   "execution_count": 30,
   "id": "749d76db",
   "metadata": {
    "name": "chunk18"
   },
   "outputs": [
    {
     "data": {
      "text/html": [
       "35.2868818594623"
      ],
      "text/latex": [
       "35.2868818594623"
      ],
      "text/markdown": [
       "35.2868818594623"
      ],
      "text/plain": [
       "[1] 35.28688"
      ]
     },
     "metadata": {},
     "output_type": "display_data"
    },
    {
     "data": {
      "image/png": "[encoded data removed]",
      "text/plain": [
       "plot without title"
      ]
     },
     "metadata": {
      "image/png": {
       "height": 420,
       "width": 420
      }
     },
     "output_type": "display_data"
    }
   ],
   "source": [
    "yhat <- predict(tree.boston, newdata = Boston[-train, ])\n",
    "boston.test <- Boston[-train, \"medv\"]\n",
    "plot(yhat, boston.test)\n",
    "abline(0, 1)\n",
    "mean((yhat - boston.test)^2) #MSE"
   ]
  },
  {
   "cell_type": "markdown",
   "id": "454d2c60",
   "metadata": {},
   "source": [
    "In other words, the  test set MSE associated with the regression tree is $35.29$.\n",
    "The square root of the MSE is therefore around $5.941$, indicating that this model leads to test predictions that are (on average) within approximately $5{,}941$ of the true median home value for the census tract.\n"
   ]
  },
  {
   "cell_type": "markdown",
   "id": "de3c02e7",
   "metadata": {},
   "source": [
    "## Bagging and Random Forests\n",
    "\n"
   ]
  },
  {
   "cell_type": "markdown",
   "id": "3d24b2d2",
   "metadata": {},
   "source": [
    "Here we apply bagging and random forests to the `Boston` data, using the `randomForest` package in `R`. The exact results obtained in this section may depend on the version of `R` and the version of the `randomForest` package installed on your computer.\n",
    "Recall that bagging is simply a special case of a random forest with\n",
    "$m=p$. Therefore, the\n",
    "`randomForest()` function can be used to perform both random forests and bagging.\n",
    "We perform bagging as follows:"
   ]
  },
  {
   "cell_type": "markdown",
   "id": "c1ed36f5-9570-4d7d-9f04-5a711fb82144",
   "metadata": {},
   "source": [
    "#### Bagging 훈련 데이터로 적합"
   ]
  },
  {
   "cell_type": "code",
   "execution_count": 33,
   "id": "05f17d55-01d6-42e6-a7aa-266bfe2f5c66",
   "metadata": {
    "name": "chunk19"
   },
   "outputs": [
    {
     "data": {
      "text/plain": [
       "\n",
       "Call:\n",
       " randomForest(formula = medv ~ ., data = Boston, mtry = 12, importance = TRUE,      subset = train) \n",
       "               Type of random forest: regression\n",
       "                     Number of trees: 500\n",
       "No. of variables tried at each split: 12\n",
       "\n",
       "          Mean of squared residuals: 11.40162\n",
       "                    % Var explained: 85.17"
      ]
     },
     "metadata": {},
     "output_type": "display_data"
    }
   ],
   "source": [
    "#회귀 나무 모형에 bagging 적용\n",
    "library(randomForest)\n",
    "set.seed(1)\n",
    "bag.boston <- randomForest(medv ~ ., data = Boston,\n",
    "    subset = train, mtry = 12, importance = TRUE) #모든 변수를 다사용함\n",
    "#mtry에서 분할시 사용할 후보 예측변수 개수 설졍:현재 모형은 bagging\n",
    "bag.boston"
   ]
  },
  {
   "cell_type": "markdown",
   "id": "af329b4a",
   "metadata": {},
   "source": [
    "The argument `mtry = 12` indicates that all $12$ predictors should be considered for each split of the tree---in other words, that bagging should be done.\n",
    "How well does this bagged model perform on the test set?"
   ]
  },
  {
   "cell_type": "markdown",
   "id": "1d4185e0-6398-4670-8de5-c681c93b1931",
   "metadata": {},
   "source": [
    "#### Bagging test 데이터 평가"
   ]
  },
  {
   "cell_type": "code",
   "execution_count": 71,
   "id": "8b0cf541",
   "metadata": {
    "name": "chunk20"
   },
   "outputs": [
    {
     "data": {
      "text/html": [
       "23.4191636766435"
      ],
      "text/latex": [
       "23.4191636766435"
      ],
      "text/markdown": [
       "23.4191636766435"
      ],
      "text/plain": [
       "[1] 23.41916"
      ]
     },
     "metadata": {},
     "output_type": "display_data"
    },
    {
     "data": {
      "image/png": "[encoded data removed]",
      "text/plain": [
       "plot without title"
      ]
     },
     "metadata": {
      "image/png": {
       "height": 420,
       "width": 420
      }
     },
     "output_type": "display_data"
    }
   ],
   "source": [
    "yhat.bag <- predict(bag.boston, newdata = Boston[-train, ])\n",
    "plot(yhat.bag, boston.test) #반응변수 관측치 vs 예측치 산점도\n",
    "abline(0, 1)\n",
    "mean((yhat.bag - boston.test)^2)"
   ]
  },
  {
   "cell_type": "markdown",
   "id": "fe908d76",
   "metadata": {},
   "source": [
    "The test set MSE associated with the bagged regression tree is $23.42$, about two-thirds of that obtained using an optimally-pruned single tree.\n",
    "We could change the number of trees grown by `randomForest()` using the `ntree` argument:"
   ]
  },
  {
   "cell_type": "markdown",
   "id": "f84bb974-017a-46bd-ac5b-e754903a1dc3",
   "metadata": {},
   "source": [
    "#### 오히려 MSE가 늘어버림.. 상관성 제거를 위해 Random forest 기법 ㄱㄱ"
   ]
  },
  {
   "cell_type": "code",
   "execution_count": 36,
   "id": "e8ba34cf",
   "metadata": {
    "lines_to_next_cell": 2,
    "name": "chunk21"
   },
   "outputs": [
    {
     "data": {
      "text/html": [
       "25.7505477289592"
      ],
      "text/latex": [
       "25.7505477289592"
      ],
      "text/markdown": [
       "25.7505477289592"
      ],
      "text/plain": [
       "[1] 25.75055"
      ]
     },
     "metadata": {},
     "output_type": "display_data"
    }
   ],
   "source": [
    "bag.boston <- randomForest(medv ~ ., data = Boston,\n",
    "    subset = train, mtry = 12, ntree = 25) #25개의 나무를 bootstrap으로 생성하여 합침\n",
    "yhat.bag <- predict(bag.boston, newdata = Boston[-train, ])\n",
    "mean((yhat.bag - boston.test)^2)"
   ]
  },
  {
   "cell_type": "markdown",
   "id": "d49b3629",
   "metadata": {},
   "source": [
    "Growing a random forest proceeds in exactly the same way, except that we use a smaller value of the `mtry` argument. By default, `randomForest()` uses $p/3$ variables when building a random forest of regression trees, and $\\sqrt{p}$ variables when building a random forest of classification trees. Here we use `mtry = 6`."
   ]
  },
  {
   "cell_type": "markdown",
   "id": "0a166925-5d96-4280-bfe1-380e1b4ba7fe",
   "metadata": {},
   "source": [
    "#### m = 6으로 설정한 후 Random Forest 모형 적합"
   ]
  },
  {
   "cell_type": "code",
   "execution_count": 39,
   "id": "f3812de5",
   "metadata": {
    "name": "chunk22"
   },
   "outputs": [
    {
     "data": {
      "text/html": [
       "20.066444227768"
      ],
      "text/latex": [
       "20.066444227768"
      ],
      "text/markdown": [
       "20.066444227768"
      ],
      "text/plain": [
       "[1] 20.06644"
      ]
     },
     "metadata": {},
     "output_type": "display_data"
    }
   ],
   "source": [
    "set.seed(1)\n",
    "rf.boston <- randomForest(medv ~ ., data = Boston,\n",
    "    subset = train, mtry = 6, importance = TRUE) #random forest \n",
    "yhat.rf <- predict(rf.boston, newdata = Boston[-train, ])\n",
    "mean((yhat.rf - boston.test)^2) #test mse가 좀 줄었다."
   ]
  },
  {
   "cell_type": "markdown",
   "id": "5478c88d-d947-4c07-9a49-01721cc25dbb",
   "metadata": {},
   "source": [
    "#### MSE의 감소"
   ]
  },
  {
   "cell_type": "markdown",
   "id": "c50a3d8a",
   "metadata": {},
   "source": [
    "The test set MSE is $20.07$; this indicates that random forests yielded an improvement over bagging in this case.\n",
    "\n",
    "Using the `importance()` function, we can view the importance of each variable."
   ]
  },
  {
   "cell_type": "markdown",
   "id": "6812d2e2-d42d-4053-b415-2e8a62fc6d4a",
   "metadata": {},
   "source": [
    "#### 변수 중요도 확인"
   ]
  },
  {
   "cell_type": "code",
   "execution_count": 41,
   "id": "5eea4c83",
   "metadata": {
    "name": "chunk23"
   },
   "outputs": [
    {
     "data": {
      "text/html": [
       "<table class=\"dataframe\">\n",
       "<caption>A matrix: 12 × 2 of type dbl</caption>\n",
       "<thead>\n",
       "\t<tr><th></th><th scope=col>%IncMSE</th><th scope=col>IncNodePurity</th></tr>\n",
       "</thead>\n",
       "<tbody>\n",
       "\t<tr><th scope=row>crim</th><td>19.435587</td><td>1070.42307</td></tr>\n",
       "\t<tr><th scope=row>zn</th><td> 3.091630</td><td>  82.19257</td></tr>\n",
       "\t<tr><th scope=row>indus</th><td> 6.140529</td><td> 590.09536</td></tr>\n",
       "\t<tr><th scope=row>chas</th><td> 1.370310</td><td>  36.70356</td></tr>\n",
       "\t<tr><th scope=row>nox</th><td>13.263466</td><td> 859.97091</td></tr>\n",
       "\t<tr><th scope=row>rm</th><td>35.094741</td><td>8270.33906</td></tr>\n",
       "\t<tr><th scope=row>age</th><td>15.144821</td><td> 634.31220</td></tr>\n",
       "\t<tr><th scope=row>dis</th><td> 9.163776</td><td> 684.87953</td></tr>\n",
       "\t<tr><th scope=row>rad</th><td> 4.793720</td><td>  83.18719</td></tr>\n",
       "\t<tr><th scope=row>tax</th><td> 4.410714</td><td> 292.20949</td></tr>\n",
       "\t<tr><th scope=row>ptratio</th><td> 8.612780</td><td> 902.20190</td></tr>\n",
       "\t<tr><th scope=row>lstat</th><td>28.725343</td><td>5813.04833</td></tr>\n",
       "</tbody>\n",
       "</table>\n"
      ],
      "text/latex": [
       "A matrix: 12 × 2 of type dbl\n",
       "\\begin{tabular}{r|ll}\n",
       "  & \\%IncMSE & IncNodePurity\\\\\n",
       "\\hline\n",
       "\tcrim & 19.435587 & 1070.42307\\\\\n",
       "\tzn &  3.091630 &   82.19257\\\\\n",
       "\tindus &  6.140529 &  590.09536\\\\\n",
       "\tchas &  1.370310 &   36.70356\\\\\n",
       "\tnox & 13.263466 &  859.97091\\\\\n",
       "\trm & 35.094741 & 8270.33906\\\\\n",
       "\tage & 15.144821 &  634.31220\\\\\n",
       "\tdis &  9.163776 &  684.87953\\\\\n",
       "\trad &  4.793720 &   83.18719\\\\\n",
       "\ttax &  4.410714 &  292.20949\\\\\n",
       "\tptratio &  8.612780 &  902.20190\\\\\n",
       "\tlstat & 28.725343 & 5813.04833\\\\\n",
       "\\end{tabular}\n"
      ],
      "text/markdown": [
       "\n",
       "A matrix: 12 × 2 of type dbl\n",
       "\n",
       "| <!--/--> | %IncMSE | IncNodePurity |\n",
       "|---|---|---|\n",
       "| crim | 19.435587 | 1070.42307 |\n",
       "| zn |  3.091630 |   82.19257 |\n",
       "| indus |  6.140529 |  590.09536 |\n",
       "| chas |  1.370310 |   36.70356 |\n",
       "| nox | 13.263466 |  859.97091 |\n",
       "| rm | 35.094741 | 8270.33906 |\n",
       "| age | 15.144821 |  634.31220 |\n",
       "| dis |  9.163776 |  684.87953 |\n",
       "| rad |  4.793720 |   83.18719 |\n",
       "| tax |  4.410714 |  292.20949 |\n",
       "| ptratio |  8.612780 |  902.20190 |\n",
       "| lstat | 28.725343 | 5813.04833 |\n",
       "\n"
      ],
      "text/plain": [
       "        %IncMSE   IncNodePurity\n",
       "crim    19.435587 1070.42307   \n",
       "zn       3.091630   82.19257   \n",
       "indus    6.140529  590.09536   \n",
       "chas     1.370310   36.70356   \n",
       "nox     13.263466  859.97091   \n",
       "rm      35.094741 8270.33906   \n",
       "age     15.144821  634.31220   \n",
       "dis      9.163776  684.87953   \n",
       "rad      4.793720   83.18719   \n",
       "tax      4.410714  292.20949   \n",
       "ptratio  8.612780  902.20190   \n",
       "lstat   28.725343 5813.04833   "
      ]
     },
     "metadata": {},
     "output_type": "display_data"
    }
   ],
   "source": [
    "importance(rf.boston) #변수 중요도"
   ]
  },
  {
   "cell_type": "markdown",
   "id": "de40401b",
   "metadata": {},
   "source": [
    "Two measures of variable importance are reported. The first is based upon the mean decrease of accuracy in predictions on the out of bag samples when a given variable is permuted. The second is a measure of the total decrease in node impurity that results from splits over that variable, averaged over all trees (this was plotted in Figure 8.9). In the case of regression trees, the node impurity is measured by the training RSS, and for classification trees by the deviance. Plots of these importance measures can be produced using the `varImpPlot()` function."
   ]
  },
  {
   "cell_type": "code",
   "execution_count": 75,
   "id": "ff36ffd5",
   "metadata": {
    "name": "chunk24"
   },
   "outputs": [
    {
     "data": {
      "image/png": "[encoded data removed]",
      "text/plain": [
       "plot without title"
      ]
     },
     "metadata": {
      "image/png": {
       "height": 420,
       "width": 420
      }
     },
     "output_type": "display_data"
    }
   ],
   "source": [
    "varImpPlot(rf.boston) #변수 중요도 그림."
   ]
  },
  {
   "cell_type": "markdown",
   "id": "8676e4c3",
   "metadata": {},
   "source": [
    "The results indicate that across all of the trees considered in the random forest, the wealth of the community (`lstat`) and the house size (`rm`) are by far the two most important variables.\n",
    "\n"
   ]
  },
  {
   "cell_type": "markdown",
   "id": "5fb6a650",
   "metadata": {},
   "source": [
    "## Boosting"
   ]
  },
  {
   "cell_type": "markdown",
   "id": "c25b98ca",
   "metadata": {},
   "source": [
    "Here we use the `gbm` package, and within it the `gbm()` function, to fit boosted regression trees to the `Boston` data set. We run `gbm()` with the option `distribution = \"gaussian\"` since this is a regression problem; if it were a binary classification problem, we would use `distribution = \"bernoulli\"`.\n",
    "The argument `n.trees = 5000` indicates that we want $5000$ trees, and the option `interaction.depth = 4` limits the depth of each tree."
   ]
  },
  {
   "cell_type": "markdown",
   "id": "f453e0ac-be09-4cce-b4b2-6d14d2377e42",
   "metadata": {},
   "source": [
    "#### Boosting 모형 적합"
   ]
  },
  {
   "cell_type": "code",
   "execution_count": 83,
   "id": "10bf0a53",
   "metadata": {
    "name": "chunk25"
   },
   "outputs": [],
   "source": [
    "library(gbm)\n",
    "set.seed(1)\n",
    "boost.boston <- gbm(medv ~ ., data = Boston[train, ],\n",
    "    distribution = \"gaussian\", n.trees = 5000,\n",
    "    interaction.depth = 4) #5000번의 업데이트 , depth = 4"
   ]
  },
  {
   "cell_type": "markdown",
   "id": "3b778fdb",
   "metadata": {},
   "source": [
    "The `summary()` function produces a relative influence plot and also outputs the relative influence statistics."
   ]
  },
  {
   "cell_type": "code",
   "execution_count": 77,
   "id": "b105e768",
   "metadata": {
    "name": "chunk26"
   },
   "outputs": [
    {
     "data": {
      "text/html": [
       "<table class=\"dataframe\">\n",
       "<caption>A data.frame: 12 × 2</caption>\n",
       "<thead>\n",
       "\t<tr><th></th><th scope=col>var</th><th scope=col>rel.inf</th></tr>\n",
       "\t<tr><th></th><th scope=col>&lt;chr&gt;</th><th scope=col>&lt;dbl&gt;</th></tr>\n",
       "</thead>\n",
       "<tbody>\n",
       "\t<tr><th scope=row>rm</th><td>rm     </td><td>44.48249588</td></tr>\n",
       "\t<tr><th scope=row>lstat</th><td>lstat  </td><td>32.70281223</td></tr>\n",
       "\t<tr><th scope=row>crim</th><td>crim   </td><td> 4.85109954</td></tr>\n",
       "\t<tr><th scope=row>dis</th><td>dis    </td><td> 4.48693083</td></tr>\n",
       "\t<tr><th scope=row>nox</th><td>nox    </td><td> 3.75222394</td></tr>\n",
       "\t<tr><th scope=row>age</th><td>age    </td><td> 3.19769210</td></tr>\n",
       "\t<tr><th scope=row>ptratio</th><td>ptratio</td><td> 2.81354826</td></tr>\n",
       "\t<tr><th scope=row>tax</th><td>tax    </td><td> 1.54417603</td></tr>\n",
       "\t<tr><th scope=row>indus</th><td>indus  </td><td> 1.03384666</td></tr>\n",
       "\t<tr><th scope=row>rad</th><td>rad    </td><td> 0.87625748</td></tr>\n",
       "\t<tr><th scope=row>zn</th><td>zn     </td><td> 0.16220479</td></tr>\n",
       "\t<tr><th scope=row>chas</th><td>chas   </td><td> 0.09671228</td></tr>\n",
       "</tbody>\n",
       "</table>\n"
      ],
      "text/latex": [
       "A data.frame: 12 × 2\n",
       "\\begin{tabular}{r|ll}\n",
       "  & var & rel.inf\\\\\n",
       "  & <chr> & <dbl>\\\\\n",
       "\\hline\n",
       "\trm & rm      & 44.48249588\\\\\n",
       "\tlstat & lstat   & 32.70281223\\\\\n",
       "\tcrim & crim    &  4.85109954\\\\\n",
       "\tdis & dis     &  4.48693083\\\\\n",
       "\tnox & nox     &  3.75222394\\\\\n",
       "\tage & age     &  3.19769210\\\\\n",
       "\tptratio & ptratio &  2.81354826\\\\\n",
       "\ttax & tax     &  1.54417603\\\\\n",
       "\tindus & indus   &  1.03384666\\\\\n",
       "\trad & rad     &  0.87625748\\\\\n",
       "\tzn & zn      &  0.16220479\\\\\n",
       "\tchas & chas    &  0.09671228\\\\\n",
       "\\end{tabular}\n"
      ],
      "text/markdown": [
       "\n",
       "A data.frame: 12 × 2\n",
       "\n",
       "| <!--/--> | var &lt;chr&gt; | rel.inf &lt;dbl&gt; |\n",
       "|---|---|---|\n",
       "| rm | rm      | 44.48249588 |\n",
       "| lstat | lstat   | 32.70281223 |\n",
       "| crim | crim    |  4.85109954 |\n",
       "| dis | dis     |  4.48693083 |\n",
       "| nox | nox     |  3.75222394 |\n",
       "| age | age     |  3.19769210 |\n",
       "| ptratio | ptratio |  2.81354826 |\n",
       "| tax | tax     |  1.54417603 |\n",
       "| indus | indus   |  1.03384666 |\n",
       "| rad | rad     |  0.87625748 |\n",
       "| zn | zn      |  0.16220479 |\n",
       "| chas | chas    |  0.09671228 |\n",
       "\n"
      ],
      "text/plain": [
       "        var     rel.inf    \n",
       "rm      rm      44.48249588\n",
       "lstat   lstat   32.70281223\n",
       "crim    crim     4.85109954\n",
       "dis     dis      4.48693083\n",
       "nox     nox      3.75222394\n",
       "age     age      3.19769210\n",
       "ptratio ptratio  2.81354826\n",
       "tax     tax      1.54417603\n",
       "indus   indus    1.03384666\n",
       "rad     rad      0.87625748\n",
       "zn      zn       0.16220479\n",
       "chas    chas     0.09671228"
      ]
     },
     "metadata": {},
     "output_type": "display_data"
    },
    {
     "data": {
      "image/png": "[encoded data removed]",
      "text/plain": [
       "plot without title"
      ]
     },
     "metadata": {
      "image/png": {
       "height": 420,
       "width": 420
      }
     },
     "output_type": "display_data"
    }
   ],
   "source": [
    "summary(boost.boston)"
   ]
  },
  {
   "cell_type": "markdown",
   "id": "c701a16c",
   "metadata": {},
   "source": [
    "We see that `lstat` and `rm` are by far the most important variables. We can also produce *partial dependence plots* for these two variables. These plots illustrate the marginal effect of the selected variables on the response after *integrating* out the other variables. In this case, as we might expect, median house prices are increasing with `rm` and decreasing with `lstat`."
   ]
  },
  {
   "cell_type": "code",
   "execution_count": 79,
   "id": "9d6aa9e3",
   "metadata": {
    "lines_to_next_cell": 2,
    "name": "chunk27"
   },
   "outputs": [
    {
     "data": {
      "image/png": "[encoded data removed]",
      "text/plain": [
       "plot without title"
      ]
     },
     "metadata": {
      "image/png": {
       "height": 420,
       "width": 420
      }
     },
     "output_type": "display_data"
    },
    {
     "data": {
      "image/png": "[encoded data removed]",
      "text/plain": [
       "plot without title"
      ]
     },
     "metadata": {
      "image/png": {
       "height": 420,
       "width": 420
      }
     },
     "output_type": "display_data"
    }
   ],
   "source": [
    "#partial dependence plot: 각 예측변수의 marinal effect를 보여줌\n",
    "#즉 그 값이 증가하면 반응변수 값이 어떻게 변하는지 additive하게 보여주는 것\n",
    "plot(boost.boston, i = \"rm\")\n",
    "plot(boost.boston, i = \"lstat\")"
   ]
  },
  {
   "cell_type": "markdown",
   "id": "fd873c70",
   "metadata": {},
   "source": [
    "We now use the boosted model to predict `medv` on the test set:"
   ]
  },
  {
   "cell_type": "markdown",
   "id": "2e29a453-e2a1-4570-8059-fb33bb243025",
   "metadata": {},
   "source": [
    "#### boosting test data로 예측, MSE 확인"
   ]
  },
  {
   "cell_type": "code",
   "execution_count": 80,
   "id": "3b66dc97",
   "metadata": {
    "name": "chunk28"
   },
   "outputs": [
    {
     "data": {
      "text/html": [
       "18.3905671345843"
      ],
      "text/latex": [
       "18.3905671345843"
      ],
      "text/markdown": [
       "18.3905671345843"
      ],
      "text/plain": [
       "[1] 18.39057"
      ]
     },
     "metadata": {},
     "output_type": "display_data"
    }
   ],
   "source": [
    "yhat.boost <- predict(boost.boston,\n",
    "    newdata = Boston[-train, ], n.trees = 5000) #test 데이터를 통해 예측\n",
    "mean((yhat.boost - boston.test)^2) #test mse"
   ]
  },
  {
   "cell_type": "markdown",
   "id": "c1b2c4d4",
   "metadata": {},
   "source": [
    "The test MSE obtained is $18.39$: this is superior to the test MSE of random forests and bagging. If we want to, we can perform boosting with a different value of the shrinkage parameter $\\lambda$ in (8.10). The default value is $0.001$, but this is easily modified.\n",
    "Here we take $\\lambda=0.2$."
   ]
  },
  {
   "cell_type": "markdown",
   "id": "21618d23-1cf6-463c-9fb6-a2b902efaf33",
   "metadata": {},
   "source": [
    "#### 여기도 tuning parameter 있음 숫자가 커지면 속도가 빨라짐"
   ]
  },
  {
   "cell_type": "code",
   "execution_count": 82,
   "id": "6c2bd161",
   "metadata": {
    "name": "chunk29"
   },
   "outputs": [
    {
     "data": {
      "text/html": [
       "16.5477811754191"
      ],
      "text/latex": [
       "16.5477811754191"
      ],
      "text/markdown": [
       "16.5477811754191"
      ],
      "text/plain": [
       "[1] 16.54778"
      ]
     },
     "metadata": {},
     "output_type": "display_data"
    }
   ],
   "source": [
    "boost.boston <- gbm(medv ~ ., data = Boston[train, ],\n",
    "    distribution = \"gaussian\", n.trees = 5000,\n",
    "    interaction.depth = 4, shrinkage = 0.2, verbose = F)\n",
    "yhat.boost <- predict(boost.boston,\n",
    "    newdata = Boston[-train, ], n.trees = 5000)\n",
    "mean((yhat.boost - boston.test)^2)"
   ]
  },
  {
   "cell_type": "markdown",
   "id": "1fa876a0",
   "metadata": {},
   "source": [
    "In this case, using $\\lambda=0.2$ leads to a lower test MSE than $\\lambda=0.001$.\n",
    "\n",
    "\n"
   ]
  },
  {
   "cell_type": "markdown",
   "id": "3e67b97b-b161-4756-ab11-8173083f3070",
   "metadata": {},
   "source": [
    "# 여기까지!"
   ]
  },
  {
   "cell_type": "markdown",
   "id": "57e27edc",
   "metadata": {},
   "source": [
    "## Bayesian Additive Regression Trees\n"
   ]
  },
  {
   "cell_type": "markdown",
   "id": "376acf38",
   "metadata": {},
   "source": [
    "In this section  we use the `BART` package, and within it the `gbart()` function, to fit a Bayesian additive regression tree model to the `Boston` housing data set. The `gbart()` function  is\n",
    "designed for quantitative outcome variables. For binary outcomes,   `lbart()`  and  `pbart()`  are available.\n",
    "\n",
    "To run the `gbart()` function, we must first create matrices of predictors for the training and test data. We run BART with default settings."
   ]
  },
  {
   "cell_type": "code",
   "execution_count": 39,
   "id": "7de2c089",
   "metadata": {
    "name": "chunk30"
   },
   "outputs": [
    {
     "name": "stderr",
     "output_type": "stream",
     "text": [
      "Warning message:\n",
      "\"패키지 'BART'는 R 버전 4.1.3에서 작성되었습니다\"\n",
      "필요한 패키지를 로딩중입니다: nlme\n",
      "\n",
      "필요한 패키지를 로딩중입니다: nnet\n",
      "\n",
      "필요한 패키지를 로딩중입니다: survival\n",
      "\n"
     ]
    },
    {
     "name": "stdout",
     "output_type": "stream",
     "text": [
      "*****Calling gbart: type=1\n",
      "*****Data:\n",
      "data:n,p,np: 253, 12, 253\n",
      "y1,yn: 0.213439, -5.486561\n",
      "x1,x[n*p]: 0.109590, 20.080000\n",
      "xp1,xp[np*p]: 0.027310, 7.880000\n",
      "*****Number of Trees: 200\n",
      "*****Number of Cut Points: 100 ... 100\n",
      "*****burn,nd,thin: 100,1000,1\n",
      "*****Prior:beta,alpha,tau,nu,lambda,offset: 2,0.95,0.795495,3,3.71636,21.7866\n",
      "*****sigma: 4.367914\n",
      "*****w (weights): 1.000000 ... 1.000000\n",
      "*****Dirichlet:sparse,theta,omega,a,b,rho,augment: 0,0,1,0.5,1,12,0\n",
      "*****printevery: 100\n",
      "\n",
      "MCMC\n",
      "done 0 (out of 1100)\n",
      "done 100 (out of 1100)\n",
      "done 200 (out of 1100)\n",
      "done 300 (out of 1100)\n",
      "done 400 (out of 1100)\n",
      "done 500 (out of 1100)\n",
      "done 600 (out of 1100)\n",
      "done 700 (out of 1100)\n",
      "done 800 (out of 1100)\n",
      "done 900 (out of 1100)\n",
      "done 1000 (out of 1100)\n",
      "time: 5s\n",
      "trcnt,tecnt: 1000,1000\n"
     ]
    }
   ],
   "source": [
    "library(BART)\n",
    "x <- Boston[, 1:12]\n",
    "y <- Boston[, \"medv\"]\n",
    "xtrain <- x[train, ]\n",
    "ytrain <- y[train]\n",
    "xtest <- x[-train, ]\n",
    "ytest <- y[-train]\n",
    "set.seed(1)\n",
    "bartfit <- gbart(xtrain, ytrain, x.test = xtest)"
   ]
  },
  {
   "cell_type": "markdown",
   "id": "c503136b",
   "metadata": {},
   "source": [
    "Next we compute the test error."
   ]
  },
  {
   "cell_type": "code",
   "execution_count": 40,
   "id": "c7e7eb99",
   "metadata": {
    "lines_to_next_cell": 2,
    "name": "chunk31"
   },
   "outputs": [
    {
     "data": {
      "text/html": [
       "15.9471818576973"
      ],
      "text/latex": [
       "15.9471818576973"
      ],
      "text/markdown": [
       "15.9471818576973"
      ],
      "text/plain": [
       "[1] 15.94718"
      ]
     },
     "metadata": {},
     "output_type": "display_data"
    }
   ],
   "source": [
    "yhat.bart <- bartfit$yhat.test.mean\n",
    "mean((ytest - yhat.bart)^2)"
   ]
  },
  {
   "cell_type": "markdown",
   "id": "ae7f72f5",
   "metadata": {},
   "source": [
    "On this data set, the test error of BART is lower than the test error of random forests and boosting.\n",
    "\n",
    "Now we can check how many times each variable appeared in the collection of trees."
   ]
  },
  {
   "cell_type": "code",
   "execution_count": 41,
   "id": "0b3133e5",
   "metadata": {
    "lines_to_next_cell": 0,
    "name": "chunk32"
   },
   "outputs": [
    {
     "data": {
      "text/html": [
       "<style>\n",
       ".dl-inline {width: auto; margin:0; padding: 0}\n",
       ".dl-inline>dt, .dl-inline>dd {float: none; width: auto; display: inline-block}\n",
       ".dl-inline>dt::after {content: \":\\0020\"; padding-right: .5ex}\n",
       ".dl-inline>dt:not(:first-of-type) {padding-left: .5ex}\n",
       "</style><dl class=dl-inline><dt>nox</dt><dd>22.952</dd><dt>lstat</dt><dd>21.329</dd><dt>tax</dt><dd>21.25</dd><dt>rad</dt><dd>20.781</dd><dt>rm</dt><dd>19.89</dd><dt>indus</dt><dd>19.825</dd><dt>chas</dt><dd>19.051</dd><dt>ptratio</dt><dd>18.976</dd><dt>age</dt><dd>18.274</dd><dt>zn</dt><dd>15.952</dd><dt>dis</dt><dd>14.457</dd><dt>crim</dt><dd>11.007</dd></dl>\n"
      ],
      "text/latex": [
       "\\begin{description*}\n",
       "\\item[nox] 22.952\n",
       "\\item[lstat] 21.329\n",
       "\\item[tax] 21.25\n",
       "\\item[rad] 20.781\n",
       "\\item[rm] 19.89\n",
       "\\item[indus] 19.825\n",
       "\\item[chas] 19.051\n",
       "\\item[ptratio] 18.976\n",
       "\\item[age] 18.274\n",
       "\\item[zn] 15.952\n",
       "\\item[dis] 14.457\n",
       "\\item[crim] 11.007\n",
       "\\end{description*}\n"
      ],
      "text/markdown": [
       "nox\n",
       ":   22.952lstat\n",
       ":   21.329tax\n",
       ":   21.25rad\n",
       ":   20.781rm\n",
       ":   19.89indus\n",
       ":   19.825chas\n",
       ":   19.051ptratio\n",
       ":   18.976age\n",
       ":   18.274zn\n",
       ":   15.952dis\n",
       ":   14.457crim\n",
       ":   11.007\n",
       "\n"
      ],
      "text/plain": [
       "    nox   lstat     tax     rad      rm   indus    chas ptratio     age      zn \n",
       " 22.952  21.329  21.250  20.781  19.890  19.825  19.051  18.976  18.274  15.952 \n",
       "    dis    crim \n",
       " 14.457  11.007 "
      ]
     },
     "metadata": {},
     "output_type": "display_data"
    }
   ],
   "source": [
    "ord <- order(bartfit$varcount.mean, decreasing = T)\n",
    "bartfit$varcount.mean[ord]"
   ]
  },
  {
   "cell_type": "markdown",
   "id": "ee05b79b",
   "metadata": {},
   "source": [
    "\n",
    "\n",
    "\n",
    "\n",
    "\n",
    "\n",
    "\n",
    "\n",
    "\n",
    "\n"
   ]
  }
 ],
 "metadata": {
  "jupytext": {
   "cell_metadata_filter": "tags,name,-all"
  },
  "kernelspec": {
   "display_name": "R",
   "language": "R",
   "name": "ir"
  },
  "language_info": {
   "codemirror_mode": "r",
   "file_extension": ".r",
   "mimetype": "text/x-r-source",
   "name": "R",
   "pygments_lexer": "r",
   "version": "4.1.1"
  }
 },
 "nbformat": 4,
 "nbformat_minor": 5
}
