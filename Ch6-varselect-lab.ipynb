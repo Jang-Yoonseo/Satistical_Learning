{
 "cells": [
  {
   "cell_type": "code",
   "execution_count": 1,
   "id": "b0194168",
   "metadata": {
    "name": "setup",
    "tags": [
     "remove_input"
    ]
   },
   "outputs": [],
   "source": [
    "knitr::opts_chunk$set(error = TRUE)"
   ]
  },
  {
   "cell_type": "markdown",
   "id": "ddd06bad",
   "metadata": {},
   "source": [
    "# Linear Models and Regularization Methods\n",
    "## Subset Selection Methods\n",
    "\n",
    "### Best Subset Selection"
   ]
  },
  {
   "cell_type": "markdown",
   "id": "587de2f5",
   "metadata": {},
   "source": [
    "Here we apply the best subset selection approach to the `Hitters` data.\n",
    "We wish to predict a baseball player's `Salary` on the basis of various statistics associated with performance in the previous year.\n",
    "\n",
    "First of all, we note that the `Salary` variable is missing for some of the players.  The `is.na()` function can be used to identify the missing observations. It returns a vector of the same length as the input vector, with a `TRUE` for any elements that are missing, and a `FALSE` for non-missing elements.\n",
    " The `sum()` function can then be used to count all of the missing elements."
   ]
  },
  {
   "cell_type": "code",
   "execution_count": 2,
   "id": "21433ee4",
   "metadata": {
    "name": "chunk1"
   },
   "outputs": [
    {
     "data": {
      "text/html": [
       "<style>\n",
       ".list-inline {list-style: none; margin:0; padding: 0}\n",
       ".list-inline>li {display: inline-block}\n",
       ".list-inline>li:not(:last-child)::after {content: \"\\00b7\"; padding: 0 .5ex}\n",
       "</style>\n",
       "<ol class=list-inline><li>'AtBat'</li><li>'Hits'</li><li>'HmRun'</li><li>'Runs'</li><li>'RBI'</li><li>'Walks'</li><li>'Years'</li><li>'CAtBat'</li><li>'CHits'</li><li>'CHmRun'</li><li>'CRuns'</li><li>'CRBI'</li><li>'CWalks'</li><li>'League'</li><li>'Division'</li><li>'PutOuts'</li><li>'Assists'</li><li>'Errors'</li><li>'Salary'</li><li>'NewLeague'</li></ol>\n"
      ],
      "text/latex": [
       "\\begin{enumerate*}\n",
       "\\item 'AtBat'\n",
       "\\item 'Hits'\n",
       "\\item 'HmRun'\n",
       "\\item 'Runs'\n",
       "\\item 'RBI'\n",
       "\\item 'Walks'\n",
       "\\item 'Years'\n",
       "\\item 'CAtBat'\n",
       "\\item 'CHits'\n",
       "\\item 'CHmRun'\n",
       "\\item 'CRuns'\n",
       "\\item 'CRBI'\n",
       "\\item 'CWalks'\n",
       "\\item 'League'\n",
       "\\item 'Division'\n",
       "\\item 'PutOuts'\n",
       "\\item 'Assists'\n",
       "\\item 'Errors'\n",
       "\\item 'Salary'\n",
       "\\item 'NewLeague'\n",
       "\\end{enumerate*}\n"
      ],
      "text/markdown": [
       "1. 'AtBat'\n",
       "2. 'Hits'\n",
       "3. 'HmRun'\n",
       "4. 'Runs'\n",
       "5. 'RBI'\n",
       "6. 'Walks'\n",
       "7. 'Years'\n",
       "8. 'CAtBat'\n",
       "9. 'CHits'\n",
       "10. 'CHmRun'\n",
       "11. 'CRuns'\n",
       "12. 'CRBI'\n",
       "13. 'CWalks'\n",
       "14. 'League'\n",
       "15. 'Division'\n",
       "16. 'PutOuts'\n",
       "17. 'Assists'\n",
       "18. 'Errors'\n",
       "19. 'Salary'\n",
       "20. 'NewLeague'\n",
       "\n",
       "\n"
      ],
      "text/plain": [
       " [1] \"AtBat\"     \"Hits\"      \"HmRun\"     \"Runs\"      \"RBI\"       \"Walks\"    \n",
       " [7] \"Years\"     \"CAtBat\"    \"CHits\"     \"CHmRun\"    \"CRuns\"     \"CRBI\"     \n",
       "[13] \"CWalks\"    \"League\"    \"Division\"  \"PutOuts\"   \"Assists\"   \"Errors\"   \n",
       "[19] \"Salary\"    \"NewLeague\""
      ]
     },
     "metadata": {},
     "output_type": "display_data"
    },
    {
     "data": {
      "text/html": [
       "<style>\n",
       ".list-inline {list-style: none; margin:0; padding: 0}\n",
       ".list-inline>li {display: inline-block}\n",
       ".list-inline>li:not(:last-child)::after {content: \"\\00b7\"; padding: 0 .5ex}\n",
       "</style>\n",
       "<ol class=list-inline><li>322</li><li>20</li></ol>\n"
      ],
      "text/latex": [
       "\\begin{enumerate*}\n",
       "\\item 322\n",
       "\\item 20\n",
       "\\end{enumerate*}\n"
      ],
      "text/markdown": [
       "1. 322\n",
       "2. 20\n",
       "\n",
       "\n"
      ],
      "text/plain": [
       "[1] 322  20"
      ]
     },
     "metadata": {},
     "output_type": "display_data"
    },
    {
     "data": {
      "text/html": [
       "59"
      ],
      "text/latex": [
       "59"
      ],
      "text/markdown": [
       "59"
      ],
      "text/plain": [
       "[1] 59"
      ]
     },
     "metadata": {},
     "output_type": "display_data"
    }
   ],
   "source": [
    "library(ISLR2)\n",
    "names(Hitters) #변수명\n",
    "dim(Hitters) #차원\n",
    "sum(is.na(Hitters$Salary)) #결측치 수"
   ]
  },
  {
   "cell_type": "markdown",
   "id": "6c8b03bc",
   "metadata": {},
   "source": [
    "Hence we see that `Salary` is missing for $59$ players. The `na.omit()` function removes all of the rows that have missing values in any variable."
   ]
  },
  {
   "cell_type": "code",
   "execution_count": 3,
   "id": "16606837",
   "metadata": {
    "lines_to_next_cell": 2,
    "name": "chunk2"
   },
   "outputs": [
    {
     "data": {
      "text/html": [
       "<style>\n",
       ".list-inline {list-style: none; margin:0; padding: 0}\n",
       ".list-inline>li {display: inline-block}\n",
       ".list-inline>li:not(:last-child)::after {content: \"\\00b7\"; padding: 0 .5ex}\n",
       "</style>\n",
       "<ol class=list-inline><li>263</li><li>20</li></ol>\n"
      ],
      "text/latex": [
       "\\begin{enumerate*}\n",
       "\\item 263\n",
       "\\item 20\n",
       "\\end{enumerate*}\n"
      ],
      "text/markdown": [
       "1. 263\n",
       "2. 20\n",
       "\n",
       "\n"
      ],
      "text/plain": [
       "[1] 263  20"
      ]
     },
     "metadata": {},
     "output_type": "display_data"
    },
    {
     "data": {
      "text/html": [
       "0"
      ],
      "text/latex": [
       "0"
      ],
      "text/markdown": [
       "0"
      ],
      "text/plain": [
       "[1] 0"
      ]
     },
     "metadata": {},
     "output_type": "display_data"
    }
   ],
   "source": [
    "Hitters <- na.omit(Hitters) #결측치 삭제\n",
    "dim(Hitters)\n",
    "sum(is.na(Hitters))"
   ]
  },
  {
   "cell_type": "markdown",
   "id": "3fa276de",
   "metadata": {},
   "source": [
    "The `regsubsets()` function (part of the `leaps` library) performs best subset selection by identifying the best model that contains a given number of predictors, where *best* is quantified using RSS. The syntax is the same as for `lm()`. The `summary()` command outputs the best set of variables for each model size."
   ]
  },
  {
   "cell_type": "code",
   "execution_count": 4,
   "id": "27ef6c01",
   "metadata": {
    "name": "chunk3"
   },
   "outputs": [
    {
     "name": "stderr",
     "output_type": "stream",
     "text": [
      "Warning message:\n",
      "\"패키지 'leaps'는 R 버전 4.1.3에서 작성되었습니다\"\n"
     ]
    },
    {
     "data": {
      "text/plain": [
       "Subset selection object\n",
       "Call: regsubsets.formula(Salary ~ ., Hitters)\n",
       "19 Variables  (and intercept)\n",
       "           Forced in Forced out\n",
       "AtBat          FALSE      FALSE\n",
       "Hits           FALSE      FALSE\n",
       "HmRun          FALSE      FALSE\n",
       "Runs           FALSE      FALSE\n",
       "RBI            FALSE      FALSE\n",
       "Walks          FALSE      FALSE\n",
       "Years          FALSE      FALSE\n",
       "CAtBat         FALSE      FALSE\n",
       "CHits          FALSE      FALSE\n",
       "CHmRun         FALSE      FALSE\n",
       "CRuns          FALSE      FALSE\n",
       "CRBI           FALSE      FALSE\n",
       "CWalks         FALSE      FALSE\n",
       "LeagueN        FALSE      FALSE\n",
       "DivisionW      FALSE      FALSE\n",
       "PutOuts        FALSE      FALSE\n",
       "Assists        FALSE      FALSE\n",
       "Errors         FALSE      FALSE\n",
       "NewLeagueN     FALSE      FALSE\n",
       "1 subsets of each size up to 8\n",
       "Selection Algorithm: exhaustive\n",
       "         AtBat Hits HmRun Runs RBI Walks Years CAtBat CHits CHmRun CRuns CRBI\n",
       "1  ( 1 ) \" \"   \" \"  \" \"   \" \"  \" \" \" \"   \" \"   \" \"    \" \"   \" \"    \" \"   \"*\" \n",
       "2  ( 1 ) \" \"   \"*\"  \" \"   \" \"  \" \" \" \"   \" \"   \" \"    \" \"   \" \"    \" \"   \"*\" \n",
       "3  ( 1 ) \" \"   \"*\"  \" \"   \" \"  \" \" \" \"   \" \"   \" \"    \" \"   \" \"    \" \"   \"*\" \n",
       "4  ( 1 ) \" \"   \"*\"  \" \"   \" \"  \" \" \" \"   \" \"   \" \"    \" \"   \" \"    \" \"   \"*\" \n",
       "5  ( 1 ) \"*\"   \"*\"  \" \"   \" \"  \" \" \" \"   \" \"   \" \"    \" \"   \" \"    \" \"   \"*\" \n",
       "6  ( 1 ) \"*\"   \"*\"  \" \"   \" \"  \" \" \"*\"   \" \"   \" \"    \" \"   \" \"    \" \"   \"*\" \n",
       "7  ( 1 ) \" \"   \"*\"  \" \"   \" \"  \" \" \"*\"   \" \"   \"*\"    \"*\"   \"*\"    \" \"   \" \" \n",
       "8  ( 1 ) \"*\"   \"*\"  \" \"   \" \"  \" \" \"*\"   \" \"   \" \"    \" \"   \"*\"    \"*\"   \" \" \n",
       "         CWalks LeagueN DivisionW PutOuts Assists Errors NewLeagueN\n",
       "1  ( 1 ) \" \"    \" \"     \" \"       \" \"     \" \"     \" \"    \" \"       \n",
       "2  ( 1 ) \" \"    \" \"     \" \"       \" \"     \" \"     \" \"    \" \"       \n",
       "3  ( 1 ) \" \"    \" \"     \" \"       \"*\"     \" \"     \" \"    \" \"       \n",
       "4  ( 1 ) \" \"    \" \"     \"*\"       \"*\"     \" \"     \" \"    \" \"       \n",
       "5  ( 1 ) \" \"    \" \"     \"*\"       \"*\"     \" \"     \" \"    \" \"       \n",
       "6  ( 1 ) \" \"    \" \"     \"*\"       \"*\"     \" \"     \" \"    \" \"       \n",
       "7  ( 1 ) \" \"    \" \"     \"*\"       \"*\"     \" \"     \" \"    \" \"       \n",
       "8  ( 1 ) \"*\"    \" \"     \"*\"       \"*\"     \" \"     \" \"    \" \"       "
      ]
     },
     "metadata": {},
     "output_type": "display_data"
    }
   ],
   "source": [
    "library(leaps)\n",
    "regfit.full <- regsubsets(Salary ~ ., Hitters) #best subset selection\n",
    "summary(regfit.full) #각 모형의 크기에 대해 가장 좋은 결과를 출력"
   ]
  },
  {
   "cell_type": "markdown",
   "id": "c68b1dc9",
   "metadata": {},
   "source": [
    "An asterisk indicates that a given variable is included in the corresponding model.\n",
    "For instance, this output indicates that the best two-variable model contains only `Hits` and `CRBI`.\n",
    "By default, `regsubsets()` only reports results up to the best eight-variable model. But the  `nvmax` option can be used in order to return as many variables as are desired. Here we fit up to a 19-variable model."
   ]
  },
  {
   "cell_type": "code",
   "execution_count": 5,
   "id": "d2ad4a84",
   "metadata": {
    "lines_to_next_cell": 2,
    "name": "chunk4"
   },
   "outputs": [],
   "source": [
    "regfit.full <- regsubsets(Salary ~ ., data = Hitters,\n",
    "    nvmax = 19) #최대 모형의 크기를 19로 선택, (default 수치는 8임)\n",
    "reg.summary <- summary(regfit.full)"
   ]
  },
  {
   "cell_type": "markdown",
   "id": "70d681c2",
   "metadata": {},
   "source": [
    "The `summary()` function also returns $R^2$, RSS, adjusted $R^2$, $C_p$, and BIC. We can examine these to try to select the *best* overall model."
   ]
  },
  {
   "cell_type": "code",
   "execution_count": 6,
   "id": "73b86a17",
   "metadata": {
    "name": "chunk5"
   },
   "outputs": [
    {
     "data": {
      "text/html": [
       "<style>\n",
       ".list-inline {list-style: none; margin:0; padding: 0}\n",
       ".list-inline>li {display: inline-block}\n",
       ".list-inline>li:not(:last-child)::after {content: \"\\00b7\"; padding: 0 .5ex}\n",
       "</style>\n",
       "<ol class=list-inline><li>'which'</li><li>'rsq'</li><li>'rss'</li><li>'adjr2'</li><li>'cp'</li><li>'bic'</li><li>'outmat'</li><li>'obj'</li></ol>\n"
      ],
      "text/latex": [
       "\\begin{enumerate*}\n",
       "\\item 'which'\n",
       "\\item 'rsq'\n",
       "\\item 'rss'\n",
       "\\item 'adjr2'\n",
       "\\item 'cp'\n",
       "\\item 'bic'\n",
       "\\item 'outmat'\n",
       "\\item 'obj'\n",
       "\\end{enumerate*}\n"
      ],
      "text/markdown": [
       "1. 'which'\n",
       "2. 'rsq'\n",
       "3. 'rss'\n",
       "4. 'adjr2'\n",
       "5. 'cp'\n",
       "6. 'bic'\n",
       "7. 'outmat'\n",
       "8. 'obj'\n",
       "\n",
       "\n"
      ],
      "text/plain": [
       "[1] \"which\"  \"rsq\"    \"rss\"    \"adjr2\"  \"cp\"     \"bic\"    \"outmat\" \"obj\"   "
      ]
     },
     "metadata": {},
     "output_type": "display_data"
    }
   ],
   "source": [
    "names(reg.summary) #모델 결과에 사용 가능한 측도들."
   ]
  },
  {
   "cell_type": "markdown",
   "id": "629149c6",
   "metadata": {},
   "source": [
    "For instance, we see that the $R^2$ statistic increases from $32 \\%$, when only one variable is included in the model, to almost $55 \\%$, when all variables are included. As expected, the $R^2$ statistic increases monotonically as more variables are included."
   ]
  },
  {
   "cell_type": "code",
   "execution_count": 7,
   "id": "fbe02b10",
   "metadata": {
    "name": "chunk6"
   },
   "outputs": [
    {
     "data": {
      "text/html": [
       "<style>\n",
       ".list-inline {list-style: none; margin:0; padding: 0}\n",
       ".list-inline>li {display: inline-block}\n",
       ".list-inline>li:not(:last-child)::after {content: \"\\00b7\"; padding: 0 .5ex}\n",
       "</style>\n",
       "<ol class=list-inline><li>0.321450088667894</li><li>0.425223746466778</li><li>0.451429415717957</li><li>0.475406653394787</li><li>0.490803615963518</li><li>0.508714557358996</li><li>0.514122682361273</li><li>0.528556860302574</li><li>0.534612447792431</li><li>0.540494950940798</li><li>0.54261532542542</li><li>0.543630208632163</li><li>0.544457014231977</li><li>0.545216356301489</li><li>0.545469230681164</li><li>0.54576555748528</li><li>0.545951808076699</li><li>0.546094522341906</li><li>0.546115861912532</li></ol>\n"
      ],
      "text/latex": [
       "\\begin{enumerate*}\n",
       "\\item 0.321450088667894\n",
       "\\item 0.425223746466778\n",
       "\\item 0.451429415717957\n",
       "\\item 0.475406653394787\n",
       "\\item 0.490803615963518\n",
       "\\item 0.508714557358996\n",
       "\\item 0.514122682361273\n",
       "\\item 0.528556860302574\n",
       "\\item 0.534612447792431\n",
       "\\item 0.540494950940798\n",
       "\\item 0.54261532542542\n",
       "\\item 0.543630208632163\n",
       "\\item 0.544457014231977\n",
       "\\item 0.545216356301489\n",
       "\\item 0.545469230681164\n",
       "\\item 0.54576555748528\n",
       "\\item 0.545951808076699\n",
       "\\item 0.546094522341906\n",
       "\\item 0.546115861912532\n",
       "\\end{enumerate*}\n"
      ],
      "text/markdown": [
       "1. 0.321450088667894\n",
       "2. 0.425223746466778\n",
       "3. 0.451429415717957\n",
       "4. 0.475406653394787\n",
       "5. 0.490803615963518\n",
       "6. 0.508714557358996\n",
       "7. 0.514122682361273\n",
       "8. 0.528556860302574\n",
       "9. 0.534612447792431\n",
       "10. 0.540494950940798\n",
       "11. 0.54261532542542\n",
       "12. 0.543630208632163\n",
       "13. 0.544457014231977\n",
       "14. 0.545216356301489\n",
       "15. 0.545469230681164\n",
       "16. 0.54576555748528\n",
       "17. 0.545951808076699\n",
       "18. 0.546094522341906\n",
       "19. 0.546115861912532\n",
       "\n",
       "\n"
      ],
      "text/plain": [
       " [1] 0.3214501 0.4252237 0.4514294 0.4754067 0.4908036 0.5087146 0.5141227\n",
       " [8] 0.5285569 0.5346124 0.5404950 0.5426153 0.5436302 0.5444570 0.5452164\n",
       "[15] 0.5454692 0.5457656 0.5459518 0.5460945 0.5461159"
      ]
     },
     "metadata": {},
     "output_type": "display_data"
    }
   ],
   "source": [
    "reg.summary$rsq #모형의 크기를 1 ~ 19로 변화시키며 산출된 수정결정계수 값들"
   ]
  },
  {
   "cell_type": "markdown",
   "id": "f50d7269",
   "metadata": {},
   "source": [
    "Plotting RSS, adjusted $R^2$, $C_p$, and BIC for all of the models at once will help us decide which model to select. Note the `type = \"l\"` option tells `R` to connect the plotted points with lines."
   ]
  },
  {
   "cell_type": "code",
   "execution_count": 9,
   "id": "1f747fdd",
   "metadata": {
    "name": "chunk7"
   },
   "outputs": [
    {
     "data": {
      "image/png": "[encoded data removed]",
      "text/plain": [
       "plot without title"
      ]
     },
     "metadata": {
      "image/png": {
       "height": 420,
       "width": 420
      }
     },
     "output_type": "display_data"
    }
   ],
   "source": [
    "par(mfrow = c(1, 2)) #모형의 크기(변수의 개수)에 따른 측도값의 변화\n",
    "plot(reg.summary$rss, xlab = \"Number of Variables\",\n",
    "    ylab = \"RSS\", type = \"l\") #잔차 제곱합\n",
    "plot(reg.summary$adjr2, xlab = \"Number of Variables\",\n",
    "    ylab = \"Adjusted RSq\", type = \"l\") #수정결정계수"
   ]
  },
  {
   "cell_type": "markdown",
   "id": "5d1531f4",
   "metadata": {},
   "source": [
    "The `points()` command works like the `plot()` command, except that it puts points on a plot that has already been created, instead of creating a new plot. The `which.max()` function can be used to identify the location of the maximum point of a vector. We will now plot a red dot to indicate the model with the largest adjusted $R^2$ statistic."
   ]
  },
  {
   "cell_type": "code",
   "execution_count": 10,
   "id": "ee6cb59b",
   "metadata": {
    "name": "chunk8"
   },
   "outputs": [
    {
     "data": {
      "text/html": [
       "11"
      ],
      "text/latex": [
       "11"
      ],
      "text/markdown": [
       "11"
      ],
      "text/plain": [
       "[1] 11"
      ]
     },
     "metadata": {},
     "output_type": "display_data"
    },
    {
     "data": {
      "image/png": "[encoded data removed]",
      "text/plain": [
       "plot without title"
      ]
     },
     "metadata": {
      "image/png": {
       "height": 420,
       "width": 420
      }
     },
     "output_type": "display_data"
    }
   ],
   "source": [
    "which.max(reg.summary$adjr2)\n",
    "plot(reg.summary$adjr2, xlab = \"Number of Variables\",\n",
    "    ylab = \"Adjusted RSq\", type = \"l\")\n",
    "points(11, reg.summary$adjr2[11], col = \"red\", cex = 2, \n",
    "    pch = 20) #수정결정계수가 최대가 되는 지점 표시"
   ]
  },
  {
   "cell_type": "markdown",
   "id": "ac33fef5",
   "metadata": {},
   "source": [
    "In a similar fashion we can plot the $C_p$ and BIC statistics, and indicate the models with the smallest statistic using `which.min()`."
   ]
  },
  {
   "cell_type": "code",
   "execution_count": 11,
   "id": "e106205a",
   "metadata": {
    "lines_to_next_cell": 2,
    "name": "chunk9"
   },
   "outputs": [
    {
     "data": {
      "text/html": [
       "10"
      ],
      "text/latex": [
       "10"
      ],
      "text/markdown": [
       "10"
      ],
      "text/plain": [
       "[1] 10"
      ]
     },
     "metadata": {},
     "output_type": "display_data"
    },
    {
     "data": {
      "text/html": [
       "6"
      ],
      "text/latex": [
       "6"
      ],
      "text/markdown": [
       "6"
      ],
      "text/plain": [
       "[1] 6"
      ]
     },
     "metadata": {},
     "output_type": "display_data"
    },
    {
     "data": {
      "image/png": "[encoded data removed]",
      "text/plain": [
       "plot without title"
      ]
     },
     "metadata": {
      "image/png": {
       "height": 420,
       "width": 420
      }
     },
     "output_type": "display_data"
    },
    {
     "data": {
      "image/png": "[encoded data removed]",
      "text/plain": [
       "plot without title"
      ]
     },
     "metadata": {
      "image/png": {
       "height": 420,
       "width": 420
      }
     },
     "output_type": "display_data"
    }
   ],
   "source": [
    "plot(reg.summary$cp, xlab = \"Number of Variables\",\n",
    "    ylab = \"Cp\", type = \"l\")\n",
    "which.min(reg.summary$cp) #Cp 통계량 최저점\n",
    "points(10, reg.summary$cp[10], col = \"red\", cex = 2,\n",
    "    pch = 20)\n",
    "which.min(reg.summary$bic) #BIC 최저점\n",
    "plot(reg.summary$bic, xlab = \"Number of Variables\",\n",
    "    ylab = \"BIC\", type = \"l\") #BIC\n",
    "points(6, reg.summary$bic[6], col = \"red\", cex = 2,\n",
    "    pch = 20)"
   ]
  },
  {
   "cell_type": "markdown",
   "id": "e1459e33",
   "metadata": {},
   "source": [
    "The `regsubsets()` function has a built-in `plot()` command which can be used to display the selected variables for the best model with a given number of predictors, ranked according to the BIC, $C_p$, adjusted $R^2$, or AIC.\n",
    "To find out more about this function, type `?plot.regsubsets`."
   ]
  },
  {
   "cell_type": "code",
   "execution_count": 12,
   "id": "97f26470",
   "metadata": {
    "name": "chunk10"
   },
   "outputs": [
    {
     "data": {
      "image/png": "[encoded data removed]",
      "text/plain": [
       "plot without title"
      ]
     },
     "metadata": {
      "image/png": {
       "height": 420,
       "width": 420
      }
     },
     "output_type": "display_data"
    },
    {
     "data": {
      "image/png": "[encoded data removed]",
      "text/plain": [
       "plot without title"
      ]
     },
     "metadata": {
      "image/png": {
       "height": 420,
       "width": 420
      }
     },
     "output_type": "display_data"
    },
    {
     "data": {
      "image/png": "[encoded data removed]",
      "text/plain": [
       "plot without title"
      ]
     },
     "metadata": {
      "image/png": {
       "height": 420,
       "width": 420
      }
     },
     "output_type": "display_data"
    },
    {
     "data": {
      "image/png": "[encoded data removed]",
      "text/plain": [
       "plot without title"
      ]
     },
     "metadata": {
      "image/png": {
       "height": 420,
       "width": 420
      }
     },
     "output_type": "display_data"
    }
   ],
   "source": [
    "#측도들의 크기 순으로 모형을 정렬하여 선택된 변수들을 음영으로 표시하는 그림\n",
    "plot(regfit.full, scale = \"r2\")\n",
    "plot(regfit.full, scale = \"adjr2\")\n",
    "plot(regfit.full, scale = \"Cp\")\n",
    "plot(regfit.full, scale = \"bic\")"
   ]
  },
  {
   "cell_type": "markdown",
   "id": "2b673418",
   "metadata": {},
   "source": [
    "The top row of each plot contains a black square for each variable selected according to the optimal model associated with that statistic. For instance, we see that several models share a BIC close to $-150$. However, the model with the lowest BIC is the six-variable model that contains only `AtBat`,\n",
    "`Hits`,  `Walks`, `CRBI`, `DivisionW`, and `PutOuts`.\n",
    "We can use the `coef()` function to see the coefficient estimates associated with this model."
   ]
  },
  {
   "cell_type": "code",
   "execution_count": 13,
   "id": "427d05f4",
   "metadata": {
    "lines_to_next_cell": 0,
    "name": "chunk11"
   },
   "outputs": [
    {
     "data": {
      "text/html": [
       "<style>\n",
       ".dl-inline {width: auto; margin:0; padding: 0}\n",
       ".dl-inline>dt, .dl-inline>dd {float: none; width: auto; display: inline-block}\n",
       ".dl-inline>dt::after {content: \":\\0020\"; padding-right: .5ex}\n",
       ".dl-inline>dt:not(:first-of-type) {padding-left: .5ex}\n",
       "</style><dl class=dl-inline><dt>(Intercept)</dt><dd>91.5117981171539</dd><dt>AtBat</dt><dd>-1.86858923135561</dd><dt>Hits</dt><dd>7.60439763117204</dd><dt>Walks</dt><dd>3.69764677424139</dd><dt>CRBI</dt><dd>0.643016935097332</dd><dt>DivisionW</dt><dd>-122.95153377292</dd><dt>PutOuts</dt><dd>0.264307605461511</dd></dl>\n"
      ],
      "text/latex": [
       "\\begin{description*}\n",
       "\\item[(Intercept)] 91.5117981171539\n",
       "\\item[AtBat] -1.86858923135561\n",
       "\\item[Hits] 7.60439763117204\n",
       "\\item[Walks] 3.69764677424139\n",
       "\\item[CRBI] 0.643016935097332\n",
       "\\item[DivisionW] -122.95153377292\n",
       "\\item[PutOuts] 0.264307605461511\n",
       "\\end{description*}\n"
      ],
      "text/markdown": [
       "(Intercept)\n",
       ":   91.5117981171539AtBat\n",
       ":   -1.86858923135561Hits\n",
       ":   7.60439763117204Walks\n",
       ":   3.69764677424139CRBI\n",
       ":   0.643016935097332DivisionW\n",
       ":   -122.95153377292PutOuts\n",
       ":   0.264307605461511\n",
       "\n"
      ],
      "text/plain": [
       " (Intercept)        AtBat         Hits        Walks         CRBI    DivisionW \n",
       "  91.5117981   -1.8685892    7.6043976    3.6976468    0.6430169 -122.9515338 \n",
       "     PutOuts \n",
       "   0.2643076 "
      ]
     },
     "metadata": {},
     "output_type": "display_data"
    }
   ],
   "source": [
    "coef(regfit.full, 6) #변수의 개수가 6개인 모형의 계수 추정치"
   ]
  },
  {
   "cell_type": "markdown",
   "id": "bc386134",
   "metadata": {},
   "source": [
    "\n",
    "\n"
   ]
  },
  {
   "cell_type": "markdown",
   "id": "434b7ab1",
   "metadata": {},
   "source": [
    "### Forward and Backward Stepwise Selection\n"
   ]
  },
  {
   "cell_type": "markdown",
   "id": "68c736bf",
   "metadata": {},
   "source": [
    "We can also use the `regsubsets()` function to perform forward stepwise or backward stepwise selection, using the argument `method = \"forward\"`\n",
    "or `method = \"backward\"`."
   ]
  },
  {
   "cell_type": "code",
   "execution_count": 14,
   "id": "916cb15a",
   "metadata": {
    "name": "chunk12"
   },
   "outputs": [
    {
     "data": {
      "text/plain": [
       "Subset selection object\n",
       "Call: regsubsets.formula(Salary ~ ., data = Hitters, nvmax = 19, method = \"forward\")\n",
       "19 Variables  (and intercept)\n",
       "           Forced in Forced out\n",
       "AtBat          FALSE      FALSE\n",
       "Hits           FALSE      FALSE\n",
       "HmRun          FALSE      FALSE\n",
       "Runs           FALSE      FALSE\n",
       "RBI            FALSE      FALSE\n",
       "Walks          FALSE      FALSE\n",
       "Years          FALSE      FALSE\n",
       "CAtBat         FALSE      FALSE\n",
       "CHits          FALSE      FALSE\n",
       "CHmRun         FALSE      FALSE\n",
       "CRuns          FALSE      FALSE\n",
       "CRBI           FALSE      FALSE\n",
       "CWalks         FALSE      FALSE\n",
       "LeagueN        FALSE      FALSE\n",
       "DivisionW      FALSE      FALSE\n",
       "PutOuts        FALSE      FALSE\n",
       "Assists        FALSE      FALSE\n",
       "Errors         FALSE      FALSE\n",
       "NewLeagueN     FALSE      FALSE\n",
       "1 subsets of each size up to 19\n",
       "Selection Algorithm: forward\n",
       "          AtBat Hits HmRun Runs RBI Walks Years CAtBat CHits CHmRun CRuns CRBI\n",
       "1  ( 1 )  \" \"   \" \"  \" \"   \" \"  \" \" \" \"   \" \"   \" \"    \" \"   \" \"    \" \"   \"*\" \n",
       "2  ( 1 )  \" \"   \"*\"  \" \"   \" \"  \" \" \" \"   \" \"   \" \"    \" \"   \" \"    \" \"   \"*\" \n",
       "3  ( 1 )  \" \"   \"*\"  \" \"   \" \"  \" \" \" \"   \" \"   \" \"    \" \"   \" \"    \" \"   \"*\" \n",
       "4  ( 1 )  \" \"   \"*\"  \" \"   \" \"  \" \" \" \"   \" \"   \" \"    \" \"   \" \"    \" \"   \"*\" \n",
       "5  ( 1 )  \"*\"   \"*\"  \" \"   \" \"  \" \" \" \"   \" \"   \" \"    \" \"   \" \"    \" \"   \"*\" \n",
       "6  ( 1 )  \"*\"   \"*\"  \" \"   \" \"  \" \" \"*\"   \" \"   \" \"    \" \"   \" \"    \" \"   \"*\" \n",
       "7  ( 1 )  \"*\"   \"*\"  \" \"   \" \"  \" \" \"*\"   \" \"   \" \"    \" \"   \" \"    \" \"   \"*\" \n",
       "8  ( 1 )  \"*\"   \"*\"  \" \"   \" \"  \" \" \"*\"   \" \"   \" \"    \" \"   \" \"    \"*\"   \"*\" \n",
       "9  ( 1 )  \"*\"   \"*\"  \" \"   \" \"  \" \" \"*\"   \" \"   \"*\"    \" \"   \" \"    \"*\"   \"*\" \n",
       "10  ( 1 ) \"*\"   \"*\"  \" \"   \" \"  \" \" \"*\"   \" \"   \"*\"    \" \"   \" \"    \"*\"   \"*\" \n",
       "11  ( 1 ) \"*\"   \"*\"  \" \"   \" \"  \" \" \"*\"   \" \"   \"*\"    \" \"   \" \"    \"*\"   \"*\" \n",
       "12  ( 1 ) \"*\"   \"*\"  \" \"   \"*\"  \" \" \"*\"   \" \"   \"*\"    \" \"   \" \"    \"*\"   \"*\" \n",
       "13  ( 1 ) \"*\"   \"*\"  \" \"   \"*\"  \" \" \"*\"   \" \"   \"*\"    \" \"   \" \"    \"*\"   \"*\" \n",
       "14  ( 1 ) \"*\"   \"*\"  \"*\"   \"*\"  \" \" \"*\"   \" \"   \"*\"    \" \"   \" \"    \"*\"   \"*\" \n",
       "15  ( 1 ) \"*\"   \"*\"  \"*\"   \"*\"  \" \" \"*\"   \" \"   \"*\"    \"*\"   \" \"    \"*\"   \"*\" \n",
       "16  ( 1 ) \"*\"   \"*\"  \"*\"   \"*\"  \"*\" \"*\"   \" \"   \"*\"    \"*\"   \" \"    \"*\"   \"*\" \n",
       "17  ( 1 ) \"*\"   \"*\"  \"*\"   \"*\"  \"*\" \"*\"   \" \"   \"*\"    \"*\"   \" \"    \"*\"   \"*\" \n",
       "18  ( 1 ) \"*\"   \"*\"  \"*\"   \"*\"  \"*\" \"*\"   \"*\"   \"*\"    \"*\"   \" \"    \"*\"   \"*\" \n",
       "19  ( 1 ) \"*\"   \"*\"  \"*\"   \"*\"  \"*\" \"*\"   \"*\"   \"*\"    \"*\"   \"*\"    \"*\"   \"*\" \n",
       "          CWalks LeagueN DivisionW PutOuts Assists Errors NewLeagueN\n",
       "1  ( 1 )  \" \"    \" \"     \" \"       \" \"     \" \"     \" \"    \" \"       \n",
       "2  ( 1 )  \" \"    \" \"     \" \"       \" \"     \" \"     \" \"    \" \"       \n",
       "3  ( 1 )  \" \"    \" \"     \" \"       \"*\"     \" \"     \" \"    \" \"       \n",
       "4  ( 1 )  \" \"    \" \"     \"*\"       \"*\"     \" \"     \" \"    \" \"       \n",
       "5  ( 1 )  \" \"    \" \"     \"*\"       \"*\"     \" \"     \" \"    \" \"       \n",
       "6  ( 1 )  \" \"    \" \"     \"*\"       \"*\"     \" \"     \" \"    \" \"       \n",
       "7  ( 1 )  \"*\"    \" \"     \"*\"       \"*\"     \" \"     \" \"    \" \"       \n",
       "8  ( 1 )  \"*\"    \" \"     \"*\"       \"*\"     \" \"     \" \"    \" \"       \n",
       "9  ( 1 )  \"*\"    \" \"     \"*\"       \"*\"     \" \"     \" \"    \" \"       \n",
       "10  ( 1 ) \"*\"    \" \"     \"*\"       \"*\"     \"*\"     \" \"    \" \"       \n",
       "11  ( 1 ) \"*\"    \"*\"     \"*\"       \"*\"     \"*\"     \" \"    \" \"       \n",
       "12  ( 1 ) \"*\"    \"*\"     \"*\"       \"*\"     \"*\"     \" \"    \" \"       \n",
       "13  ( 1 ) \"*\"    \"*\"     \"*\"       \"*\"     \"*\"     \"*\"    \" \"       \n",
       "14  ( 1 ) \"*\"    \"*\"     \"*\"       \"*\"     \"*\"     \"*\"    \" \"       \n",
       "15  ( 1 ) \"*\"    \"*\"     \"*\"       \"*\"     \"*\"     \"*\"    \" \"       \n",
       "16  ( 1 ) \"*\"    \"*\"     \"*\"       \"*\"     \"*\"     \"*\"    \" \"       \n",
       "17  ( 1 ) \"*\"    \"*\"     \"*\"       \"*\"     \"*\"     \"*\"    \"*\"       \n",
       "18  ( 1 ) \"*\"    \"*\"     \"*\"       \"*\"     \"*\"     \"*\"    \"*\"       \n",
       "19  ( 1 ) \"*\"    \"*\"     \"*\"       \"*\"     \"*\"     \"*\"    \"*\"       "
      ]
     },
     "metadata": {},
     "output_type": "display_data"
    },
    {
     "data": {
      "text/plain": [
       "Subset selection object\n",
       "Call: regsubsets.formula(Salary ~ ., data = Hitters, nvmax = 19, method = \"backward\")\n",
       "19 Variables  (and intercept)\n",
       "           Forced in Forced out\n",
       "AtBat          FALSE      FALSE\n",
       "Hits           FALSE      FALSE\n",
       "HmRun          FALSE      FALSE\n",
       "Runs           FALSE      FALSE\n",
       "RBI            FALSE      FALSE\n",
       "Walks          FALSE      FALSE\n",
       "Years          FALSE      FALSE\n",
       "CAtBat         FALSE      FALSE\n",
       "CHits          FALSE      FALSE\n",
       "CHmRun         FALSE      FALSE\n",
       "CRuns          FALSE      FALSE\n",
       "CRBI           FALSE      FALSE\n",
       "CWalks         FALSE      FALSE\n",
       "LeagueN        FALSE      FALSE\n",
       "DivisionW      FALSE      FALSE\n",
       "PutOuts        FALSE      FALSE\n",
       "Assists        FALSE      FALSE\n",
       "Errors         FALSE      FALSE\n",
       "NewLeagueN     FALSE      FALSE\n",
       "1 subsets of each size up to 19\n",
       "Selection Algorithm: backward\n",
       "          AtBat Hits HmRun Runs RBI Walks Years CAtBat CHits CHmRun CRuns CRBI\n",
       "1  ( 1 )  \" \"   \" \"  \" \"   \" \"  \" \" \" \"   \" \"   \" \"    \" \"   \" \"    \"*\"   \" \" \n",
       "2  ( 1 )  \" \"   \"*\"  \" \"   \" \"  \" \" \" \"   \" \"   \" \"    \" \"   \" \"    \"*\"   \" \" \n",
       "3  ( 1 )  \" \"   \"*\"  \" \"   \" \"  \" \" \" \"   \" \"   \" \"    \" \"   \" \"    \"*\"   \" \" \n",
       "4  ( 1 )  \"*\"   \"*\"  \" \"   \" \"  \" \" \" \"   \" \"   \" \"    \" \"   \" \"    \"*\"   \" \" \n",
       "5  ( 1 )  \"*\"   \"*\"  \" \"   \" \"  \" \" \"*\"   \" \"   \" \"    \" \"   \" \"    \"*\"   \" \" \n",
       "6  ( 1 )  \"*\"   \"*\"  \" \"   \" \"  \" \" \"*\"   \" \"   \" \"    \" \"   \" \"    \"*\"   \" \" \n",
       "7  ( 1 )  \"*\"   \"*\"  \" \"   \" \"  \" \" \"*\"   \" \"   \" \"    \" \"   \" \"    \"*\"   \" \" \n",
       "8  ( 1 )  \"*\"   \"*\"  \" \"   \" \"  \" \" \"*\"   \" \"   \" \"    \" \"   \" \"    \"*\"   \"*\" \n",
       "9  ( 1 )  \"*\"   \"*\"  \" \"   \" \"  \" \" \"*\"   \" \"   \"*\"    \" \"   \" \"    \"*\"   \"*\" \n",
       "10  ( 1 ) \"*\"   \"*\"  \" \"   \" \"  \" \" \"*\"   \" \"   \"*\"    \" \"   \" \"    \"*\"   \"*\" \n",
       "11  ( 1 ) \"*\"   \"*\"  \" \"   \" \"  \" \" \"*\"   \" \"   \"*\"    \" \"   \" \"    \"*\"   \"*\" \n",
       "12  ( 1 ) \"*\"   \"*\"  \" \"   \"*\"  \" \" \"*\"   \" \"   \"*\"    \" \"   \" \"    \"*\"   \"*\" \n",
       "13  ( 1 ) \"*\"   \"*\"  \" \"   \"*\"  \" \" \"*\"   \" \"   \"*\"    \" \"   \" \"    \"*\"   \"*\" \n",
       "14  ( 1 ) \"*\"   \"*\"  \"*\"   \"*\"  \" \" \"*\"   \" \"   \"*\"    \" \"   \" \"    \"*\"   \"*\" \n",
       "15  ( 1 ) \"*\"   \"*\"  \"*\"   \"*\"  \" \" \"*\"   \" \"   \"*\"    \"*\"   \" \"    \"*\"   \"*\" \n",
       "16  ( 1 ) \"*\"   \"*\"  \"*\"   \"*\"  \"*\" \"*\"   \" \"   \"*\"    \"*\"   \" \"    \"*\"   \"*\" \n",
       "17  ( 1 ) \"*\"   \"*\"  \"*\"   \"*\"  \"*\" \"*\"   \" \"   \"*\"    \"*\"   \" \"    \"*\"   \"*\" \n",
       "18  ( 1 ) \"*\"   \"*\"  \"*\"   \"*\"  \"*\" \"*\"   \"*\"   \"*\"    \"*\"   \" \"    \"*\"   \"*\" \n",
       "19  ( 1 ) \"*\"   \"*\"  \"*\"   \"*\"  \"*\" \"*\"   \"*\"   \"*\"    \"*\"   \"*\"    \"*\"   \"*\" \n",
       "          CWalks LeagueN DivisionW PutOuts Assists Errors NewLeagueN\n",
       "1  ( 1 )  \" \"    \" \"     \" \"       \" \"     \" \"     \" \"    \" \"       \n",
       "2  ( 1 )  \" \"    \" \"     \" \"       \" \"     \" \"     \" \"    \" \"       \n",
       "3  ( 1 )  \" \"    \" \"     \" \"       \"*\"     \" \"     \" \"    \" \"       \n",
       "4  ( 1 )  \" \"    \" \"     \" \"       \"*\"     \" \"     \" \"    \" \"       \n",
       "5  ( 1 )  \" \"    \" \"     \" \"       \"*\"     \" \"     \" \"    \" \"       \n",
       "6  ( 1 )  \" \"    \" \"     \"*\"       \"*\"     \" \"     \" \"    \" \"       \n",
       "7  ( 1 )  \"*\"    \" \"     \"*\"       \"*\"     \" \"     \" \"    \" \"       \n",
       "8  ( 1 )  \"*\"    \" \"     \"*\"       \"*\"     \" \"     \" \"    \" \"       \n",
       "9  ( 1 )  \"*\"    \" \"     \"*\"       \"*\"     \" \"     \" \"    \" \"       \n",
       "10  ( 1 ) \"*\"    \" \"     \"*\"       \"*\"     \"*\"     \" \"    \" \"       \n",
       "11  ( 1 ) \"*\"    \"*\"     \"*\"       \"*\"     \"*\"     \" \"    \" \"       \n",
       "12  ( 1 ) \"*\"    \"*\"     \"*\"       \"*\"     \"*\"     \" \"    \" \"       \n",
       "13  ( 1 ) \"*\"    \"*\"     \"*\"       \"*\"     \"*\"     \"*\"    \" \"       \n",
       "14  ( 1 ) \"*\"    \"*\"     \"*\"       \"*\"     \"*\"     \"*\"    \" \"       \n",
       "15  ( 1 ) \"*\"    \"*\"     \"*\"       \"*\"     \"*\"     \"*\"    \" \"       \n",
       "16  ( 1 ) \"*\"    \"*\"     \"*\"       \"*\"     \"*\"     \"*\"    \" \"       \n",
       "17  ( 1 ) \"*\"    \"*\"     \"*\"       \"*\"     \"*\"     \"*\"    \"*\"       \n",
       "18  ( 1 ) \"*\"    \"*\"     \"*\"       \"*\"     \"*\"     \"*\"    \"*\"       \n",
       "19  ( 1 ) \"*\"    \"*\"     \"*\"       \"*\"     \"*\"     \"*\"    \"*\"       "
      ]
     },
     "metadata": {},
     "output_type": "display_data"
    }
   ],
   "source": [
    "regfit.fwd <- regsubsets(Salary ~ ., data = Hitters,\n",
    "    nvmax = 19, method = \"forward\") #foward 방법 \n",
    "summary(regfit.fwd)\n",
    "regfit.bwd <- regsubsets(Salary ~ ., data = Hitters,\n",
    "    nvmax = 19, method = \"backward\") #backward 방법\n",
    "summary(regfit.bwd)"
   ]
  },
  {
   "cell_type": "markdown",
   "id": "9fb3dd74",
   "metadata": {},
   "source": [
    "For instance, we see that using forward stepwise selection, the best one-variable model contains only `CRBI`, and the best two-variable model additionally includes `Hits`. For this data, the best one-variable through six-variable models are each identical for best subset and forward selection. However, the best seven-variable models identified by forward stepwise selection, backward stepwise selection, and best subset selection are different."
   ]
  },
  {
   "cell_type": "code",
   "execution_count": 16,
   "id": "6f3aa0fb",
   "metadata": {
    "lines_to_next_cell": 0,
    "name": "chunk13"
   },
   "outputs": [
    {
     "data": {
      "text/html": [
       "<style>\n",
       ".dl-inline {width: auto; margin:0; padding: 0}\n",
       ".dl-inline>dt, .dl-inline>dd {float: none; width: auto; display: inline-block}\n",
       ".dl-inline>dt::after {content: \":\\0020\"; padding-right: .5ex}\n",
       ".dl-inline>dt:not(:first-of-type) {padding-left: .5ex}\n",
       "</style><dl class=dl-inline><dt>(Intercept)</dt><dd>79.4509472435319</dd><dt>Hits</dt><dd>1.28335125463328</dd><dt>Walks</dt><dd>3.22742638972714</dd><dt>CAtBat</dt><dd>-0.375235019565453</dd><dt>CHits</dt><dd>1.49570730989869</dd><dt>CHmRun</dt><dd>1.44205381889666</dd><dt>DivisionW</dt><dd>-129.986643165116</dd><dt>PutOuts</dt><dd>0.236681317525621</dd></dl>\n"
      ],
      "text/latex": [
       "\\begin{description*}\n",
       "\\item[(Intercept)] 79.4509472435319\n",
       "\\item[Hits] 1.28335125463328\n",
       "\\item[Walks] 3.22742638972714\n",
       "\\item[CAtBat] -0.375235019565453\n",
       "\\item[CHits] 1.49570730989869\n",
       "\\item[CHmRun] 1.44205381889666\n",
       "\\item[DivisionW] -129.986643165116\n",
       "\\item[PutOuts] 0.236681317525621\n",
       "\\end{description*}\n"
      ],
      "text/markdown": [
       "(Intercept)\n",
       ":   79.4509472435319Hits\n",
       ":   1.28335125463328Walks\n",
       ":   3.22742638972714CAtBat\n",
       ":   -0.375235019565453CHits\n",
       ":   1.49570730989869CHmRun\n",
       ":   1.44205381889666DivisionW\n",
       ":   -129.986643165116PutOuts\n",
       ":   0.236681317525621\n",
       "\n"
      ],
      "text/plain": [
       " (Intercept)         Hits        Walks       CAtBat        CHits       CHmRun \n",
       "  79.4509472    1.2833513    3.2274264   -0.3752350    1.4957073    1.4420538 \n",
       "   DivisionW      PutOuts \n",
       "-129.9866432    0.2366813 "
      ]
     },
     "metadata": {},
     "output_type": "display_data"
    },
    {
     "data": {
      "text/html": [
       "<style>\n",
       ".dl-inline {width: auto; margin:0; padding: 0}\n",
       ".dl-inline>dt, .dl-inline>dd {float: none; width: auto; display: inline-block}\n",
       ".dl-inline>dt::after {content: \":\\0020\"; padding-right: .5ex}\n",
       ".dl-inline>dt:not(:first-of-type) {padding-left: .5ex}\n",
       "</style><dl class=dl-inline><dt>(Intercept)</dt><dd>109.787306240078</dd><dt>AtBat</dt><dd>-1.95888512315655</dd><dt>Hits</dt><dd>7.44987721841218</dd><dt>Walks</dt><dd>4.91314009272066</dd><dt>CRBI</dt><dd>0.853762209061578</dd><dt>CWalks</dt><dd>-0.305307000381738</dd><dt>DivisionW</dt><dd>-127.122392777488</dd><dt>PutOuts</dt><dd>0.253340431147386</dd></dl>\n"
      ],
      "text/latex": [
       "\\begin{description*}\n",
       "\\item[(Intercept)] 109.787306240078\n",
       "\\item[AtBat] -1.95888512315655\n",
       "\\item[Hits] 7.44987721841218\n",
       "\\item[Walks] 4.91314009272066\n",
       "\\item[CRBI] 0.853762209061578\n",
       "\\item[CWalks] -0.305307000381738\n",
       "\\item[DivisionW] -127.122392777488\n",
       "\\item[PutOuts] 0.253340431147386\n",
       "\\end{description*}\n"
      ],
      "text/markdown": [
       "(Intercept)\n",
       ":   109.787306240078AtBat\n",
       ":   -1.95888512315655Hits\n",
       ":   7.44987721841218Walks\n",
       ":   4.91314009272066CRBI\n",
       ":   0.853762209061578CWalks\n",
       ":   -0.305307000381738DivisionW\n",
       ":   -127.122392777488PutOuts\n",
       ":   0.253340431147386\n",
       "\n"
      ],
      "text/plain": [
       " (Intercept)        AtBat         Hits        Walks         CRBI       CWalks \n",
       " 109.7873062   -1.9588851    7.4498772    4.9131401    0.8537622   -0.3053070 \n",
       "   DivisionW      PutOuts \n",
       "-127.1223928    0.2533404 "
      ]
     },
     "metadata": {},
     "output_type": "display_data"
    },
    {
     "data": {
      "text/html": [
       "<style>\n",
       ".dl-inline {width: auto; margin:0; padding: 0}\n",
       ".dl-inline>dt, .dl-inline>dd {float: none; width: auto; display: inline-block}\n",
       ".dl-inline>dt::after {content: \":\\0020\"; padding-right: .5ex}\n",
       ".dl-inline>dt:not(:first-of-type) {padding-left: .5ex}\n",
       "</style><dl class=dl-inline><dt>(Intercept)</dt><dd>105.648748778828</dd><dt>AtBat</dt><dd>-1.97628381026618</dd><dt>Hits</dt><dd>6.75749144281392</dd><dt>Walks</dt><dd>6.05586912154598</dd><dt>CRuns</dt><dd>1.12930946903271</dd><dt>CWalks</dt><dd>-0.71633458662198</dd><dt>DivisionW</dt><dd>-116.16921690431</dd><dt>PutOuts</dt><dd>0.302884743257576</dd></dl>\n"
      ],
      "text/latex": [
       "\\begin{description*}\n",
       "\\item[(Intercept)] 105.648748778828\n",
       "\\item[AtBat] -1.97628381026618\n",
       "\\item[Hits] 6.75749144281392\n",
       "\\item[Walks] 6.05586912154598\n",
       "\\item[CRuns] 1.12930946903271\n",
       "\\item[CWalks] -0.71633458662198\n",
       "\\item[DivisionW] -116.16921690431\n",
       "\\item[PutOuts] 0.302884743257576\n",
       "\\end{description*}\n"
      ],
      "text/markdown": [
       "(Intercept)\n",
       ":   105.648748778828AtBat\n",
       ":   -1.97628381026618Hits\n",
       ":   6.75749144281392Walks\n",
       ":   6.05586912154598CRuns\n",
       ":   1.12930946903271CWalks\n",
       ":   -0.71633458662198DivisionW\n",
       ":   -116.16921690431PutOuts\n",
       ":   0.302884743257576\n",
       "\n"
      ],
      "text/plain": [
       " (Intercept)        AtBat         Hits        Walks        CRuns       CWalks \n",
       " 105.6487488   -1.9762838    6.7574914    6.0558691    1.1293095   -0.7163346 \n",
       "   DivisionW      PutOuts \n",
       "-116.1692169    0.3028847 "
      ]
     },
     "metadata": {},
     "output_type": "display_data"
    }
   ],
   "source": [
    "#각 기법별로 변수를 7개 쓰는 최적의 모형을 비교한 것.\n",
    "coef(regfit.full, 7)\n",
    "coef(regfit.fwd, 7)\n",
    "coef(regfit.bwd, 7)"
   ]
  },
  {
   "cell_type": "markdown",
   "id": "1f68cc28",
   "metadata": {},
   "source": [
    "\n",
    "\n"
   ]
  },
  {
   "cell_type": "markdown",
   "id": "cda844a7",
   "metadata": {},
   "source": [
    "### Choosing Among Models Using the Validation-Set Approach and Cross-Validation"
   ]
  },
  {
   "cell_type": "markdown",
   "id": "d3b85250",
   "metadata": {},
   "source": [
    "We just saw that it is possible to choose among a set of models of different sizes using $C_p$, BIC, and adjusted $R^2$. We will now consider how to do this using the\n",
    "validation set and cross-validation approaches.\n",
    "\n",
    "In order for these approaches to yield accurate estimates of the test\n",
    "error, we must use *only the training observations* to perform all aspects of model-fitting---including variable\n",
    "  selection.  Therefore, the determination of which model of a\n",
    "given size is best must be made using *only the training observations*. This point is subtle but important.\n",
    "If the full data set is used to perform the best subset selection\n",
    "step, the validation set errors and cross-validation errors that we\n",
    "obtain will not be accurate estimates of the test error.\n",
    "\n",
    "In order to use the validation set approach, we begin by splitting the\n",
    "observations into a training set and a test set.  We do this by creating a\n",
    "random vector, `train`, of elements equal to `TRUE` if the\n",
    "corresponding observation is in the training set, and `FALSE`\n",
    "otherwise.  The vector `test` has a `TRUE` if the\n",
    "observation is in the test set, and a `FALSE` otherwise. Note\n",
    "the `!` in the command to create `test` causes `TRUE`s to be\n",
    "switched to `FALSE`s and vice versa. We also set a random seed\n",
    "so that the user will obtain the same training set/test set split."
   ]
  },
  {
   "cell_type": "markdown",
   "id": "fa0c3964-962a-4082-b071-b51194827ae8",
   "metadata": {},
   "source": [
    "#### validation set apprach"
   ]
  },
  {
   "cell_type": "markdown",
   "id": "b0b35eb2-55b0-48b7-bea8-784e9eb9d5a1",
   "metadata": {},
   "source": [
    "#### 자료분할"
   ]
  },
  {
   "cell_type": "code",
   "execution_count": 18,
   "id": "081cdd96",
   "metadata": {
    "name": "chunk14"
   },
   "outputs": [],
   "source": [
    "set.seed(1)\n",
    "train <- sample(c(TRUE, FALSE), nrow(Hitters), #true,false를 데이터 개수만큼 해서 뽑겠단 의미\n",
    "    replace = TRUE)\n",
    "test <- (!train) #훈련평가자료 50:50 분할"
   ]
  },
  {
   "cell_type": "markdown",
   "id": "6a2d7713",
   "metadata": {},
   "source": [
    "Now, we apply `regsubsets()` to the training set in order to perform best subset selection."
   ]
  },
  {
   "cell_type": "code",
   "execution_count": 19,
   "id": "6af7472c",
   "metadata": {
    "name": "chunk15"
   },
   "outputs": [],
   "source": [
    "regfit.best <- regsubsets(Salary ~ .,\n",
    "    data = Hitters[train, ], nvmax = 19) #학습자료에 대해 모형적합하여 변수의 개수에 따른 best model 우선 선출"
   ]
  },
  {
   "cell_type": "markdown",
   "id": "225777b9",
   "metadata": {},
   "source": [
    "Notice that we subset the `Hitters` data frame directly in the call in order to access only the training subset of the data, using the expression `Hitters[train, ]`.\n",
    "We now compute the validation set error for the best model of each model size. We first make a model matrix\n",
    "from the test data."
   ]
  },
  {
   "cell_type": "code",
   "execution_count": 20,
   "id": "b1b09c19",
   "metadata": {
    "name": "chunk16"
   },
   "outputs": [],
   "source": [
    "test.mat <- model.matrix(Salary ~ ., data = Hitters[test, ]) #test 데이터에서 model matrix 생성"
   ]
  },
  {
   "cell_type": "markdown",
   "id": "57f2ceb6",
   "metadata": {},
   "source": [
    "The\n",
    "`model.matrix()` function is used in many regression\n",
    "packages for building an \"X\" matrix from data.  Now we run a loop,\n",
    "and for each size `i`, we extract the coefficients from\n",
    "`regfit.best` for the best model of that size,  multiply them into\n",
    "the appropriate columns of the test model matrix to form the\n",
    "predictions, and compute the test MSE."
   ]
  },
  {
   "cell_type": "code",
   "execution_count": 102,
   "id": "31c637c5",
   "metadata": {
    "name": "chunk17"
   },
   "outputs": [],
   "source": [
    "val.errors <- rep(NA, 19) #test error 벡터\n",
    "for (i in 1:19) {\n",
    " coefi <- coef(regfit.best, id = i)\n",
    " pred <- test.mat[, names(coefi)] %*% coefi\n",
    " val.errors[i] <- mean((Hitters$Salary[test] - pred)^2)\n",
    "} #모형의 크기(변수의 개수)에 따른 test error (mse) 산출"
   ]
  },
  {
   "cell_type": "markdown",
   "id": "efe06bff",
   "metadata": {},
   "source": [
    "We find that the best model is the one that contains seven variables."
   ]
  },
  {
   "cell_type": "code",
   "execution_count": 103,
   "id": "dd025bb2",
   "metadata": {
    "lines_to_next_cell": 2,
    "name": "chunk18"
   },
   "outputs": [
    {
     "data": {
      "text/html": [
       "<style>\n",
       ".list-inline {list-style: none; margin:0; padding: 0}\n",
       ".list-inline>li {display: inline-block}\n",
       ".list-inline>li:not(:last-child)::after {content: \"\\00b7\"; padding: 0 .5ex}\n",
       "</style>\n",
       "<ol class=list-inline><li>164377.260362341</li><li>144405.470709589</li><li>152175.69459474</li><li>145198.381708901</li><li>137902.113680192</li><li>139175.74540071</li><li>126848.963422889</li><li>136191.381502395</li><li>132889.632125506</li><li>135434.897163883</li><li>136963.294656889</li><li>140694.931446905</li><li>140690.940552605</li><li>141951.168986255</li><li>141508.153781646</li><li>142164.368072385</li><li>141767.40236927</li><li>142339.552749068</li><li>142238.156755267</li></ol>\n"
      ],
      "text/latex": [
       "\\begin{enumerate*}\n",
       "\\item 164377.260362341\n",
       "\\item 144405.470709589\n",
       "\\item 152175.69459474\n",
       "\\item 145198.381708901\n",
       "\\item 137902.113680192\n",
       "\\item 139175.74540071\n",
       "\\item 126848.963422889\n",
       "\\item 136191.381502395\n",
       "\\item 132889.632125506\n",
       "\\item 135434.897163883\n",
       "\\item 136963.294656889\n",
       "\\item 140694.931446905\n",
       "\\item 140690.940552605\n",
       "\\item 141951.168986255\n",
       "\\item 141508.153781646\n",
       "\\item 142164.368072385\n",
       "\\item 141767.40236927\n",
       "\\item 142339.552749068\n",
       "\\item 142238.156755267\n",
       "\\end{enumerate*}\n"
      ],
      "text/markdown": [
       "1. 164377.260362341\n",
       "2. 144405.470709589\n",
       "3. 152175.69459474\n",
       "4. 145198.381708901\n",
       "5. 137902.113680192\n",
       "6. 139175.74540071\n",
       "7. 126848.963422889\n",
       "8. 136191.381502395\n",
       "9. 132889.632125506\n",
       "10. 135434.897163883\n",
       "11. 136963.294656889\n",
       "12. 140694.931446905\n",
       "13. 140690.940552605\n",
       "14. 141951.168986255\n",
       "15. 141508.153781646\n",
       "16. 142164.368072385\n",
       "17. 141767.40236927\n",
       "18. 142339.552749068\n",
       "19. 142238.156755267\n",
       "\n",
       "\n"
      ],
      "text/plain": [
       " [1] 164377.3 144405.5 152175.7 145198.4 137902.1 139175.7 126849.0 136191.4\n",
       " [9] 132889.6 135434.9 136963.3 140694.9 140690.9 141951.2 141508.2 142164.4\n",
       "[17] 141767.4 142339.6 142238.2"
      ]
     },
     "metadata": {},
     "output_type": "display_data"
    },
    {
     "data": {
      "text/html": [
       "7"
      ],
      "text/latex": [
       "7"
      ],
      "text/markdown": [
       "7"
      ],
      "text/plain": [
       "[1] 7"
      ]
     },
     "metadata": {},
     "output_type": "display_data"
    },
    {
     "data": {
      "text/html": [
       "<style>\n",
       ".dl-inline {width: auto; margin:0; padding: 0}\n",
       ".dl-inline>dt, .dl-inline>dd {float: none; width: auto; display: inline-block}\n",
       ".dl-inline>dt::after {content: \":\\0020\"; padding-right: .5ex}\n",
       ".dl-inline>dt:not(:first-of-type) {padding-left: .5ex}\n",
       "</style><dl class=dl-inline><dt>(Intercept)</dt><dd>67.1085369123294</dd><dt>AtBat</dt><dd>-2.14629867457481</dd><dt>Hits</dt><dd>7.01495467840133</dd><dt>Walks</dt><dd>8.07166403119075</dd><dt>CRuns</dt><dd>1.24251126334183</dd><dt>CWalks</dt><dd>-0.833784385185916</dd><dt>DivisionW</dt><dd>-118.436499846968</dd><dt>PutOuts</dt><dd>0.252692546543788</dd></dl>\n"
      ],
      "text/latex": [
       "\\begin{description*}\n",
       "\\item[(Intercept)] 67.1085369123294\n",
       "\\item[AtBat] -2.14629867457481\n",
       "\\item[Hits] 7.01495467840133\n",
       "\\item[Walks] 8.07166403119075\n",
       "\\item[CRuns] 1.24251126334183\n",
       "\\item[CWalks] -0.833784385185916\n",
       "\\item[DivisionW] -118.436499846968\n",
       "\\item[PutOuts] 0.252692546543788\n",
       "\\end{description*}\n"
      ],
      "text/markdown": [
       "(Intercept)\n",
       ":   67.1085369123294AtBat\n",
       ":   -2.14629867457481Hits\n",
       ":   7.01495467840133Walks\n",
       ":   8.07166403119075CRuns\n",
       ":   1.24251126334183CWalks\n",
       ":   -0.833784385185916DivisionW\n",
       ":   -118.436499846968PutOuts\n",
       ":   0.252692546543788\n",
       "\n"
      ],
      "text/plain": [
       " (Intercept)        AtBat         Hits        Walks        CRuns       CWalks \n",
       "  67.1085369   -2.1462987    7.0149547    8.0716640    1.2425113   -0.8337844 \n",
       "   DivisionW      PutOuts \n",
       "-118.4364998    0.2526925 "
      ]
     },
     "metadata": {},
     "output_type": "display_data"
    }
   ],
   "source": [
    "val.errors\n",
    "which.min(val.errors)\n",
    "coef(regfit.best, 7)"
   ]
  },
  {
   "cell_type": "markdown",
   "id": "9767bfdc",
   "metadata": {},
   "source": [
    "This was a little tedious, partly because there is no `predict()` method for `regsubsets()`.\n",
    "Since we will be using this function again, we can capture our steps above and write our own predict method.\n"
   ]
  },
  {
   "cell_type": "code",
   "execution_count": 32,
   "id": "7dc0565f",
   "metadata": {
    "name": "chunk19"
   },
   "outputs": [],
   "source": [
    "#적합된 선형 모형 object를 받아 newdata에 대해 예측치를 계산하는 함수\n",
    "\n",
    "predict.regsubsets <- function(object, newdata, id, ...) {\n",
    "  form <- as.formula(object$call[[2]])\n",
    "  mat <- model.matrix(form, newdata)\n",
    "  coefi <- coef(object, id = id)\n",
    "  xvars <- names(coefi)\n",
    "  mat[, xvars] %*% coefi\n",
    "}"
   ]
  },
  {
   "cell_type": "markdown",
   "id": "99615596",
   "metadata": {},
   "source": [
    "Our function pretty much mimics what we did above. The only complex part is how we extracted the formula used in\n",
    "the call to `regsubsets()`. We demonstrate how we use this function below, when we do cross-validation.\n",
    "\n",
    "Finally, we perform best subset selection on the full data set, and select the best seven-variable model. It is important that we make use of  the full data set in order to obtain more accurate coefficient estimates. Note that we perform best subset selection on the full data set and select the best seven-variable model, rather than simply using the variables that were obtained from the training set, because the best seven-variable model on the full data set may differ from the corresponding model on the training set."
   ]
  },
  {
   "cell_type": "code",
   "execution_count": 33,
   "id": "2d2088a2",
   "metadata": {
    "name": "chunk20"
   },
   "outputs": [
    {
     "data": {
      "text/html": [
       "<style>\n",
       ".dl-inline {width: auto; margin:0; padding: 0}\n",
       ".dl-inline>dt, .dl-inline>dd {float: none; width: auto; display: inline-block}\n",
       ".dl-inline>dt::after {content: \":\\0020\"; padding-right: .5ex}\n",
       ".dl-inline>dt:not(:first-of-type) {padding-left: .5ex}\n",
       "</style><dl class=dl-inline><dt>(Intercept)</dt><dd>79.4509472435319</dd><dt>Hits</dt><dd>1.28335125463328</dd><dt>Walks</dt><dd>3.22742638972714</dd><dt>CAtBat</dt><dd>-0.375235019565453</dd><dt>CHits</dt><dd>1.49570730989869</dd><dt>CHmRun</dt><dd>1.44205381889666</dd><dt>DivisionW</dt><dd>-129.986643165116</dd><dt>PutOuts</dt><dd>0.236681317525621</dd></dl>\n"
      ],
      "text/latex": [
       "\\begin{description*}\n",
       "\\item[(Intercept)] 79.4509472435319\n",
       "\\item[Hits] 1.28335125463328\n",
       "\\item[Walks] 3.22742638972714\n",
       "\\item[CAtBat] -0.375235019565453\n",
       "\\item[CHits] 1.49570730989869\n",
       "\\item[CHmRun] 1.44205381889666\n",
       "\\item[DivisionW] -129.986643165116\n",
       "\\item[PutOuts] 0.236681317525621\n",
       "\\end{description*}\n"
      ],
      "text/markdown": [
       "(Intercept)\n",
       ":   79.4509472435319Hits\n",
       ":   1.28335125463328Walks\n",
       ":   3.22742638972714CAtBat\n",
       ":   -0.375235019565453CHits\n",
       ":   1.49570730989869CHmRun\n",
       ":   1.44205381889666DivisionW\n",
       ":   -129.986643165116PutOuts\n",
       ":   0.236681317525621\n",
       "\n"
      ],
      "text/plain": [
       " (Intercept)         Hits        Walks       CAtBat        CHits       CHmRun \n",
       "  79.4509472    1.2833513    3.2274264   -0.3752350    1.4957073    1.4420538 \n",
       "   DivisionW      PutOuts \n",
       "-129.9866432    0.2366813 "
      ]
     },
     "metadata": {},
     "output_type": "display_data"
    }
   ],
   "source": [
    "#validation set approach 에 의해 7개의 예측변수를 가지는 모형이 선택되었으므로 해당 모형에 대해 full dataset을 이용하여 적합.\n",
    "regfit.best <- regsubsets(Salary ~ ., data = Hitters,\n",
    "    nvmax = 19)\n",
    "coef(regfit.best, 7)"
   ]
  },
  {
   "cell_type": "markdown",
   "id": "66ff7099",
   "metadata": {},
   "source": [
    "In fact, we see that the best seven-variable model on the full data set has a different set of variables than the best seven-variable model on the training set.\n",
    "\n",
    "We now try to choose among the models of different sizes using cross-validation.\n",
    "This approach is somewhat involved, as we  must perform best subset selection *within each of the $k$ training sets*.\n",
    "Despite this, we see that with its clever subsetting syntax, `R` makes this job quite easy.\n",
    " First, we create a  vector that allocates each observation to one of $k=10$ folds, and we create\n",
    "a matrix in which we will store the results."
   ]
  },
  {
   "cell_type": "markdown",
   "id": "51cf00b9-bcdd-40b8-bcf1-17849f7f6f9c",
   "metadata": {},
   "source": [
    "#### 10 fold cv (이건 그냥 붙여다 써야할듯?)"
   ]
  },
  {
   "cell_type": "code",
   "execution_count": 34,
   "id": "0a33aa52",
   "metadata": {
    "name": "chunk21"
   },
   "outputs": [],
   "source": [
    "#10fold cv를 이용한 최적 모형 선택\n",
    "k <- 10\n",
    "n <- nrow(Hitters)\n",
    "set.seed(1)\n",
    "folds <- sample(rep(1:k, length = n)) #폴드를 정하려는 것\n",
    "cv.errors <- matrix(NA, k, 19,\n",
    "    dimnames = list(NULL, paste(1:19)))"
   ]
  },
  {
   "cell_type": "code",
   "execution_count": 35,
   "id": "57d19ff5-991d-4d33-9271-44713beeac86",
   "metadata": {},
   "outputs": [
    {
     "data": {
      "text/html": [
       "<table class=\"dataframe\">\n",
       "<caption>A matrix: 10 × 19 of type lgl</caption>\n",
       "<thead>\n",
       "\t<tr><th scope=col>1</th><th scope=col>2</th><th scope=col>3</th><th scope=col>4</th><th scope=col>5</th><th scope=col>6</th><th scope=col>7</th><th scope=col>8</th><th scope=col>9</th><th scope=col>10</th><th scope=col>11</th><th scope=col>12</th><th scope=col>13</th><th scope=col>14</th><th scope=col>15</th><th scope=col>16</th><th scope=col>17</th><th scope=col>18</th><th scope=col>19</th></tr>\n",
       "</thead>\n",
       "<tbody>\n",
       "\t<tr><td>NA</td><td>NA</td><td>NA</td><td>NA</td><td>NA</td><td>NA</td><td>NA</td><td>NA</td><td>NA</td><td>NA</td><td>NA</td><td>NA</td><td>NA</td><td>NA</td><td>NA</td><td>NA</td><td>NA</td><td>NA</td><td>NA</td></tr>\n",
       "\t<tr><td>NA</td><td>NA</td><td>NA</td><td>NA</td><td>NA</td><td>NA</td><td>NA</td><td>NA</td><td>NA</td><td>NA</td><td>NA</td><td>NA</td><td>NA</td><td>NA</td><td>NA</td><td>NA</td><td>NA</td><td>NA</td><td>NA</td></tr>\n",
       "\t<tr><td>NA</td><td>NA</td><td>NA</td><td>NA</td><td>NA</td><td>NA</td><td>NA</td><td>NA</td><td>NA</td><td>NA</td><td>NA</td><td>NA</td><td>NA</td><td>NA</td><td>NA</td><td>NA</td><td>NA</td><td>NA</td><td>NA</td></tr>\n",
       "\t<tr><td>NA</td><td>NA</td><td>NA</td><td>NA</td><td>NA</td><td>NA</td><td>NA</td><td>NA</td><td>NA</td><td>NA</td><td>NA</td><td>NA</td><td>NA</td><td>NA</td><td>NA</td><td>NA</td><td>NA</td><td>NA</td><td>NA</td></tr>\n",
       "\t<tr><td>NA</td><td>NA</td><td>NA</td><td>NA</td><td>NA</td><td>NA</td><td>NA</td><td>NA</td><td>NA</td><td>NA</td><td>NA</td><td>NA</td><td>NA</td><td>NA</td><td>NA</td><td>NA</td><td>NA</td><td>NA</td><td>NA</td></tr>\n",
       "\t<tr><td>NA</td><td>NA</td><td>NA</td><td>NA</td><td>NA</td><td>NA</td><td>NA</td><td>NA</td><td>NA</td><td>NA</td><td>NA</td><td>NA</td><td>NA</td><td>NA</td><td>NA</td><td>NA</td><td>NA</td><td>NA</td><td>NA</td></tr>\n",
       "\t<tr><td>NA</td><td>NA</td><td>NA</td><td>NA</td><td>NA</td><td>NA</td><td>NA</td><td>NA</td><td>NA</td><td>NA</td><td>NA</td><td>NA</td><td>NA</td><td>NA</td><td>NA</td><td>NA</td><td>NA</td><td>NA</td><td>NA</td></tr>\n",
       "\t<tr><td>NA</td><td>NA</td><td>NA</td><td>NA</td><td>NA</td><td>NA</td><td>NA</td><td>NA</td><td>NA</td><td>NA</td><td>NA</td><td>NA</td><td>NA</td><td>NA</td><td>NA</td><td>NA</td><td>NA</td><td>NA</td><td>NA</td></tr>\n",
       "\t<tr><td>NA</td><td>NA</td><td>NA</td><td>NA</td><td>NA</td><td>NA</td><td>NA</td><td>NA</td><td>NA</td><td>NA</td><td>NA</td><td>NA</td><td>NA</td><td>NA</td><td>NA</td><td>NA</td><td>NA</td><td>NA</td><td>NA</td></tr>\n",
       "\t<tr><td>NA</td><td>NA</td><td>NA</td><td>NA</td><td>NA</td><td>NA</td><td>NA</td><td>NA</td><td>NA</td><td>NA</td><td>NA</td><td>NA</td><td>NA</td><td>NA</td><td>NA</td><td>NA</td><td>NA</td><td>NA</td><td>NA</td></tr>\n",
       "</tbody>\n",
       "</table>\n"
      ],
      "text/latex": [
       "A matrix: 10 × 19 of type lgl\n",
       "\\begin{tabular}{lllllllllllllllllll}\n",
       " 1 & 2 & 3 & 4 & 5 & 6 & 7 & 8 & 9 & 10 & 11 & 12 & 13 & 14 & 15 & 16 & 17 & 18 & 19\\\\\n",
       "\\hline\n",
       "\t NA & NA & NA & NA & NA & NA & NA & NA & NA & NA & NA & NA & NA & NA & NA & NA & NA & NA & NA\\\\\n",
       "\t NA & NA & NA & NA & NA & NA & NA & NA & NA & NA & NA & NA & NA & NA & NA & NA & NA & NA & NA\\\\\n",
       "\t NA & NA & NA & NA & NA & NA & NA & NA & NA & NA & NA & NA & NA & NA & NA & NA & NA & NA & NA\\\\\n",
       "\t NA & NA & NA & NA & NA & NA & NA & NA & NA & NA & NA & NA & NA & NA & NA & NA & NA & NA & NA\\\\\n",
       "\t NA & NA & NA & NA & NA & NA & NA & NA & NA & NA & NA & NA & NA & NA & NA & NA & NA & NA & NA\\\\\n",
       "\t NA & NA & NA & NA & NA & NA & NA & NA & NA & NA & NA & NA & NA & NA & NA & NA & NA & NA & NA\\\\\n",
       "\t NA & NA & NA & NA & NA & NA & NA & NA & NA & NA & NA & NA & NA & NA & NA & NA & NA & NA & NA\\\\\n",
       "\t NA & NA & NA & NA & NA & NA & NA & NA & NA & NA & NA & NA & NA & NA & NA & NA & NA & NA & NA\\\\\n",
       "\t NA & NA & NA & NA & NA & NA & NA & NA & NA & NA & NA & NA & NA & NA & NA & NA & NA & NA & NA\\\\\n",
       "\t NA & NA & NA & NA & NA & NA & NA & NA & NA & NA & NA & NA & NA & NA & NA & NA & NA & NA & NA\\\\\n",
       "\\end{tabular}\n"
      ],
      "text/markdown": [
       "\n",
       "A matrix: 10 × 19 of type lgl\n",
       "\n",
       "| 1 | 2 | 3 | 4 | 5 | 6 | 7 | 8 | 9 | 10 | 11 | 12 | 13 | 14 | 15 | 16 | 17 | 18 | 19 |\n",
       "|---|---|---|---|---|---|---|---|---|---|---|---|---|---|---|---|---|---|---|\n",
       "| NA | NA | NA | NA | NA | NA | NA | NA | NA | NA | NA | NA | NA | NA | NA | NA | NA | NA | NA |\n",
       "| NA | NA | NA | NA | NA | NA | NA | NA | NA | NA | NA | NA | NA | NA | NA | NA | NA | NA | NA |\n",
       "| NA | NA | NA | NA | NA | NA | NA | NA | NA | NA | NA | NA | NA | NA | NA | NA | NA | NA | NA |\n",
       "| NA | NA | NA | NA | NA | NA | NA | NA | NA | NA | NA | NA | NA | NA | NA | NA | NA | NA | NA |\n",
       "| NA | NA | NA | NA | NA | NA | NA | NA | NA | NA | NA | NA | NA | NA | NA | NA | NA | NA | NA |\n",
       "| NA | NA | NA | NA | NA | NA | NA | NA | NA | NA | NA | NA | NA | NA | NA | NA | NA | NA | NA |\n",
       "| NA | NA | NA | NA | NA | NA | NA | NA | NA | NA | NA | NA | NA | NA | NA | NA | NA | NA | NA |\n",
       "| NA | NA | NA | NA | NA | NA | NA | NA | NA | NA | NA | NA | NA | NA | NA | NA | NA | NA | NA |\n",
       "| NA | NA | NA | NA | NA | NA | NA | NA | NA | NA | NA | NA | NA | NA | NA | NA | NA | NA | NA |\n",
       "| NA | NA | NA | NA | NA | NA | NA | NA | NA | NA | NA | NA | NA | NA | NA | NA | NA | NA | NA |\n",
       "\n"
      ],
      "text/plain": [
       "      1  2  3  4  5  6  7  8  9  10 11 12 13 14 15 16 17 18 19\n",
       " [1,] NA NA NA NA NA NA NA NA NA NA NA NA NA NA NA NA NA NA NA\n",
       " [2,] NA NA NA NA NA NA NA NA NA NA NA NA NA NA NA NA NA NA NA\n",
       " [3,] NA NA NA NA NA NA NA NA NA NA NA NA NA NA NA NA NA NA NA\n",
       " [4,] NA NA NA NA NA NA NA NA NA NA NA NA NA NA NA NA NA NA NA\n",
       " [5,] NA NA NA NA NA NA NA NA NA NA NA NA NA NA NA NA NA NA NA\n",
       " [6,] NA NA NA NA NA NA NA NA NA NA NA NA NA NA NA NA NA NA NA\n",
       " [7,] NA NA NA NA NA NA NA NA NA NA NA NA NA NA NA NA NA NA NA\n",
       " [8,] NA NA NA NA NA NA NA NA NA NA NA NA NA NA NA NA NA NA NA\n",
       " [9,] NA NA NA NA NA NA NA NA NA NA NA NA NA NA NA NA NA NA NA\n",
       "[10,] NA NA NA NA NA NA NA NA NA NA NA NA NA NA NA NA NA NA NA"
      ]
     },
     "metadata": {},
     "output_type": "display_data"
    }
   ],
   "source": [
    "cv.errors"
   ]
  },
  {
   "cell_type": "markdown",
   "id": "f11b779c",
   "metadata": {},
   "source": [
    "Now we write a for loop that performs cross-validation. In the $j$th fold, the elements of `folds` that equal `j` are in the test set, and the remainder are in the training set. We make our predictions for each model size (using our new\n",
    "`predict()` method), compute the test errors on the appropriate subset, and\n",
    "store them in the appropriate slot in the matrix `cv.errors`. Note that in the following code `R` will automatically use our `predict.regsubsets()` function when we call `predict()` because the `best.fit` object has class `regsubsets`."
   ]
  },
  {
   "cell_type": "code",
   "execution_count": 36,
   "id": "d6623cde",
   "metadata": {
    "name": "chunk22"
   },
   "outputs": [],
   "source": [
    "# 10개의 fold에 대하여 반복적으로 모형을 적합한 후 test mse를 계산하는 과정\n",
    "for (j in 1:k) {\n",
    "  best.fit <- regsubsets(Salary ~ .,\n",
    "       data = Hitters[folds != j, ],\n",
    "       nvmax = 19)\n",
    "  for (i in 1:19) {\n",
    "    pred <- predict(best.fit, Hitters[folds == j, ], id = i)\n",
    "    cv.errors[j, i] <-\n",
    "         mean((Hitters$Salary[folds == j] - pred)^2)\n",
    "   }\n",
    " }"
   ]
  },
  {
   "cell_type": "code",
   "execution_count": 38,
   "id": "0feea13b-17a1-4d6b-a451-ee5846af3ccb",
   "metadata": {},
   "outputs": [
    {
     "data": {
      "text/html": [
       "<table class=\"dataframe\">\n",
       "<caption>A matrix: 10 × 19 of type dbl</caption>\n",
       "<thead>\n",
       "\t<tr><th scope=col>1</th><th scope=col>2</th><th scope=col>3</th><th scope=col>4</th><th scope=col>5</th><th scope=col>6</th><th scope=col>7</th><th scope=col>8</th><th scope=col>9</th><th scope=col>10</th><th scope=col>11</th><th scope=col>12</th><th scope=col>13</th><th scope=col>14</th><th scope=col>15</th><th scope=col>16</th><th scope=col>17</th><th scope=col>18</th><th scope=col>19</th></tr>\n",
       "</thead>\n",
       "<tbody>\n",
       "\t<tr><td>127890.3</td><td>125463.90</td><td>128578.79</td><td>111911.33</td><td>101114.60</td><td> 95242.33</td><td> 98345.63</td><td> 84814.23</td><td> 83455.36</td><td> 75726.63</td><td> 78463.82</td><td> 79888.20</td><td> 82484.65</td><td> 80951.81</td><td> 77560.40</td><td> 78879.58</td><td> 79830.20</td><td> 79722.95</td><td> 80005.44</td></tr>\n",
       "\t<tr><td>168327.4</td><td>210821.67</td><td>184753.93</td><td>231804.36</td><td>224179.03</td><td>210352.40</td><td>211473.31</td><td>197304.23</td><td>200266.64</td><td>187609.44</td><td>201795.83</td><td>200380.62</td><td>198914.41</td><td>199402.06</td><td>197167.12</td><td>197198.05</td><td>198036.07</td><td>198209.13</td><td>198008.51</td></tr>\n",
       "\t<tr><td>132686.8</td><td> 84650.97</td><td> 86454.94</td><td> 78680.10</td><td> 96050.17</td><td> 84208.72</td><td> 95356.47</td><td> 85614.74</td><td> 79881.26</td><td> 81255.69</td><td> 90018.75</td><td> 89450.30</td><td> 91886.23</td><td> 92501.70</td><td> 91988.42</td><td> 91004.77</td><td> 92346.10</td><td> 92022.85</td><td> 92091.80</td></tr>\n",
       "\t<tr><td>157239.1</td><td>106906.32</td><td>102772.55</td><td> 89610.47</td><td> 94583.00</td><td> 92662.53</td><td> 92414.38</td><td> 74119.85</td><td> 73002.78</td><td> 67421.58</td><td> 71267.29</td><td> 72252.73</td><td> 69804.10</td><td> 71269.71</td><td> 69045.64</td><td> 69060.61</td><td> 68885.46</td><td> 68603.20</td><td> 68626.92</td></tr>\n",
       "\t<tr><td>201947.5</td><td>236203.66</td><td>241277.30</td><td>228782.15</td><td>242071.17</td><td>231501.14</td><td>234597.48</td><td>229368.32</td><td>228433.06</td><td>232102.68</td><td>229886.37</td><td>225729.52</td><td>226278.91</td><td>226794.45</td><td>228164.53</td><td>227222.69</td><td>226852.14</td><td>227856.15</td><td>227708.70</td></tr>\n",
       "\t<tr><td>105885.2</td><td>105126.11</td><td>105652.01</td><td>115548.80</td><td>104185.91</td><td> 83944.52</td><td> 91226.14</td><td> 86482.41</td><td> 88755.65</td><td> 80418.72</td><td> 85890.21</td><td> 85426.14</td><td> 85494.45</td><td> 86483.69</td><td> 83653.56</td><td> 86903.65</td><td> 83936.87</td><td> 86740.22</td><td> 86692.60</td></tr>\n",
       "\t<tr><td>120544.8</td><td> 79228.77</td><td>162416.06</td><td>168996.23</td><td>157271.42</td><td>131733.84</td><td>132134.43</td><td>158076.63</td><td>178184.94</td><td>151803.98</td><td>148983.24</td><td>152099.15</td><td>153001.07</td><td>149761.19</td><td>150441.31</td><td>152504.51</td><td>152172.88</td><td>152271.90</td><td>151185.84</td></tr>\n",
       "\t<tr><td>158274.6</td><td>127558.76</td><td>120573.89</td><td>106130.02</td><td> 99976.67</td><td> 88645.76</td><td> 90748.45</td><td> 83496.51</td><td> 81189.12</td><td> 75826.95</td><td> 75779.31</td><td> 75766.17</td><td> 83038.07</td><td> 82213.69</td><td> 84045.58</td><td> 83667.76</td><td> 85193.02</td><td> 84961.56</td><td> 85106.66</td></tr>\n",
       "\t<tr><td>158893.7</td><td>124649.66</td><td>120495.75</td><td>102801.28</td><td> 96954.11</td><td>107281.30</td><td> 96263.87</td><td> 84965.93</td><td> 82087.78</td><td> 85162.88</td><td> 86998.39</td><td> 89964.04</td><td> 92439.29</td><td> 96237.88</td><td> 99258.97</td><td> 98565.45</td><td> 98481.10</td><td> 97446.11</td><td> 97234.67</td></tr>\n",
       "\t<tr><td>102708.6</td><td> 67560.46</td><td> 89166.47</td><td> 83564.71</td><td> 91269.99</td><td> 78256.69</td><td> 71870.79</td><td> 59394.15</td><td> 56373.92</td><td> 56331.19</td><td> 58301.64</td><td> 65208.14</td><td> 72234.88</td><td> 72917.11</td><td> 74980.01</td><td> 75493.21</td><td> 75436.45</td><td> 76358.50</td><td> 76329.71</td></tr>\n",
       "</tbody>\n",
       "</table>\n"
      ],
      "text/latex": [
       "A matrix: 10 × 19 of type dbl\n",
       "\\begin{tabular}{lllllllllllllllllll}\n",
       " 1 & 2 & 3 & 4 & 5 & 6 & 7 & 8 & 9 & 10 & 11 & 12 & 13 & 14 & 15 & 16 & 17 & 18 & 19\\\\\n",
       "\\hline\n",
       "\t 127890.3 & 125463.90 & 128578.79 & 111911.33 & 101114.60 &  95242.33 &  98345.63 &  84814.23 &  83455.36 &  75726.63 &  78463.82 &  79888.20 &  82484.65 &  80951.81 &  77560.40 &  78879.58 &  79830.20 &  79722.95 &  80005.44\\\\\n",
       "\t 168327.4 & 210821.67 & 184753.93 & 231804.36 & 224179.03 & 210352.40 & 211473.31 & 197304.23 & 200266.64 & 187609.44 & 201795.83 & 200380.62 & 198914.41 & 199402.06 & 197167.12 & 197198.05 & 198036.07 & 198209.13 & 198008.51\\\\\n",
       "\t 132686.8 &  84650.97 &  86454.94 &  78680.10 &  96050.17 &  84208.72 &  95356.47 &  85614.74 &  79881.26 &  81255.69 &  90018.75 &  89450.30 &  91886.23 &  92501.70 &  91988.42 &  91004.77 &  92346.10 &  92022.85 &  92091.80\\\\\n",
       "\t 157239.1 & 106906.32 & 102772.55 &  89610.47 &  94583.00 &  92662.53 &  92414.38 &  74119.85 &  73002.78 &  67421.58 &  71267.29 &  72252.73 &  69804.10 &  71269.71 &  69045.64 &  69060.61 &  68885.46 &  68603.20 &  68626.92\\\\\n",
       "\t 201947.5 & 236203.66 & 241277.30 & 228782.15 & 242071.17 & 231501.14 & 234597.48 & 229368.32 & 228433.06 & 232102.68 & 229886.37 & 225729.52 & 226278.91 & 226794.45 & 228164.53 & 227222.69 & 226852.14 & 227856.15 & 227708.70\\\\\n",
       "\t 105885.2 & 105126.11 & 105652.01 & 115548.80 & 104185.91 &  83944.52 &  91226.14 &  86482.41 &  88755.65 &  80418.72 &  85890.21 &  85426.14 &  85494.45 &  86483.69 &  83653.56 &  86903.65 &  83936.87 &  86740.22 &  86692.60\\\\\n",
       "\t 120544.8 &  79228.77 & 162416.06 & 168996.23 & 157271.42 & 131733.84 & 132134.43 & 158076.63 & 178184.94 & 151803.98 & 148983.24 & 152099.15 & 153001.07 & 149761.19 & 150441.31 & 152504.51 & 152172.88 & 152271.90 & 151185.84\\\\\n",
       "\t 158274.6 & 127558.76 & 120573.89 & 106130.02 &  99976.67 &  88645.76 &  90748.45 &  83496.51 &  81189.12 &  75826.95 &  75779.31 &  75766.17 &  83038.07 &  82213.69 &  84045.58 &  83667.76 &  85193.02 &  84961.56 &  85106.66\\\\\n",
       "\t 158893.7 & 124649.66 & 120495.75 & 102801.28 &  96954.11 & 107281.30 &  96263.87 &  84965.93 &  82087.78 &  85162.88 &  86998.39 &  89964.04 &  92439.29 &  96237.88 &  99258.97 &  98565.45 &  98481.10 &  97446.11 &  97234.67\\\\\n",
       "\t 102708.6 &  67560.46 &  89166.47 &  83564.71 &  91269.99 &  78256.69 &  71870.79 &  59394.15 &  56373.92 &  56331.19 &  58301.64 &  65208.14 &  72234.88 &  72917.11 &  74980.01 &  75493.21 &  75436.45 &  76358.50 &  76329.71\\\\\n",
       "\\end{tabular}\n"
      ],
      "text/markdown": [
       "\n",
       "A matrix: 10 × 19 of type dbl\n",
       "\n",
       "| 1 | 2 | 3 | 4 | 5 | 6 | 7 | 8 | 9 | 10 | 11 | 12 | 13 | 14 | 15 | 16 | 17 | 18 | 19 |\n",
       "|---|---|---|---|---|---|---|---|---|---|---|---|---|---|---|---|---|---|---|\n",
       "| 127890.3 | 125463.90 | 128578.79 | 111911.33 | 101114.60 |  95242.33 |  98345.63 |  84814.23 |  83455.36 |  75726.63 |  78463.82 |  79888.20 |  82484.65 |  80951.81 |  77560.40 |  78879.58 |  79830.20 |  79722.95 |  80005.44 |\n",
       "| 168327.4 | 210821.67 | 184753.93 | 231804.36 | 224179.03 | 210352.40 | 211473.31 | 197304.23 | 200266.64 | 187609.44 | 201795.83 | 200380.62 | 198914.41 | 199402.06 | 197167.12 | 197198.05 | 198036.07 | 198209.13 | 198008.51 |\n",
       "| 132686.8 |  84650.97 |  86454.94 |  78680.10 |  96050.17 |  84208.72 |  95356.47 |  85614.74 |  79881.26 |  81255.69 |  90018.75 |  89450.30 |  91886.23 |  92501.70 |  91988.42 |  91004.77 |  92346.10 |  92022.85 |  92091.80 |\n",
       "| 157239.1 | 106906.32 | 102772.55 |  89610.47 |  94583.00 |  92662.53 |  92414.38 |  74119.85 |  73002.78 |  67421.58 |  71267.29 |  72252.73 |  69804.10 |  71269.71 |  69045.64 |  69060.61 |  68885.46 |  68603.20 |  68626.92 |\n",
       "| 201947.5 | 236203.66 | 241277.30 | 228782.15 | 242071.17 | 231501.14 | 234597.48 | 229368.32 | 228433.06 | 232102.68 | 229886.37 | 225729.52 | 226278.91 | 226794.45 | 228164.53 | 227222.69 | 226852.14 | 227856.15 | 227708.70 |\n",
       "| 105885.2 | 105126.11 | 105652.01 | 115548.80 | 104185.91 |  83944.52 |  91226.14 |  86482.41 |  88755.65 |  80418.72 |  85890.21 |  85426.14 |  85494.45 |  86483.69 |  83653.56 |  86903.65 |  83936.87 |  86740.22 |  86692.60 |\n",
       "| 120544.8 |  79228.77 | 162416.06 | 168996.23 | 157271.42 | 131733.84 | 132134.43 | 158076.63 | 178184.94 | 151803.98 | 148983.24 | 152099.15 | 153001.07 | 149761.19 | 150441.31 | 152504.51 | 152172.88 | 152271.90 | 151185.84 |\n",
       "| 158274.6 | 127558.76 | 120573.89 | 106130.02 |  99976.67 |  88645.76 |  90748.45 |  83496.51 |  81189.12 |  75826.95 |  75779.31 |  75766.17 |  83038.07 |  82213.69 |  84045.58 |  83667.76 |  85193.02 |  84961.56 |  85106.66 |\n",
       "| 158893.7 | 124649.66 | 120495.75 | 102801.28 |  96954.11 | 107281.30 |  96263.87 |  84965.93 |  82087.78 |  85162.88 |  86998.39 |  89964.04 |  92439.29 |  96237.88 |  99258.97 |  98565.45 |  98481.10 |  97446.11 |  97234.67 |\n",
       "| 102708.6 |  67560.46 |  89166.47 |  83564.71 |  91269.99 |  78256.69 |  71870.79 |  59394.15 |  56373.92 |  56331.19 |  58301.64 |  65208.14 |  72234.88 |  72917.11 |  74980.01 |  75493.21 |  75436.45 |  76358.50 |  76329.71 |\n",
       "\n"
      ],
      "text/plain": [
       "      1        2         3         4         5         6         7        \n",
       " [1,] 127890.3 125463.90 128578.79 111911.33 101114.60  95242.33  98345.63\n",
       " [2,] 168327.4 210821.67 184753.93 231804.36 224179.03 210352.40 211473.31\n",
       " [3,] 132686.8  84650.97  86454.94  78680.10  96050.17  84208.72  95356.47\n",
       " [4,] 157239.1 106906.32 102772.55  89610.47  94583.00  92662.53  92414.38\n",
       " [5,] 201947.5 236203.66 241277.30 228782.15 242071.17 231501.14 234597.48\n",
       " [6,] 105885.2 105126.11 105652.01 115548.80 104185.91  83944.52  91226.14\n",
       " [7,] 120544.8  79228.77 162416.06 168996.23 157271.42 131733.84 132134.43\n",
       " [8,] 158274.6 127558.76 120573.89 106130.02  99976.67  88645.76  90748.45\n",
       " [9,] 158893.7 124649.66 120495.75 102801.28  96954.11 107281.30  96263.87\n",
       "[10,] 102708.6  67560.46  89166.47  83564.71  91269.99  78256.69  71870.79\n",
       "      8         9         10        11        12        13        14       \n",
       " [1,]  84814.23  83455.36  75726.63  78463.82  79888.20  82484.65  80951.81\n",
       " [2,] 197304.23 200266.64 187609.44 201795.83 200380.62 198914.41 199402.06\n",
       " [3,]  85614.74  79881.26  81255.69  90018.75  89450.30  91886.23  92501.70\n",
       " [4,]  74119.85  73002.78  67421.58  71267.29  72252.73  69804.10  71269.71\n",
       " [5,] 229368.32 228433.06 232102.68 229886.37 225729.52 226278.91 226794.45\n",
       " [6,]  86482.41  88755.65  80418.72  85890.21  85426.14  85494.45  86483.69\n",
       " [7,] 158076.63 178184.94 151803.98 148983.24 152099.15 153001.07 149761.19\n",
       " [8,]  83496.51  81189.12  75826.95  75779.31  75766.17  83038.07  82213.69\n",
       " [9,]  84965.93  82087.78  85162.88  86998.39  89964.04  92439.29  96237.88\n",
       "[10,]  59394.15  56373.92  56331.19  58301.64  65208.14  72234.88  72917.11\n",
       "      15        16        17        18        19       \n",
       " [1,]  77560.40  78879.58  79830.20  79722.95  80005.44\n",
       " [2,] 197167.12 197198.05 198036.07 198209.13 198008.51\n",
       " [3,]  91988.42  91004.77  92346.10  92022.85  92091.80\n",
       " [4,]  69045.64  69060.61  68885.46  68603.20  68626.92\n",
       " [5,] 228164.53 227222.69 226852.14 227856.15 227708.70\n",
       " [6,]  83653.56  86903.65  83936.87  86740.22  86692.60\n",
       " [7,] 150441.31 152504.51 152172.88 152271.90 151185.84\n",
       " [8,]  84045.58  83667.76  85193.02  84961.56  85106.66\n",
       " [9,]  99258.97  98565.45  98481.10  97446.11  97234.67\n",
       "[10,]  74980.01  75493.21  75436.45  76358.50  76329.71"
      ]
     },
     "metadata": {},
     "output_type": "display_data"
    }
   ],
   "source": [
    "cv.errors #변수의 개수와 폴드별 에러"
   ]
  },
  {
   "cell_type": "markdown",
   "id": "139f0fa6",
   "metadata": {},
   "source": [
    "This has given us a $10 \\times 19$ matrix, of which the $(j,i)$th element  corresponds to the test MSE for the $j$th\n",
    "cross-validation fold for the best $i$-variable model. We use the `apply()` function to average over the columns of this matrix in order to obtain a vector for which the $i$th element is the cross-validation error for the $i$-variable model."
   ]
  },
  {
   "cell_type": "code",
   "execution_count": 39,
   "id": "b5ddbf70",
   "metadata": {
    "name": "chunk23"
   },
   "outputs": [
    {
     "data": {
      "text/html": [
       "<style>\n",
       ".dl-inline {width: auto; margin:0; padding: 0}\n",
       ".dl-inline>dt, .dl-inline>dd {float: none; width: auto; display: inline-block}\n",
       ".dl-inline>dt::after {content: \":\\0020\"; padding-right: .5ex}\n",
       ".dl-inline>dt:not(:first-of-type) {padding-left: .5ex}\n",
       "</style><dl class=dl-inline><dt>1</dt><dd>143439.777169724</dd><dt>2</dt><dd>126817.028088538</dd><dt>3</dt><dd>134214.168280035</dd><dt>4</dt><dd>131782.944759182</dd><dt>5</dt><dd>130765.606614611</dd><dt>6</dt><dd>120382.922678267</dd><dt>7</dt><dd>121443.094798079</dd><dt>8</dt><dd>114363.700297284</dd><dt>9</dt><dd>115163.051870833</dd><dt>10</dt><dd>109365.9721354</dd><dt>11</dt><dd>112738.486153961</dd><dt>12</dt><dd>113616.50122792</dd><dt>13</dt><dd>115557.605426636</dd><dt>14</dt><dd>115853.328759098</dd><dt>15</dt><dd>115630.553130574</dd><dt>16</dt><dd>116050.027936048</dd><dt>17</dt><dd>116117.027907861</dd><dt>18</dt><dd>116419.258332581</dd><dt>19</dt><dd>116299.085423439</dd></dl>\n"
      ],
      "text/latex": [
       "\\begin{description*}\n",
       "\\item[1] 143439.777169724\n",
       "\\item[2] 126817.028088538\n",
       "\\item[3] 134214.168280035\n",
       "\\item[4] 131782.944759182\n",
       "\\item[5] 130765.606614611\n",
       "\\item[6] 120382.922678267\n",
       "\\item[7] 121443.094798079\n",
       "\\item[8] 114363.700297284\n",
       "\\item[9] 115163.051870833\n",
       "\\item[10] 109365.9721354\n",
       "\\item[11] 112738.486153961\n",
       "\\item[12] 113616.50122792\n",
       "\\item[13] 115557.605426636\n",
       "\\item[14] 115853.328759098\n",
       "\\item[15] 115630.553130574\n",
       "\\item[16] 116050.027936048\n",
       "\\item[17] 116117.027907861\n",
       "\\item[18] 116419.258332581\n",
       "\\item[19] 116299.085423439\n",
       "\\end{description*}\n"
      ],
      "text/markdown": [
       "1\n",
       ":   143439.7771697242\n",
       ":   126817.0280885383\n",
       ":   134214.1682800354\n",
       ":   131782.9447591825\n",
       ":   130765.6066146116\n",
       ":   120382.9226782677\n",
       ":   121443.0947980798\n",
       ":   114363.7002972849\n",
       ":   115163.05187083310\n",
       ":   109365.972135411\n",
       ":   112738.48615396112\n",
       ":   113616.5012279213\n",
       ":   115557.60542663614\n",
       ":   115853.32875909815\n",
       ":   115630.55313057416\n",
       ":   116050.02793604817\n",
       ":   116117.02790786118\n",
       ":   116419.25833258119\n",
       ":   116299.085423439\n",
       "\n"
      ],
      "text/plain": [
       "       1        2        3        4        5        6        7        8 \n",
       "143439.8 126817.0 134214.2 131782.9 130765.6 120382.9 121443.1 114363.7 \n",
       "       9       10       11       12       13       14       15       16 \n",
       "115163.1 109366.0 112738.5 113616.5 115557.6 115853.3 115630.6 116050.0 \n",
       "      17       18       19 \n",
       "116117.0 116419.3 116299.1 "
      ]
     },
     "metadata": {},
     "output_type": "display_data"
    },
    {
     "data": {
      "image/png": "[encoded data removed]",
      "text/plain": [
       "plot without title"
      ]
     },
     "metadata": {
      "image/png": {
       "height": 420,
       "width": 420
      }
     },
     "output_type": "display_data"
    }
   ],
   "source": [
    "mean.cv.errors <- apply(cv.errors, 2, mean) #10번 반복 계산된 test mse를 합쳐 전체 test mse 계산\n",
    "mean.cv.errors\n",
    "par(mfrow = c(1, 1))\n",
    "plot(mean.cv.errors, type = \"b\")"
   ]
  },
  {
   "cell_type": "markdown",
   "id": "540179ee",
   "metadata": {},
   "source": [
    "We see that cross-validation selects a 10-variable model. We now perform best subset selection on the full data set in order to obtain the 10-variable model."
   ]
  },
  {
   "cell_type": "code",
   "execution_count": 40,
   "id": "f4cdcc57",
   "metadata": {
    "lines_to_next_cell": 0,
    "name": "chunk24"
   },
   "outputs": [
    {
     "data": {
      "text/html": [
       "<style>\n",
       ".dl-inline {width: auto; margin:0; padding: 0}\n",
       ".dl-inline>dt, .dl-inline>dd {float: none; width: auto; display: inline-block}\n",
       ".dl-inline>dt::after {content: \":\\0020\"; padding-right: .5ex}\n",
       ".dl-inline>dt:not(:first-of-type) {padding-left: .5ex}\n",
       "</style><dl class=dl-inline><dt>(Intercept)</dt><dd>162.535442040545</dd><dt>AtBat</dt><dd>-2.16865005340437</dd><dt>Hits</dt><dd>6.91801749476659</dd><dt>Walks</dt><dd>5.7732246470264</dd><dt>CAtBat</dt><dd>-0.130079783913646</dd><dt>CRuns</dt><dd>1.40824900877044</dd><dt>CRBI</dt><dd>0.774312153250204</dd><dt>CWalks</dt><dd>-0.830826351501743</dd><dt>DivisionW</dt><dd>-112.380057493543</dd><dt>PutOuts</dt><dd>0.297372596603942</dd><dt>Assists</dt><dd>0.283168028635278</dd></dl>\n"
      ],
      "text/latex": [
       "\\begin{description*}\n",
       "\\item[(Intercept)] 162.535442040545\n",
       "\\item[AtBat] -2.16865005340437\n",
       "\\item[Hits] 6.91801749476659\n",
       "\\item[Walks] 5.7732246470264\n",
       "\\item[CAtBat] -0.130079783913646\n",
       "\\item[CRuns] 1.40824900877044\n",
       "\\item[CRBI] 0.774312153250204\n",
       "\\item[CWalks] -0.830826351501743\n",
       "\\item[DivisionW] -112.380057493543\n",
       "\\item[PutOuts] 0.297372596603942\n",
       "\\item[Assists] 0.283168028635278\n",
       "\\end{description*}\n"
      ],
      "text/markdown": [
       "(Intercept)\n",
       ":   162.535442040545AtBat\n",
       ":   -2.16865005340437Hits\n",
       ":   6.91801749476659Walks\n",
       ":   5.7732246470264CAtBat\n",
       ":   -0.130079783913646CRuns\n",
       ":   1.40824900877044CRBI\n",
       ":   0.774312153250204CWalks\n",
       ":   -0.830826351501743DivisionW\n",
       ":   -112.380057493543PutOuts\n",
       ":   0.297372596603942Assists\n",
       ":   0.283168028635278\n",
       "\n"
      ],
      "text/plain": [
       " (Intercept)        AtBat         Hits        Walks       CAtBat        CRuns \n",
       " 162.5354420   -2.1686501    6.9180175    5.7732246   -0.1300798    1.4082490 \n",
       "        CRBI       CWalks    DivisionW      PutOuts      Assists \n",
       "   0.7743122   -0.8308264 -112.3800575    0.2973726    0.2831680 "
      ]
     },
     "metadata": {},
     "output_type": "display_data"
    }
   ],
   "source": [
    "#가장 좋은 차수의 모델을 알았음. 이제 전체 데이터에 대해서 적합.\n",
    "reg.best <- regsubsets(Salary ~ ., data = Hitters,\n",
    "    nvmax = 19)\n",
    "coef(reg.best, 10)"
   ]
  },
  {
   "cell_type": "code",
   "execution_count": 111,
   "id": "c5836980-90f4-467d-a98b-6e65e2ccc152",
   "metadata": {},
   "outputs": [],
   "source": [
    "#cv 기법으로 가장 괜찮은 모델의 차수를 정하고\n",
    "#full dataset을 이용하여 best subset selection으로 변수 7개짜리 모형을 고름!"
   ]
  },
  {
   "cell_type": "markdown",
   "id": "42a5574d",
   "metadata": {},
   "source": [
    "\n"
   ]
  },
  {
   "cell_type": "markdown",
   "id": "c5660181-35be-48f4-9675-ac280e6974ae",
   "metadata": {},
   "source": [
    "#### Ridge 와 Lasso method를 사용하면서 조절모수를 선택하고 적합"
   ]
  },
  {
   "cell_type": "markdown",
   "id": "c5c18dea",
   "metadata": {},
   "source": [
    "## Ridge Regression and the Lasso\n",
    "\n",
    "We will use the `glmnet` package in order to perform ridge regression and the lasso.\n",
    "The main function in this package is `glmnet()`, which can be used to fit ridge regression models, lasso models, and more.\n",
    "This function has slightly different syntax from other model-fitting functions that we have encountered thus far in this book. In particular, we must pass in an `x` matrix as well as a `y` vector, and we do not use the `y ~ x` syntax. We will now perform ridge regression and the lasso in order to predict `Salary` on the `Hitters` data. Before proceeding ensure that the missing values have been removed from the data, as described in Section 6.5.1.\n"
   ]
  },
  {
   "cell_type": "code",
   "execution_count": 46,
   "id": "39682eed",
   "metadata": {
    "name": "chunk25"
   },
   "outputs": [],
   "source": [
    "#glmnet package에서는 model matrix 부분 x와 반응변수 부분 y를 따로 입력해야함\n",
    "x <- model.matrix(Salary ~ ., Hitters)[, -1]  #intercept 제거\n",
    "y <- Hitters$Salary"
   ]
  },
  {
   "cell_type": "markdown",
   "id": "4894e68f",
   "metadata": {},
   "source": [
    "The `model.matrix()` function is particularly useful for creating `x`; not only does it produce a matrix corresponding to the $19$ predictors but it also automatically transforms any qualitative variables into dummy variables. The latter property is important because `glmnet()` can only take numerical, quantitative inputs.\n",
    "\n",
    "### Ridge Regression\n",
    "\n",
    "The `glmnet()` function has an `alpha` argument that determines what type of model is fit. If `alpha=0` then a ridge regression model is fit, and if `alpha=1`\n",
    "then a lasso model is fit. We first fit a ridge regression model."
   ]
  },
  {
   "cell_type": "code",
   "execution_count": 51,
   "id": "5cb34c48",
   "metadata": {
    "name": "chunk26"
   },
   "outputs": [
    {
     "name": "stderr",
     "output_type": "stream",
     "text": [
      "Warning message:\n",
      "\"패키지 'glmnet'는 R 버전 4.1.3에서 작성되었습니다\"\n",
      "필요한 패키지를 로딩중입니다: Matrix\n",
      "\n",
      "Loaded glmnet 4.1-7\n",
      "\n"
     ]
    }
   ],
   "source": [
    "library(glmnet)\n",
    "grid <- 10^seq(10, -2, length = 100) #tuning parameter 인 람다의 선택을 위한 그리드 설정..\n",
    "ridge.mod <- glmnet(x, y, alpha = 0, lambda = grid) #그리드를 넣으면 알아서 찾아주나보다.\n",
    "\n",
    "#위 함수는 default로 모든 예측변수들을 표준화 한 후 모형을 적합함. \n",
    "#이후 원래의 scale로 돌아간 형태의 계수 추정치가 출력된다."
   ]
  },
  {
   "cell_type": "markdown",
   "id": "d3fc7a37",
   "metadata": {},
   "source": [
    "By default the `glmnet()` function performs ridge regression for an automatically selected range of $\\lambda$ values. However, here we have chosen to implement the function over a grid of values ranging from $\\lambda=10^{10}$ to $\\lambda=10^{-2}$, essentially covering the full range of scenarios from the null model containing only the intercept, to the least squares fit. As we will see, we can also compute model fits for a particular value of $\\lambda$ that is not one of the original `grid` values. Note that by default, the `glmnet()` function standardizes the variables so that they are on the same scale. To turn off this default setting, use the argument `standardize = FALSE`.\n",
    "\n",
    "Associated with each value of $\\lambda$ is a vector of ridge regression coefficients, stored in a matrix that can be accessed by `coef()`. In this case, it is a $20 \\times 100$\n",
    "matrix, with $20$ rows (one for each predictor, plus an intercept) and $100$ columns (one for each value of $\\lambda$)."
   ]
  },
  {
   "cell_type": "code",
   "execution_count": 114,
   "id": "2f9fbfce-6d33-4b11-98cd-c69eb8dadaea",
   "metadata": {},
   "outputs": [],
   "source": [
    "#모델에 대해 설명되는 변동의 비율이 ridge.mod에 녹아있다."
   ]
  },
  {
   "cell_type": "code",
   "execution_count": 52,
   "id": "74218772",
   "metadata": {
    "name": "chunk27"
   },
   "outputs": [
    {
     "data": {
      "text/html": [
       "<style>\n",
       ".list-inline {list-style: none; margin:0; padding: 0}\n",
       ".list-inline>li {display: inline-block}\n",
       ".list-inline>li:not(:last-child)::after {content: \"\\00b7\"; padding: 0 .5ex}\n",
       "</style>\n",
       "<ol class=list-inline><li>20</li><li>100</li></ol>\n"
      ],
      "text/latex": [
       "\\begin{enumerate*}\n",
       "\\item 20\n",
       "\\item 100\n",
       "\\end{enumerate*}\n"
      ],
      "text/markdown": [
       "1. 20\n",
       "2. 100\n",
       "\n",
       "\n"
      ],
      "text/plain": [
       "[1]  20 100"
      ]
     },
     "metadata": {},
     "output_type": "display_data"
    }
   ],
   "source": [
    "dim(coef(ridge.mod))"
   ]
  },
  {
   "cell_type": "markdown",
   "id": "16e5922e",
   "metadata": {},
   "source": [
    "We expect the coefficient estimates to be much smaller, in terms of $\\ell_2$ norm, when a large value of $\\lambda$ is used, as compared to when a small value of\n",
    "$\\lambda$ is used. These are the coefficients when $\\lambda=11{,}498$, along with their $\\ell_2$ norm:"
   ]
  },
  {
   "cell_type": "code",
   "execution_count": 54,
   "id": "2808f052",
   "metadata": {
    "name": "chunk28"
   },
   "outputs": [
    {
     "data": {
      "text/html": [
       "11497.5699539774"
      ],
      "text/latex": [
       "11497.5699539774"
      ],
      "text/markdown": [
       "11497.5699539774"
      ],
      "text/plain": [
       "[1] 11497.57"
      ]
     },
     "metadata": {},
     "output_type": "display_data"
    },
    {
     "data": {
      "text/html": [
       "<style>\n",
       ".dl-inline {width: auto; margin:0; padding: 0}\n",
       ".dl-inline>dt, .dl-inline>dd {float: none; width: auto; display: inline-block}\n",
       ".dl-inline>dt::after {content: \":\\0020\"; padding-right: .5ex}\n",
       ".dl-inline>dt:not(:first-of-type) {padding-left: .5ex}\n",
       "</style><dl class=dl-inline><dt>(Intercept)</dt><dd>407.356050200417</dd><dt>AtBat</dt><dd>0.0369571817501358</dd><dt>Hits</dt><dd>0.138180343807892</dd><dt>HmRun</dt><dd>0.524629975886912</dd><dt>Runs</dt><dd>0.230701522621179</dd><dt>RBI</dt><dd>0.239841458504058</dd><dt>Walks</dt><dd>0.289618741049883</dd><dt>Years</dt><dd>1.10770292908555</dd><dt>CAtBat</dt><dd>0.00313181522151328</dd><dt>CHits</dt><dd>0.0116536373557531</dd><dt>CHmRun</dt><dd>0.0875456697555948</dd><dt>CRuns</dt><dd>0.0233798823693758</dd><dt>CRBI</dt><dd>0.0241383203685686</dd><dt>CWalks</dt><dd>0.0250154205993731</dd><dt>LeagueN</dt><dd>0.0850281135625464</dd><dt>DivisionW</dt><dd>-6.21544097273148</dd><dt>PutOuts</dt><dd>0.0164825767604547</dd><dt>Assists</dt><dd>0.00261298804528182</dd><dt>Errors</dt><dd>-0.020502690365458</dd><dt>NewLeagueN</dt><dd>0.301433531372699</dd></dl>\n"
      ],
      "text/latex": [
       "\\begin{description*}\n",
       "\\item[(Intercept)] 407.356050200417\n",
       "\\item[AtBat] 0.0369571817501358\n",
       "\\item[Hits] 0.138180343807892\n",
       "\\item[HmRun] 0.524629975886912\n",
       "\\item[Runs] 0.230701522621179\n",
       "\\item[RBI] 0.239841458504058\n",
       "\\item[Walks] 0.289618741049883\n",
       "\\item[Years] 1.10770292908555\n",
       "\\item[CAtBat] 0.00313181522151328\n",
       "\\item[CHits] 0.0116536373557531\n",
       "\\item[CHmRun] 0.0875456697555948\n",
       "\\item[CRuns] 0.0233798823693758\n",
       "\\item[CRBI] 0.0241383203685686\n",
       "\\item[CWalks] 0.0250154205993731\n",
       "\\item[LeagueN] 0.0850281135625464\n",
       "\\item[DivisionW] -6.21544097273148\n",
       "\\item[PutOuts] 0.0164825767604547\n",
       "\\item[Assists] 0.00261298804528182\n",
       "\\item[Errors] -0.020502690365458\n",
       "\\item[NewLeagueN] 0.301433531372699\n",
       "\\end{description*}\n"
      ],
      "text/markdown": [
       "(Intercept)\n",
       ":   407.356050200417AtBat\n",
       ":   0.0369571817501358Hits\n",
       ":   0.138180343807892HmRun\n",
       ":   0.524629975886912Runs\n",
       ":   0.230701522621179RBI\n",
       ":   0.239841458504058Walks\n",
       ":   0.289618741049883Years\n",
       ":   1.10770292908555CAtBat\n",
       ":   0.00313181522151328CHits\n",
       ":   0.0116536373557531CHmRun\n",
       ":   0.0875456697555948CRuns\n",
       ":   0.0233798823693758CRBI\n",
       ":   0.0241383203685686CWalks\n",
       ":   0.0250154205993731LeagueN\n",
       ":   0.0850281135625464DivisionW\n",
       ":   -6.21544097273148PutOuts\n",
       ":   0.0164825767604547Assists\n",
       ":   0.00261298804528182Errors\n",
       ":   -0.020502690365458NewLeagueN\n",
       ":   0.301433531372699\n",
       "\n"
      ],
      "text/plain": [
       "  (Intercept)         AtBat          Hits         HmRun          Runs \n",
       "407.356050200   0.036957182   0.138180344   0.524629976   0.230701523 \n",
       "          RBI         Walks         Years        CAtBat         CHits \n",
       "  0.239841459   0.289618741   1.107702929   0.003131815   0.011653637 \n",
       "       CHmRun         CRuns          CRBI        CWalks       LeagueN \n",
       "  0.087545670   0.023379882   0.024138320   0.025015421   0.085028114 \n",
       "    DivisionW       PutOuts       Assists        Errors    NewLeagueN \n",
       " -6.215440973   0.016482577   0.002612988  -0.020502690   0.301433531 "
      ]
     },
     "metadata": {},
     "output_type": "display_data"
    },
    {
     "data": {
      "text/html": [
       "6.36061242142793"
      ],
      "text/latex": [
       "6.36061242142793"
      ],
      "text/markdown": [
       "6.36061242142793"
      ],
      "text/plain": [
       "[1] 6.360612"
      ]
     },
     "metadata": {},
     "output_type": "display_data"
    }
   ],
   "source": [
    "#50번째 모형 (상대적으로 큰 페널티) 에서 계수 추정치의 크기\n",
    "ridge.mod$lambda[50]\n",
    "coef(ridge.mod)[, 50]\n",
    "sqrt(sum(coef(ridge.mod)[-1, 50]^2))"
   ]
  },
  {
   "cell_type": "markdown",
   "id": "13976013",
   "metadata": {},
   "source": [
    "In contrast, here are the coefficients when $\\lambda=705$, along with their $\\ell_2$ norm. Note the much larger $\\ell_2$ norm of the coefficients associated with this smaller value of $\\lambda$."
   ]
  },
  {
   "cell_type": "code",
   "execution_count": 55,
   "id": "04b469b6",
   "metadata": {
    "name": "chunk29"
   },
   "outputs": [
    {
     "data": {
      "text/html": [
       "705.480231071865"
      ],
      "text/latex": [
       "705.480231071865"
      ],
      "text/markdown": [
       "705.480231071865"
      ],
      "text/plain": [
       "[1] 705.4802"
      ]
     },
     "metadata": {},
     "output_type": "display_data"
    },
    {
     "data": {
      "text/html": [
       "<style>\n",
       ".dl-inline {width: auto; margin:0; padding: 0}\n",
       ".dl-inline>dt, .dl-inline>dd {float: none; width: auto; display: inline-block}\n",
       ".dl-inline>dt::after {content: \":\\0020\"; padding-right: .5ex}\n",
       ".dl-inline>dt:not(:first-of-type) {padding-left: .5ex}\n",
       "</style><dl class=dl-inline><dt>(Intercept)</dt><dd>54.3251995018381</dd><dt>AtBat</dt><dd>0.112111145878248</dd><dt>Hits</dt><dd>0.656224085323628</dd><dt>HmRun</dt><dd>1.17980909638778</dd><dt>Runs</dt><dd>0.937697128927057</dd><dt>RBI</dt><dd>0.847185458771522</dd><dt>Walks</dt><dd>1.3198794804878</dd><dt>Years</dt><dd>2.59640424574254</dd><dt>CAtBat</dt><dd>0.0108341254432856</dd><dt>CHits</dt><dd>0.0467455700054449</dd><dt>CHmRun</dt><dd>0.337773183143352</dd><dt>CRuns</dt><dd>0.0935552830000681</dd><dt>CRBI</dt><dd>0.0978040232271689</dd><dt>CWalks</dt><dd>0.0718961166304866</dd><dt>LeagueN</dt><dd>13.6837019095344</dd><dt>DivisionW</dt><dd>-54.6587775045921</dd><dt>PutOuts</dt><dd>0.118522894134745</dd><dt>Assists</dt><dd>0.01606037317599</dd><dt>Errors</dt><dd>-0.703586547290985</dd><dt>NewLeagueN</dt><dd>8.61181213448928</dd></dl>\n"
      ],
      "text/latex": [
       "\\begin{description*}\n",
       "\\item[(Intercept)] 54.3251995018381\n",
       "\\item[AtBat] 0.112111145878248\n",
       "\\item[Hits] 0.656224085323628\n",
       "\\item[HmRun] 1.17980909638778\n",
       "\\item[Runs] 0.937697128927057\n",
       "\\item[RBI] 0.847185458771522\n",
       "\\item[Walks] 1.3198794804878\n",
       "\\item[Years] 2.59640424574254\n",
       "\\item[CAtBat] 0.0108341254432856\n",
       "\\item[CHits] 0.0467455700054449\n",
       "\\item[CHmRun] 0.337773183143352\n",
       "\\item[CRuns] 0.0935552830000681\n",
       "\\item[CRBI] 0.0978040232271689\n",
       "\\item[CWalks] 0.0718961166304866\n",
       "\\item[LeagueN] 13.6837019095344\n",
       "\\item[DivisionW] -54.6587775045921\n",
       "\\item[PutOuts] 0.118522894134745\n",
       "\\item[Assists] 0.01606037317599\n",
       "\\item[Errors] -0.703586547290985\n",
       "\\item[NewLeagueN] 8.61181213448928\n",
       "\\end{description*}\n"
      ],
      "text/markdown": [
       "(Intercept)\n",
       ":   54.3251995018381AtBat\n",
       ":   0.112111145878248Hits\n",
       ":   0.656224085323628HmRun\n",
       ":   1.17980909638778Runs\n",
       ":   0.937697128927057RBI\n",
       ":   0.847185458771522Walks\n",
       ":   1.3198794804878Years\n",
       ":   2.59640424574254CAtBat\n",
       ":   0.0108341254432856CHits\n",
       ":   0.0467455700054449CHmRun\n",
       ":   0.337773183143352CRuns\n",
       ":   0.0935552830000681CRBI\n",
       ":   0.0978040232271689CWalks\n",
       ":   0.0718961166304866LeagueN\n",
       ":   13.6837019095344DivisionW\n",
       ":   -54.6587775045921PutOuts\n",
       ":   0.118522894134745Assists\n",
       ":   0.01606037317599Errors\n",
       ":   -0.703586547290985NewLeagueN\n",
       ":   8.61181213448928\n",
       "\n"
      ],
      "text/plain": [
       " (Intercept)        AtBat         Hits        HmRun         Runs          RBI \n",
       " 54.32519950   0.11211115   0.65622409   1.17980910   0.93769713   0.84718546 \n",
       "       Walks        Years       CAtBat        CHits       CHmRun        CRuns \n",
       "  1.31987948   2.59640425   0.01083413   0.04674557   0.33777318   0.09355528 \n",
       "        CRBI       CWalks      LeagueN    DivisionW      PutOuts      Assists \n",
       "  0.09780402   0.07189612  13.68370191 -54.65877750   0.11852289   0.01606037 \n",
       "      Errors   NewLeagueN \n",
       " -0.70358655   8.61181213 "
      ]
     },
     "metadata": {},
     "output_type": "display_data"
    },
    {
     "data": {
      "text/html": [
       "57.1100142625331"
      ],
      "text/latex": [
       "57.1100142625331"
      ],
      "text/markdown": [
       "57.1100142625331"
      ],
      "text/plain": [
       "[1] 57.11001"
      ]
     },
     "metadata": {},
     "output_type": "display_data"
    }
   ],
   "source": [
    "#60번쨰 모형 상대적으로 작은 페널티에서의 계수 추정치 크기 (커지겠찌?)\n",
    "ridge.mod$lambda[60]\n",
    "coef(ridge.mod)[, 60]\n",
    "sqrt(sum(coef(ridge.mod)[-1, 60]^2))"
   ]
  },
  {
   "cell_type": "markdown",
   "id": "3e74d212",
   "metadata": {},
   "source": [
    "We can use the `predict()` function for a number of purposes. For instance, we can obtain the ridge regression coefficients for a new value of $\\lambda$, say $50$:"
   ]
  },
  {
   "cell_type": "code",
   "execution_count": 57,
   "id": "728c6548-bdbe-436a-a9af-5c5c12ca82c7",
   "metadata": {},
   "outputs": [
    {
     "data": {
      "text/plain": [
       "20 x 1 sparse Matrix of class \"dgCMatrix\"\n",
       "                       s1\n",
       "(Intercept)  4.876610e+01\n",
       "AtBat       -3.580999e-01\n",
       "Hits         1.969359e+00\n",
       "HmRun       -1.278248e+00\n",
       "Runs         1.145892e+00\n",
       "RBI          8.038292e-01\n",
       "Walks        2.716186e+00\n",
       "Years       -6.218319e+00\n",
       "CAtBat       5.447837e-03\n",
       "CHits        1.064895e-01\n",
       "CHmRun       6.244860e-01\n",
       "CRuns        2.214985e-01\n",
       "CRBI         2.186914e-01\n",
       "CWalks      -1.500245e-01\n",
       "LeagueN      4.592589e+01\n",
       "DivisionW   -1.182011e+02\n",
       "PutOuts      2.502322e-01\n",
       "Assists      1.215665e-01\n",
       "Errors      -3.278600e+00\n",
       "NewLeagueN  -9.496680e+00"
      ]
     },
     "metadata": {},
     "output_type": "display_data"
    }
   ],
   "source": [
    "predict(ridge.mod, s = 50, type = \"coefficients\") #릿지에 predict 찍으면 계수나옴"
   ]
  },
  {
   "cell_type": "code",
   "execution_count": 118,
   "id": "c30359af",
   "metadata": {
    "lines_to_next_cell": 2,
    "name": "chunk30"
   },
   "outputs": [
    {
     "data": {
      "text/html": [
       "<style>\n",
       ".dl-inline {width: auto; margin:0; padding: 0}\n",
       ".dl-inline>dt, .dl-inline>dd {float: none; width: auto; display: inline-block}\n",
       ".dl-inline>dt::after {content: \":\\0020\"; padding-right: .5ex}\n",
       ".dl-inline>dt:not(:first-of-type) {padding-left: .5ex}\n",
       "</style><dl class=dl-inline><dt>(Intercept)</dt><dd>48.7661032921614</dd><dt>AtBat</dt><dd>-0.358099859376738</dd><dt>Hits</dt><dd>1.96935928646355</dd><dt>HmRun</dt><dd>-1.27824798145676</dd><dt>Runs</dt><dd>1.14589163211965</dd><dt>RBI</dt><dd>0.803829228437695</dd><dt>Walks</dt><dd>2.71618579623369</dd><dt>Years</dt><dd>-6.21831921727848</dd><dt>CAtBat</dt><dd>0.00544783719814858</dd><dt>CHits</dt><dd>0.106489514023419</dd><dt>CHmRun</dt><dd>0.624485956082649</dd><dt>CRuns</dt><dd>0.22149846376003</dd><dt>CRBI</dt><dd>0.218691380321247</dd><dt>CWalks</dt><dd>-0.150024548516928</dd><dt>LeagueN</dt><dd>45.9258855144164</dd><dt>DivisionW</dt><dd>-118.201136816368</dd><dt>PutOuts</dt><dd>0.250232154092559</dd><dt>Assists</dt><dd>0.121566461346767</dd><dt>Errors</dt><dd>-3.27859954463555</dd><dt>NewLeagueN</dt><dd>-9.4966803100267</dd></dl>\n"
      ],
      "text/latex": [
       "\\begin{description*}\n",
       "\\item[(Intercept)] 48.7661032921614\n",
       "\\item[AtBat] -0.358099859376738\n",
       "\\item[Hits] 1.96935928646355\n",
       "\\item[HmRun] -1.27824798145676\n",
       "\\item[Runs] 1.14589163211965\n",
       "\\item[RBI] 0.803829228437695\n",
       "\\item[Walks] 2.71618579623369\n",
       "\\item[Years] -6.21831921727848\n",
       "\\item[CAtBat] 0.00544783719814858\n",
       "\\item[CHits] 0.106489514023419\n",
       "\\item[CHmRun] 0.624485956082649\n",
       "\\item[CRuns] 0.22149846376003\n",
       "\\item[CRBI] 0.218691380321247\n",
       "\\item[CWalks] -0.150024548516928\n",
       "\\item[LeagueN] 45.9258855144164\n",
       "\\item[DivisionW] -118.201136816368\n",
       "\\item[PutOuts] 0.250232154092559\n",
       "\\item[Assists] 0.121566461346767\n",
       "\\item[Errors] -3.27859954463555\n",
       "\\item[NewLeagueN] -9.4966803100267\n",
       "\\end{description*}\n"
      ],
      "text/markdown": [
       "(Intercept)\n",
       ":   48.7661032921614AtBat\n",
       ":   -0.358099859376738Hits\n",
       ":   1.96935928646355HmRun\n",
       ":   -1.27824798145676Runs\n",
       ":   1.14589163211965RBI\n",
       ":   0.803829228437695Walks\n",
       ":   2.71618579623369Years\n",
       ":   -6.21831921727848CAtBat\n",
       ":   0.00544783719814858CHits\n",
       ":   0.106489514023419CHmRun\n",
       ":   0.624485956082649CRuns\n",
       ":   0.22149846376003CRBI\n",
       ":   0.218691380321247CWalks\n",
       ":   -0.150024548516928LeagueN\n",
       ":   45.9258855144164DivisionW\n",
       ":   -118.201136816368PutOuts\n",
       ":   0.250232154092559Assists\n",
       ":   0.121566461346767Errors\n",
       ":   -3.27859954463555NewLeagueN\n",
       ":   -9.4966803100267\n",
       "\n"
      ],
      "text/plain": [
       "  (Intercept)         AtBat          Hits         HmRun          Runs \n",
       " 4.876610e+01 -3.580999e-01  1.969359e+00 -1.278248e+00  1.145892e+00 \n",
       "          RBI         Walks         Years        CAtBat         CHits \n",
       " 8.038292e-01  2.716186e+00 -6.218319e+00  5.447837e-03  1.064895e-01 \n",
       "       CHmRun         CRuns          CRBI        CWalks       LeagueN \n",
       " 6.244860e-01  2.214985e-01  2.186914e-01 -1.500245e-01  4.592589e+01 \n",
       "    DivisionW       PutOuts       Assists        Errors    NewLeagueN \n",
       "-1.182011e+02  2.502322e-01  1.215665e-01 -3.278600e+00 -9.496680e+00 "
      ]
     },
     "metadata": {},
     "output_type": "display_data"
    }
   ],
   "source": [
    "#s 는 튜닝 파라미터 람다를 지정하는 함수\n",
    "predict(ridge.mod, s = 50, type = \"coefficients\")[1:20, ] #페널티 값이 50일 때 계수 추정치가 어떻게 될 지 산출 가능"
   ]
  },
  {
   "cell_type": "markdown",
   "id": "7e86e30b",
   "metadata": {},
   "source": [
    "We  now split the samples into a training set and a test set in order to estimate the test error of ridge regression and the lasso. There are two common ways to randomly split a data set. The first is to produce a random vector of `TRUE`, `FALSE` elements and select the observations corresponding to `TRUE` for the training data. The second is to randomly choose a subset of numbers between $1$ and $n$; these can then be used as the indices for the training observations. The two approaches work equally well. We used the former method in Section 6.5.1. Here we demonstrate the latter approach.\n",
    "\n",
    "We first set a random seed so that the results obtained will be reproducible."
   ]
  },
  {
   "cell_type": "code",
   "execution_count": 58,
   "id": "5e830ed4",
   "metadata": {
    "name": "chunk31"
   },
   "outputs": [],
   "source": [
    "#50:50으로 훈련:평가 자료 분할(여러 penalty 값에 따른 test error 값을 산출하여 최적의 값, 즉 최적의 모형을 찾기 위함)\n",
    "set.seed(1)\n",
    "train <- sample(1:nrow(x), nrow(x) / 2)\n",
    "test <- (-train)\n",
    "y.test <- y[test]"
   ]
  },
  {
   "cell_type": "markdown",
   "id": "cc882c53",
   "metadata": {},
   "source": [
    "Next we fit a ridge regression model on the training set, and evaluate its MSE on the test set, using $\\lambda=4$.  Note the use of the `predict()` function again. This time we get predictions for a test set, by replacing `type=\"coefficients\"` with the `newx` argument."
   ]
  },
  {
   "cell_type": "code",
   "execution_count": 59,
   "id": "7212ea80",
   "metadata": {
    "name": "chunk32"
   },
   "outputs": [
    {
     "data": {
      "text/html": [
       "142199.150722762"
      ],
      "text/latex": [
       "142199.150722762"
      ],
      "text/markdown": [
       "142199.150722762"
      ],
      "text/plain": [
       "[1] 142199.2"
      ]
     },
     "metadata": {},
     "output_type": "display_data"
    }
   ],
   "source": [
    "ridge.mod <- glmnet(x[train, ], y[train], alpha = 0,\n",
    "    lambda = grid, thresh = 1e-12) #훈련자료에서 다양한 penalty에 대한 모형 적합\n",
    "ridge.pred <- predict(ridge.mod, s = 4, newx = x[test, ]) #penalty 값이 4인 모형에 대해 평가자료에서 반응변수 예측치 생성\n",
    "mean((ridge.pred - y.test)^2) #penalty 값이 4인 모형에 대하여 평가오차 추정"
   ]
  },
  {
   "cell_type": "markdown",
   "id": "7b2a7272-ad81-41f4-b5b9-bd0122bc626b",
   "metadata": {},
   "source": [
    "#thresh 는 뭘까?\n",
    "\n",
    "-by chat GPT-\n",
    "\n",
    "제공된 코드의 맥락에서 thresh = 1e-12는 알고리즘이 계수의 변경이 $10^{-12}$\n",
    " 보다 작을 때 반복이 중단되도록 하는 것을 의미합니다. \\\n",
    "이 임계값은 원하는 정밀도 또는 계산 효율성에 기반하여 조절할 수 있습니다. \\\n",
    "일반적으로 이를 더 작은 값으로 설정하면 정밀도가 향상되지만 계산 시간도 증가할 수 있습니다."
   ]
  },
  {
   "cell_type": "markdown",
   "id": "43a473de",
   "metadata": {},
   "source": [
    "The test MSE is $142{,}199$.\n",
    "Note that if we had instead simply fit a model with just an intercept, we would have predicted each test observation using the mean of the training observations. In that case, we could compute the test set MSE like this:"
   ]
  },
  {
   "cell_type": "code",
   "execution_count": 62,
   "id": "e6b072a6",
   "metadata": {
    "name": "chunk33"
   },
   "outputs": [
    {
     "data": {
      "text/html": [
       "224669.906736192"
      ],
      "text/latex": [
       "224669.906736192"
      ],
      "text/markdown": [
       "224669.906736192"
      ],
      "text/plain": [
       "[1] 224669.9"
      ]
     },
     "metadata": {},
     "output_type": "display_data"
    }
   ],
   "source": [
    "#예측변수가 없는 null 모델에서 기대할 수 있는 test error 값 절편만 갖고 한것\n",
    "mean((mean(y[train]) - y.test)^2) "
   ]
  },
  {
   "cell_type": "markdown",
   "id": "e0ce75b3",
   "metadata": {},
   "source": [
    "We could also get the same result by fitting a ridge regression model with a *very* large value of $\\lambda$. Note that `1e10` means $10^{10}$."
   ]
  },
  {
   "cell_type": "code",
   "execution_count": 63,
   "id": "9df507f0",
   "metadata": {
    "name": "chunk34"
   },
   "outputs": [
    {
     "data": {
      "text/html": [
       "224669.833069663"
      ],
      "text/latex": [
       "224669.833069663"
      ],
      "text/markdown": [
       "224669.833069663"
      ],
      "text/plain": [
       "[1] 224669.8"
      ]
     },
     "metadata": {},
     "output_type": "display_data"
    }
   ],
   "source": [
    "ridge.pred <- predict(ridge.mod, s = 1e10, newx = x[test, ])\n",
    "mean((ridge.pred - y.test)^2) #페널티가 10^10인 모형에 대해 평가오차 추정.. 거의 null 모델에 가깝다."
   ]
  },
  {
   "cell_type": "markdown",
   "id": "91511640",
   "metadata": {},
   "source": [
    "So fitting a ridge regression model with $\\lambda=4$ leads to a much lower test MSE than fitting a model with just an intercept.\n",
    "We now check whether there is any benefit to performing ridge regression with $\\lambda=4$ instead of just performing least squares regression. \n",
    "Recall that least squares is simply ridge regression with $\\lambda=0$. (In order for `glmnet()` to yield the exact least squares coefficients when $\\lambda=0$, we use the argument `exact = T` when calling the `predict()` function. Otherwise, the `predict()` function will interpolate over the grid of $\\lambda$ values used in fitting the `glmnet()` model, yielding approximate results. When we use `exact = T`, there remains a slight discrepancy in the third decimal place between the output of `glmnet()` when $\\lambda = 0$ and the output of `lm()`; this  is due to numerical approximation on the part of `glmnet()`.)\n"
   ]
  },
  {
   "cell_type": "code",
   "execution_count": 64,
   "id": "06b693a9",
   "metadata": {
    "name": "chunk35"
   },
   "outputs": [
    {
     "data": {
      "text/html": [
       "168588.573185792"
      ],
      "text/latex": [
       "168588.573185792"
      ],
      "text/markdown": [
       "168588.573185792"
      ],
      "text/plain": [
       "[1] 168588.6"
      ]
     },
     "metadata": {},
     "output_type": "display_data"
    },
    {
     "data": {
      "text/plain": [
       "\n",
       "Call:\n",
       "lm(formula = y ~ x, subset = train)\n",
       "\n",
       "Coefficients:\n",
       "(Intercept)       xAtBat        xHits       xHmRun        xRuns         xRBI  \n",
       "   274.0145      -0.3521      -1.6377       5.8145       1.5424       1.1243  \n",
       "     xWalks       xYears      xCAtBat       xCHits      xCHmRun       xCRuns  \n",
       "     3.7287     -16.3773      -0.6412       3.1632       3.4008      -0.9739  \n",
       "      xCRBI      xCWalks     xLeagueN   xDivisionW     xPutOuts     xAssists  \n",
       "    -0.6005       0.3379     119.1486    -144.0831       0.1976       0.6804  \n",
       "    xErrors  xNewLeagueN  \n",
       "    -4.7128     -71.0951  \n"
      ]
     },
     "metadata": {},
     "output_type": "display_data"
    },
    {
     "data": {
      "text/html": [
       "<style>\n",
       ".dl-inline {width: auto; margin:0; padding: 0}\n",
       ".dl-inline>dt, .dl-inline>dd {float: none; width: auto; display: inline-block}\n",
       ".dl-inline>dt::after {content: \":\\0020\"; padding-right: .5ex}\n",
       ".dl-inline>dt:not(:first-of-type) {padding-left: .5ex}\n",
       "</style><dl class=dl-inline><dt>(Intercept)</dt><dd>274.020099411181</dd><dt>AtBat</dt><dd>-0.352190040359275</dd><dt>Hits</dt><dd>-1.63713831624211</dd><dt>HmRun</dt><dd>5.81466916444909</dd><dt>Runs</dt><dd>1.54233614804138</dd><dt>RBI</dt><dd>1.12418373819325</dd><dt>Walks</dt><dd>3.72884063254243</dd><dt>Years</dt><dd>-16.3795195276087</dd><dt>CAtBat</dt><dd>-0.641123531289685</dd><dt>CHits</dt><dd>3.16294442513075</dd><dt>CHmRun</dt><dd>3.40052810127095</dd><dt>CRuns</dt><dd>-0.97394054511287</dd><dt>CRBI</dt><dd>-0.600397639660946</dd><dt>CWalks</dt><dd>0.337842206934145</dd><dt>LeagueN</dt><dd>119.143463714458</dd><dt>DivisionW</dt><dd>-144.085306139926</dd><dt>PutOuts</dt><dd>0.197630005419203</dd><dt>Assists</dt><dd>0.680420043718981</dd><dt>Errors</dt><dd>-4.7127879020992</dd><dt>NewLeagueN</dt><dd>-71.0898913709107</dd></dl>\n"
      ],
      "text/latex": [
       "\\begin{description*}\n",
       "\\item[(Intercept)] 274.020099411181\n",
       "\\item[AtBat] -0.352190040359275\n",
       "\\item[Hits] -1.63713831624211\n",
       "\\item[HmRun] 5.81466916444909\n",
       "\\item[Runs] 1.54233614804138\n",
       "\\item[RBI] 1.12418373819325\n",
       "\\item[Walks] 3.72884063254243\n",
       "\\item[Years] -16.3795195276087\n",
       "\\item[CAtBat] -0.641123531289685\n",
       "\\item[CHits] 3.16294442513075\n",
       "\\item[CHmRun] 3.40052810127095\n",
       "\\item[CRuns] -0.97394054511287\n",
       "\\item[CRBI] -0.600397639660946\n",
       "\\item[CWalks] 0.337842206934145\n",
       "\\item[LeagueN] 119.143463714458\n",
       "\\item[DivisionW] -144.085306139926\n",
       "\\item[PutOuts] 0.197630005419203\n",
       "\\item[Assists] 0.680420043718981\n",
       "\\item[Errors] -4.7127879020992\n",
       "\\item[NewLeagueN] -71.0898913709107\n",
       "\\end{description*}\n"
      ],
      "text/markdown": [
       "(Intercept)\n",
       ":   274.020099411181AtBat\n",
       ":   -0.352190040359275Hits\n",
       ":   -1.63713831624211HmRun\n",
       ":   5.81466916444909Runs\n",
       ":   1.54233614804138RBI\n",
       ":   1.12418373819325Walks\n",
       ":   3.72884063254243Years\n",
       ":   -16.3795195276087CAtBat\n",
       ":   -0.641123531289685CHits\n",
       ":   3.16294442513075CHmRun\n",
       ":   3.40052810127095CRuns\n",
       ":   -0.97394054511287CRBI\n",
       ":   -0.600397639660946CWalks\n",
       ":   0.337842206934145LeagueN\n",
       ":   119.143463714458DivisionW\n",
       ":   -144.085306139926PutOuts\n",
       ":   0.197630005419203Assists\n",
       ":   0.680420043718981Errors\n",
       ":   -4.7127879020992NewLeagueN\n",
       ":   -71.0898913709107\n",
       "\n"
      ],
      "text/plain": [
       " (Intercept)        AtBat         Hits        HmRun         Runs          RBI \n",
       " 274.0200994   -0.3521900   -1.6371383    5.8146692    1.5423361    1.1241837 \n",
       "       Walks        Years       CAtBat        CHits       CHmRun        CRuns \n",
       "   3.7288406  -16.3795195   -0.6411235    3.1629444    3.4005281   -0.9739405 \n",
       "        CRBI       CWalks      LeagueN    DivisionW      PutOuts      Assists \n",
       "  -0.6003976    0.3378422  119.1434637 -144.0853061    0.1976300    0.6804200 \n",
       "      Errors   NewLeagueN \n",
       "  -4.7127879  -71.0898914 "
      ]
     },
     "metadata": {},
     "output_type": "display_data"
    }
   ],
   "source": [
    "ridge.pred <- predict(ridge.mod, s = 0, newx = x[test, ], #penalty 가 0인 ridge (LSE와 같다)\n",
    "    exact = T, x = x[train, ], y = y[train])\n",
    "mean((ridge.pred - y.test)^2)\n",
    "lm(y ~ x, subset = train)\n",
    "predict(ridge.mod, s = 0, exact = T, type = \"coefficients\",\n",
    "    x = x[train, ], y = y[train])[1:20, ]"
   ]
  },
  {
   "cell_type": "markdown",
   "id": "68f9962e",
   "metadata": {},
   "source": [
    "In general,  if we want to fit a (unpenalized) least squares model, then we should use the `lm()` function, since that function provides more useful outputs, such as standard errors and p-values for the coefficients.\n",
    "\n",
    "In general, instead of arbitrarily choosing $\\lambda=4$, it would be better to use cross-validation to choose the tuning parameter $\\lambda$.\n",
    "We can do this using the built-in cross-validation function, `cv.glmnet()`.  By default, the function performs ten-fold cross-validation, though this can be changed using the argument `nfolds`. Note that we set a random seed first so our results will be reproducible, since the choice of the cross-validation folds is random."
   ]
  },
  {
   "cell_type": "markdown",
   "id": "70e0d320-baf7-4d4e-a12f-a3a1fc6f96a2",
   "metadata": {},
   "source": [
    "#### 10-fold cross validation 으로 tuining parameter 를 결정할 수 있다."
   ]
  },
  {
   "cell_type": "code",
   "execution_count": 67,
   "id": "9a23e35b",
   "metadata": {
    "name": "chunk36"
   },
   "outputs": [
    {
     "data": {
      "text/html": [
       "326.082786511725"
      ],
      "text/latex": [
       "326.082786511725"
      ],
      "text/markdown": [
       "326.082786511725"
      ],
      "text/plain": [
       "[1] 326.0828"
      ]
     },
     "metadata": {},
     "output_type": "display_data"
    },
    {
     "data": {
      "image/png": "[encoded data removed]",
      "text/plain": [
       "plot without title"
      ]
     },
     "metadata": {
      "image/png": {
       "height": 420,
       "width": 420
      }
     },
     "output_type": "display_data"
    }
   ],
   "source": [
    "set.seed(1)\n",
    "cv.out <- cv.glmnet(x[train, ], y[train], alpha = 0) #10 fold cv를 통해 penalty 값을 선택할 수 있는 함수.\n",
    "plot(cv.out)\n",
    "bestlam <- cv.out$lambda.min #test error를 최소로 하는 penalty 값\n",
    "bestlam"
   ]
  },
  {
   "cell_type": "markdown",
   "id": "fea6a427",
   "metadata": {},
   "source": [
    "Therefore, we see that the value of $\\lambda$ that results in the smallest cross-validation error is $326$. What is the test MSE associated with this value of $\\lambda$?"
   ]
  },
  {
   "cell_type": "code",
   "execution_count": 68,
   "id": "06465339",
   "metadata": {
    "name": "chunk37"
   },
   "outputs": [
    {
     "data": {
      "text/html": [
       "139856.643477362"
      ],
      "text/latex": [
       "139856.643477362"
      ],
      "text/markdown": [
       "139856.643477362"
      ],
      "text/plain": [
       "[1] 139856.6"
      ]
     },
     "metadata": {},
     "output_type": "display_data"
    }
   ],
   "source": [
    "ridge.pred <- predict(ridge.mod, s = bestlam, \n",
    "    newx = x[test, ]) #penalty 값이 최적일 때 평가 자료에서의 반응변수 예측치\n",
    "mean((ridge.pred - y.test)^2) #penalty 값이 최적일 때 평가오차"
   ]
  },
  {
   "cell_type": "markdown",
   "id": "db0e2b3d",
   "metadata": {},
   "source": [
    "This represents a further improvement over the test MSE that we got using $\\lambda=4$.\n",
    "Finally, we refit our ridge regression model on the full data set, using the value of $\\lambda$ chosen by cross-validation, and examine the coefficient estimates."
   ]
  },
  {
   "cell_type": "markdown",
   "id": "bef3e349-c24e-4f4b-95f8-fd9024a1eacf",
   "metadata": {},
   "source": [
    "#### glmnet에서 alpha = 0 은 릿지 , 1 은 라소"
   ]
  },
  {
   "cell_type": "code",
   "execution_count": 69,
   "id": "9acf7236",
   "metadata": {
    "name": "chunk38"
   },
   "outputs": [
    {
     "data": {
      "text/html": [
       "<style>\n",
       ".dl-inline {width: auto; margin:0; padding: 0}\n",
       ".dl-inline>dt, .dl-inline>dd {float: none; width: auto; display: inline-block}\n",
       ".dl-inline>dt::after {content: \":\\0020\"; padding-right: .5ex}\n",
       ".dl-inline>dt:not(:first-of-type) {padding-left: .5ex}\n",
       "</style><dl class=dl-inline><dt>(Intercept)</dt><dd>15.443831197812</dd><dt>AtBat</dt><dd>0.0771554743847953</dd><dt>Hits</dt><dd>0.859115815939879</dd><dt>HmRun</dt><dd>0.601031063576297</dd><dt>Runs</dt><dd>1.06369006736739</dd><dt>RBI</dt><dd>0.879361053371413</dd><dt>Walks</dt><dd>1.62444616530649</dd><dt>Years</dt><dd>1.35254778033279</dd><dt>CAtBat</dt><dd>0.0113499915103999</dd><dt>CHits</dt><dd>0.0574665440609397</dd><dt>CHmRun</dt><dd>0.406801567085269</dd><dt>CRuns</dt><dd>0.114562244498519</dd><dt>CRBI</dt><dd>0.121165038074432</dd><dt>CWalks</dt><dd>0.0529920196388892</dd><dt>LeagueN</dt><dd>22.091431966137</dd><dt>DivisionW</dt><dd>-79.0403265601878</dd><dt>PutOuts</dt><dd>0.166199027863528</dd><dt>Assists</dt><dd>0.0294194958898915</dd><dt>Errors</dt><dd>-1.36092945499973</dd><dt>NewLeagueN</dt><dd>9.12487765463168</dd></dl>\n"
      ],
      "text/latex": [
       "\\begin{description*}\n",
       "\\item[(Intercept)] 15.443831197812\n",
       "\\item[AtBat] 0.0771554743847953\n",
       "\\item[Hits] 0.859115815939879\n",
       "\\item[HmRun] 0.601031063576297\n",
       "\\item[Runs] 1.06369006736739\n",
       "\\item[RBI] 0.879361053371413\n",
       "\\item[Walks] 1.62444616530649\n",
       "\\item[Years] 1.35254778033279\n",
       "\\item[CAtBat] 0.0113499915103999\n",
       "\\item[CHits] 0.0574665440609397\n",
       "\\item[CHmRun] 0.406801567085269\n",
       "\\item[CRuns] 0.114562244498519\n",
       "\\item[CRBI] 0.121165038074432\n",
       "\\item[CWalks] 0.0529920196388892\n",
       "\\item[LeagueN] 22.091431966137\n",
       "\\item[DivisionW] -79.0403265601878\n",
       "\\item[PutOuts] 0.166199027863528\n",
       "\\item[Assists] 0.0294194958898915\n",
       "\\item[Errors] -1.36092945499973\n",
       "\\item[NewLeagueN] 9.12487765463168\n",
       "\\end{description*}\n"
      ],
      "text/markdown": [
       "(Intercept)\n",
       ":   15.443831197812AtBat\n",
       ":   0.0771554743847953Hits\n",
       ":   0.859115815939879HmRun\n",
       ":   0.601031063576297Runs\n",
       ":   1.06369006736739RBI\n",
       ":   0.879361053371413Walks\n",
       ":   1.62444616530649Years\n",
       ":   1.35254778033279CAtBat\n",
       ":   0.0113499915103999CHits\n",
       ":   0.0574665440609397CHmRun\n",
       ":   0.406801567085269CRuns\n",
       ":   0.114562244498519CRBI\n",
       ":   0.121165038074432CWalks\n",
       ":   0.0529920196388892LeagueN\n",
       ":   22.091431966137DivisionW\n",
       ":   -79.0403265601878PutOuts\n",
       ":   0.166199027863528Assists\n",
       ":   0.0294194958898915Errors\n",
       ":   -1.36092945499973NewLeagueN\n",
       ":   9.12487765463168\n",
       "\n"
      ],
      "text/plain": [
       " (Intercept)        AtBat         Hits        HmRun         Runs          RBI \n",
       " 15.44383120   0.07715547   0.85911582   0.60103106   1.06369007   0.87936105 \n",
       "       Walks        Years       CAtBat        CHits       CHmRun        CRuns \n",
       "  1.62444617   1.35254778   0.01134999   0.05746654   0.40680157   0.11456224 \n",
       "        CRBI       CWalks      LeagueN    DivisionW      PutOuts      Assists \n",
       "  0.12116504   0.05299202  22.09143197 -79.04032656   0.16619903   0.02941950 \n",
       "      Errors   NewLeagueN \n",
       " -1.36092945   9.12487765 "
      ]
     },
     "metadata": {},
     "output_type": "display_data"
    }
   ],
   "source": [
    "out <- glmnet(x, y, alpha = 0) #full data set에 대한 ridge 적합\n",
    "predict(out, type = \"coefficients\", s = bestlam)[1:20, ] "
   ]
  },
  {
   "cell_type": "markdown",
   "id": "221468bc",
   "metadata": {},
   "source": [
    "As expected, none of the coefficients are zero---ridge regression does not perform variable selection!\n",
    "\n",
    "### The Lasso\n",
    "\n",
    "We saw that ridge regression with a wise choice of $\\lambda$ can outperform least squares as well as the null model on the `Hitters` data set. We now ask whether the lasso can yield either\n",
    "a more accurate or a more interpretable model than ridge regression. In order to fit a lasso model, we once again use the `glmnet()` function; however, this time we\n",
    "use the argument\n",
    "`alpha=1`. Other than that change, we proceed just as we did in fitting a ridge model."
   ]
  },
  {
   "cell_type": "code",
   "execution_count": 71,
   "id": "d48814cd",
   "metadata": {
    "name": "chunk39"
   },
   "outputs": [
    {
     "name": "stderr",
     "output_type": "stream",
     "text": [
      "Warning message in regularize.values(x, y, ties, missing(ties), na.rm = na.rm):\n",
      "\"collapsing to unique 'x' values\"\n"
     ]
    },
    {
     "data": {
      "image/png": "[encoded data removed]",
      "text/plain": [
       "plot without title"
      ]
     },
     "metadata": {
      "image/png": {
       "height": 420,
       "width": 420
      }
     },
     "output_type": "display_data"
    }
   ],
   "source": [
    "#ridge와 lasso 는 glmnet 함수를 이용하면 거의 같은 절차를 통해 적합하고 penalty 를 선택할 수 있음.\n",
    "#옵션에서 alpha =1 이면 lasso , alpha = 0 이면 ridge\n",
    "\n",
    "lasso.mod <- glmnet(x[train, ], y[train], alpha = 1,\n",
    "    lambda = grid)\n",
    "plot(lasso.mod) #penalty 정도에 따른 계수 추정치의 변화\n",
    "#plot(lasso.mod, xvar = 'lambda')"
   ]
  },
  {
   "cell_type": "markdown",
   "id": "f42cd3a4",
   "metadata": {},
   "source": [
    "We can see from the coefficient plot that depending on the choice of tuning parameter, some of the coefficients will be exactly equal to zero.\n",
    "We now perform cross-validation and compute the associated test error."
   ]
  },
  {
   "cell_type": "markdown",
   "id": "3ccbe21f-cdc0-4766-b849-c024928b0863",
   "metadata": {},
   "source": [
    "#### 10-fold cross validation 적합"
   ]
  },
  {
   "cell_type": "code",
   "execution_count": 73,
   "id": "546d626c",
   "metadata": {
    "name": "chunk40"
   },
   "outputs": [
    {
     "data": {
      "text/html": [
       "143673.618543046"
      ],
      "text/latex": [
       "143673.618543046"
      ],
      "text/markdown": [
       "143673.618543046"
      ],
      "text/plain": [
       "[1] 143673.6"
      ]
     },
     "metadata": {},
     "output_type": "display_data"
    },
    {
     "data": {
      "image/png": "[encoded data removed]",
      "text/plain": [
       "plot without title"
      ]
     },
     "metadata": {
      "image/png": {
       "height": 420,
       "width": 420
      }
     },
     "output_type": "display_data"
    }
   ],
   "source": [
    "#페널티값 선택 절차\n",
    "\n",
    "set.seed(1)\n",
    "cv.out <- cv.glmnet(x[train, ], y[train], alpha = 1) #이것도 라쏘\n",
    "plot(cv.out)\n",
    "bestlam <- cv.out$lambda.min\n",
    "lasso.pred <- predict(lasso.mod, s = bestlam,\n",
    "    newx = x[test, ])\n",
    "mean((lasso.pred - y.test)^2)"
   ]
  },
  {
   "cell_type": "markdown",
   "id": "306d89f2",
   "metadata": {},
   "source": [
    "This is substantially lower than the test set MSE of the null model and of least squares, and very similar to the test MSE of ridge regression with $\\lambda$ chosen by cross-validation.\n",
    "\n",
    "However, the lasso has a substantial advantage over ridge regression in that the resulting coefficient estimates are sparse. Here we see that 8 of the 19 coefficient estimates are exactly\n",
    "zero. So the lasso model with $\\lambda$ chosen by cross-validation contains only eleven variables."
   ]
  },
  {
   "cell_type": "code",
   "execution_count": 74,
   "id": "08a2e39f",
   "metadata": {
    "lines_to_next_cell": 0,
    "name": "chunk41"
   },
   "outputs": [
    {
     "data": {
      "text/html": [
       "<style>\n",
       ".dl-inline {width: auto; margin:0; padding: 0}\n",
       ".dl-inline>dt, .dl-inline>dd {float: none; width: auto; display: inline-block}\n",
       ".dl-inline>dt::after {content: \":\\0020\"; padding-right: .5ex}\n",
       ".dl-inline>dt:not(:first-of-type) {padding-left: .5ex}\n",
       "</style><dl class=dl-inline><dt>(Intercept)</dt><dd>1.27479059110101</dd><dt>AtBat</dt><dd>-0.0549714273315139</dd><dt>Hits</dt><dd>2.18034583361293</dd><dt>HmRun</dt><dd>0</dd><dt>Runs</dt><dd>0</dd><dt>RBI</dt><dd>0</dd><dt>Walks</dt><dd>2.29192406458188</dd><dt>Years</dt><dd>-0.338061091665017</dd><dt>CAtBat</dt><dd>0</dd><dt>CHits</dt><dd>0</dd><dt>CHmRun</dt><dd>0.0282501287940404</dd><dt>CRuns</dt><dd>0.216283849067602</dd><dt>CRBI</dt><dd>0.41712536764542</dd><dt>CWalks</dt><dd>0</dd><dt>LeagueN</dt><dd>20.2861502310741</dd><dt>DivisionW</dt><dd>-116.167558696372</dd><dt>PutOuts</dt><dd>0.237523845868754</dd><dt>Assists</dt><dd>0</dd><dt>Errors</dt><dd>-0.856291484604434</dd><dt>NewLeagueN</dt><dd>0</dd></dl>\n"
      ],
      "text/latex": [
       "\\begin{description*}\n",
       "\\item[(Intercept)] 1.27479059110101\n",
       "\\item[AtBat] -0.0549714273315139\n",
       "\\item[Hits] 2.18034583361293\n",
       "\\item[HmRun] 0\n",
       "\\item[Runs] 0\n",
       "\\item[RBI] 0\n",
       "\\item[Walks] 2.29192406458188\n",
       "\\item[Years] -0.338061091665017\n",
       "\\item[CAtBat] 0\n",
       "\\item[CHits] 0\n",
       "\\item[CHmRun] 0.0282501287940404\n",
       "\\item[CRuns] 0.216283849067602\n",
       "\\item[CRBI] 0.41712536764542\n",
       "\\item[CWalks] 0\n",
       "\\item[LeagueN] 20.2861502310741\n",
       "\\item[DivisionW] -116.167558696372\n",
       "\\item[PutOuts] 0.237523845868754\n",
       "\\item[Assists] 0\n",
       "\\item[Errors] -0.856291484604434\n",
       "\\item[NewLeagueN] 0\n",
       "\\end{description*}\n"
      ],
      "text/markdown": [
       "(Intercept)\n",
       ":   1.27479059110101AtBat\n",
       ":   -0.0549714273315139Hits\n",
       ":   2.18034583361293HmRun\n",
       ":   0Runs\n",
       ":   0RBI\n",
       ":   0Walks\n",
       ":   2.29192406458188Years\n",
       ":   -0.338061091665017CAtBat\n",
       ":   0CHits\n",
       ":   0CHmRun\n",
       ":   0.0282501287940404CRuns\n",
       ":   0.216283849067602CRBI\n",
       ":   0.41712536764542CWalks\n",
       ":   0LeagueN\n",
       ":   20.2861502310741DivisionW\n",
       ":   -116.167558696372PutOuts\n",
       ":   0.237523845868754Assists\n",
       ":   0Errors\n",
       ":   -0.856291484604434NewLeagueN\n",
       ":   0\n",
       "\n"
      ],
      "text/plain": [
       "  (Intercept)         AtBat          Hits         HmRun          Runs \n",
       "   1.27479059   -0.05497143    2.18034583    0.00000000    0.00000000 \n",
       "          RBI         Walks         Years        CAtBat         CHits \n",
       "   0.00000000    2.29192406   -0.33806109    0.00000000    0.00000000 \n",
       "       CHmRun         CRuns          CRBI        CWalks       LeagueN \n",
       "   0.02825013    0.21628385    0.41712537    0.00000000   20.28615023 \n",
       "    DivisionW       PutOuts       Assists        Errors    NewLeagueN \n",
       "-116.16755870    0.23752385    0.00000000   -0.85629148    0.00000000 "
      ]
     },
     "metadata": {},
     "output_type": "display_data"
    },
    {
     "data": {
      "text/html": [
       "<style>\n",
       ".dl-inline {width: auto; margin:0; padding: 0}\n",
       ".dl-inline>dt, .dl-inline>dd {float: none; width: auto; display: inline-block}\n",
       ".dl-inline>dt::after {content: \":\\0020\"; padding-right: .5ex}\n",
       ".dl-inline>dt:not(:first-of-type) {padding-left: .5ex}\n",
       "</style><dl class=dl-inline><dt>(Intercept)</dt><dd>1.27479059110101</dd><dt>AtBat</dt><dd>-0.0549714273315139</dd><dt>Hits</dt><dd>2.18034583361293</dd><dt>Walks</dt><dd>2.29192406458188</dd><dt>Years</dt><dd>-0.338061091665017</dd><dt>CHmRun</dt><dd>0.0282501287940404</dd><dt>CRuns</dt><dd>0.216283849067602</dd><dt>CRBI</dt><dd>0.41712536764542</dd><dt>LeagueN</dt><dd>20.2861502310741</dd><dt>DivisionW</dt><dd>-116.167558696372</dd><dt>PutOuts</dt><dd>0.237523845868754</dd><dt>Errors</dt><dd>-0.856291484604434</dd></dl>\n"
      ],
      "text/latex": [
       "\\begin{description*}\n",
       "\\item[(Intercept)] 1.27479059110101\n",
       "\\item[AtBat] -0.0549714273315139\n",
       "\\item[Hits] 2.18034583361293\n",
       "\\item[Walks] 2.29192406458188\n",
       "\\item[Years] -0.338061091665017\n",
       "\\item[CHmRun] 0.0282501287940404\n",
       "\\item[CRuns] 0.216283849067602\n",
       "\\item[CRBI] 0.41712536764542\n",
       "\\item[LeagueN] 20.2861502310741\n",
       "\\item[DivisionW] -116.167558696372\n",
       "\\item[PutOuts] 0.237523845868754\n",
       "\\item[Errors] -0.856291484604434\n",
       "\\end{description*}\n"
      ],
      "text/markdown": [
       "(Intercept)\n",
       ":   1.27479059110101AtBat\n",
       ":   -0.0549714273315139Hits\n",
       ":   2.18034583361293Walks\n",
       ":   2.29192406458188Years\n",
       ":   -0.338061091665017CHmRun\n",
       ":   0.0282501287940404CRuns\n",
       ":   0.216283849067602CRBI\n",
       ":   0.41712536764542LeagueN\n",
       ":   20.2861502310741DivisionW\n",
       ":   -116.167558696372PutOuts\n",
       ":   0.237523845868754Errors\n",
       ":   -0.856291484604434\n",
       "\n"
      ],
      "text/plain": [
       "  (Intercept)         AtBat          Hits         Walks         Years \n",
       "   1.27479059   -0.05497143    2.18034583    2.29192406   -0.33806109 \n",
       "       CHmRun         CRuns          CRBI       LeagueN     DivisionW \n",
       "   0.02825013    0.21628385    0.41712537   20.28615023 -116.16755870 \n",
       "      PutOuts        Errors \n",
       "   0.23752385   -0.85629148 "
      ]
     },
     "metadata": {},
     "output_type": "display_data"
    }
   ],
   "source": [
    "out <- glmnet(x, y, alpha = 1, lambda = grid)\n",
    "lasso.coef <- predict(out, type = \"coefficients\",\n",
    "    s = bestlam)[1:20, ] #striding 없이 보는게 편할거 같은데..\n",
    "lasso.coef\n",
    "lasso.coef[lasso.coef != 0] #0으로 축소되지 않은 추정치"
   ]
  },
  {
   "cell_type": "code",
   "execution_count": 75,
   "id": "fb8ef5a2-50fa-42c9-9b73-44beed611d35",
   "metadata": {},
   "outputs": [
    {
     "data": {
      "text/html": [
       "9.28695472064886"
      ],
      "text/latex": [
       "9.28695472064886"
      ],
      "text/markdown": [
       "9.28695472064886"
      ],
      "text/plain": [
       "[1] 9.286955"
      ]
     },
     "metadata": {},
     "output_type": "display_data"
    }
   ],
   "source": [
    "cv.out$lambda.min #test mse 를 최소화 해주는 tuning parameter 값"
   ]
  },
  {
   "cell_type": "markdown",
   "id": "7fc8caf7-eae4-4803-95c2-ff811a1bf95d",
   "metadata": {},
   "source": [
    "# 여긴 필요 없음"
   ]
  },
  {
   "cell_type": "markdown",
   "id": "f1a380ba",
   "metadata": {},
   "source": [
    "## PCR and PLS Regression\n",
    "\n",
    "### Principal Components Regression"
   ]
  },
  {
   "cell_type": "markdown",
   "id": "3202e581",
   "metadata": {},
   "source": [
    "Principal components regression (PCR) can be performed using the `pcr()` function, which is part of the `pls` library. We now apply PCR to the `Hitters` data, in order to predict `Salary`. Again,\n",
    " we ensure that the missing values have been removed from the data, as described in Section 6.5.1."
   ]
  },
  {
   "cell_type": "code",
   "execution_count": null,
   "id": "3a86dd2a",
   "metadata": {
    "name": "chunk42"
   },
   "outputs": [],
   "source": [
    "library(pls)\n",
    "set.seed(2)\n",
    "pcr.fit <- pcr(Salary ~ ., data = Hitters, scale = TRUE,\n",
    "    validation = \"CV\")"
   ]
  },
  {
   "cell_type": "markdown",
   "id": "b3ca0b42",
   "metadata": {},
   "source": [
    "The syntax for the `pcr()` function is similar to that for `lm()`, with a few additional\n",
    "options. Setting `scale = TRUE` has the effect of *standardizing* each\n",
    "predictor, using (6.6), prior to generating the principal\n",
    "components, so that the scale on which each variable is measured will not have an effect.\n",
    " Setting `validation = \"CV\"` causes\n",
    "`pcr()` to compute the ten-fold cross-validation error for each possible\n",
    "value of $M$, the number of principal components used. The resulting fit can be examined using `summary()`."
   ]
  },
  {
   "cell_type": "code",
   "execution_count": 50,
   "id": "3869b6d8",
   "metadata": {
    "name": "chunk43"
   },
   "outputs": [
    {
     "name": "stdout",
     "output_type": "stream",
     "text": [
      "Data: \tX dimension: 263 19 \n",
      "\tY dimension: 263 1\n",
      "Fit method: svdpc\n",
      "Number of components considered: 19\n",
      "\n",
      "VALIDATION: RMSEP\n",
      "Cross-validated using 10 random segments.\n",
      "       (Intercept)  1 comps  2 comps  3 comps  4 comps  5 comps  6 comps\n",
      "CV             452    351.9    353.2    355.0    352.8    348.4    343.6\n",
      "adjCV          452    351.6    352.7    354.4    352.1    347.6    342.7\n",
      "       7 comps  8 comps  9 comps  10 comps  11 comps  12 comps  13 comps\n",
      "CV       345.5    347.7    349.6     351.4     352.1     353.5     358.2\n",
      "adjCV    344.7    346.7    348.5     350.1     350.7     352.0     356.5\n",
      "       14 comps  15 comps  16 comps  17 comps  18 comps  19 comps\n",
      "CV        349.7     349.4     339.9     341.6     339.2     339.6\n",
      "adjCV     348.0     347.7     338.2     339.7     337.2     337.6\n",
      "\n",
      "TRAINING: % variance explained\n",
      "        1 comps  2 comps  3 comps  4 comps  5 comps  6 comps  7 comps  8 comps\n",
      "X         38.31    60.16    70.84    79.03    84.29    88.63    92.26    94.96\n",
      "Salary    40.63    41.58    42.17    43.22    44.90    46.48    46.69    46.75\n",
      "        9 comps  10 comps  11 comps  12 comps  13 comps  14 comps  15 comps\n",
      "X         96.28     97.26     97.98     98.65     99.15     99.47     99.75\n",
      "Salary    46.86     47.76     47.82     47.85     48.10     50.40     50.55\n",
      "        16 comps  17 comps  18 comps  19 comps\n",
      "X          99.89     99.97     99.99    100.00\n",
      "Salary     53.01     53.85     54.61     54.61\n"
     ]
    }
   ],
   "source": [
    "summary(pcr.fit)"
   ]
  },
  {
   "cell_type": "markdown",
   "id": "5908cc4c",
   "metadata": {},
   "source": [
    "The CV score is provided for each possible number of components, ranging\n",
    "from $M=0$ onwards. (We have printed the CV output only up to $M=4$.)\n",
    "Note that  `pcr()` reports the *root mean squared error*; in order to obtain the usual MSE, we must square this quantity. For instance, a root mean squared error of $352.8$ corresponds to an MSE of\n",
    "$352.8^2=124{,}468$.\n",
    "\n",
    "One can also plot the cross-validation scores using the\n",
    "`validationplot()` function. Using `val.type = \"MSEP\"`\n",
    "will cause the cross-validation MSE to be plotted."
   ]
  },
  {
   "cell_type": "code",
   "execution_count": 51,
   "id": "5e8b7c9d",
   "metadata": {
    "name": "chunk44"
   },
   "outputs": [
    {
     "data": {
      "image/png": "[encoded data removed]",
      "text/plain": [
       "Plot with title \"Salary\""
      ]
     },
     "metadata": {
      "image/png": {
       "height": 420,
       "width": 420
      }
     },
     "output_type": "display_data"
    }
   ],
   "source": [
    "validationplot(pcr.fit, val.type = \"MSEP\")"
   ]
  },
  {
   "cell_type": "markdown",
   "id": "e697af8d",
   "metadata": {},
   "source": [
    "We see that the smallest cross-validation error occurs when $M=18$ components are used. This is barely fewer than $M=19$, which amounts to simply performing least squares, because when all of the components are used in PCR no dimension reduction occurs. However, from the plot we also see that the cross-validation error is roughly the same when only one component is included in the model. This suggests that a model that uses just a small number of components might suffice.\n",
    "\n",
    " The\n",
    "`summary()` function also provides the *percentage of variance explained* in the predictors and in the response using different numbers of components. This concept is discussed in greater detail in Chapter 12.\n",
    "   Briefly, we can think of this as\n",
    "the amount of information about the predictors or the\n",
    "response that is captured using $M$ principal components. For example,\n",
    "setting $M=1$ only captures $38.31 \\%$ of all the variance, or information,\n",
    "in the predictors. In contrast, using $M=5$ increases the value to $84.29 \\%$. If we\n",
    "were to use all $M=p=19$ components, this would increase to $100 \\%$."
   ]
  },
  {
   "cell_type": "markdown",
   "id": "191ce444",
   "metadata": {},
   "source": [
    "We now\n",
    "perform PCR on the training data and evaluate its test set performance."
   ]
  },
  {
   "cell_type": "code",
   "execution_count": 52,
   "id": "9486c230",
   "metadata": {
    "name": "chunk45"
   },
   "outputs": [
    {
     "data": {
      "image/png": "[encoded data removed]",
      "text/plain": [
       "Plot with title \"Salary\""
      ]
     },
     "metadata": {
      "image/png": {
       "height": 420,
       "width": 420
      }
     },
     "output_type": "display_data"
    }
   ],
   "source": [
    "set.seed(1)\n",
    "pcr.fit <- pcr(Salary ~ ., data = Hitters, subset = train,\n",
    "    scale = TRUE, validation = \"CV\")\n",
    "validationplot(pcr.fit, val.type = \"MSEP\")"
   ]
  },
  {
   "cell_type": "markdown",
   "id": "ff53f2e0",
   "metadata": {},
   "source": [
    "Now we find that the lowest cross-validation error occurs when $M=5$ components are used.\n",
    "We compute the test MSE as follows."
   ]
  },
  {
   "cell_type": "code",
   "execution_count": 53,
   "id": "3fd5e968",
   "metadata": {
    "name": "chunk46"
   },
   "outputs": [
    {
     "data": {
      "text/html": [
       "142811.810376319"
      ],
      "text/latex": [
       "142811.810376319"
      ],
      "text/markdown": [
       "142811.810376319"
      ],
      "text/plain": [
       "[1] 142811.8"
      ]
     },
     "metadata": {},
     "output_type": "display_data"
    }
   ],
   "source": [
    "pcr.pred <- predict(pcr.fit, x[test, ], ncomp = 5)\n",
    "mean((pcr.pred - y.test)^2)"
   ]
  },
  {
   "cell_type": "markdown",
   "id": "f8825324",
   "metadata": {},
   "source": [
    "This test set MSE is competitive with the results obtained using ridge regression and the lasso. However, as a result of the way PCR is implemented, the final model is more difficult to interpret because it does not perform any kind of variable selection or even directly produce coefficient estimates.\n",
    "\n",
    "Finally, we fit PCR on the full data set, using $M=5$, the number of components identified by cross-validation."
   ]
  },
  {
   "cell_type": "code",
   "execution_count": 54,
   "id": "82eeaa23",
   "metadata": {
    "lines_to_next_cell": 0,
    "name": "chunk47"
   },
   "outputs": [
    {
     "name": "stdout",
     "output_type": "stream",
     "text": [
      "Data: \tX dimension: 263 19 \n",
      "\tY dimension: 263 1\n",
      "Fit method: svdpc\n",
      "Number of components considered: 5\n",
      "TRAINING: % variance explained\n",
      "   1 comps  2 comps  3 comps  4 comps  5 comps\n",
      "X    38.31    60.16    70.84    79.03    84.29\n",
      "y    40.63    41.58    42.17    43.22    44.90\n"
     ]
    }
   ],
   "source": [
    "pcr.fit <- pcr(y ~ x, scale = TRUE, ncomp = 5)\n",
    "summary(pcr.fit)"
   ]
  },
  {
   "cell_type": "markdown",
   "id": "c67272fe",
   "metadata": {},
   "source": [
    "\n",
    "\n"
   ]
  },
  {
   "cell_type": "markdown",
   "id": "9459018e",
   "metadata": {},
   "source": [
    "### Partial Least Squares"
   ]
  },
  {
   "cell_type": "markdown",
   "id": "8c8c7e8c",
   "metadata": {},
   "source": [
    "We implement partial least squares (PLS) using the `plsr()` function, also in the `pls` library. The syntax is just like that of the `pcr()` function."
   ]
  },
  {
   "cell_type": "code",
   "execution_count": 55,
   "id": "0cd0c761",
   "metadata": {
    "name": "chunk48"
   },
   "outputs": [
    {
     "name": "stdout",
     "output_type": "stream",
     "text": [
      "Data: \tX dimension: 131 19 \n",
      "\tY dimension: 131 1\n",
      "Fit method: kernelpls\n",
      "Number of components considered: 19\n",
      "\n",
      "VALIDATION: RMSEP\n",
      "Cross-validated using 10 random segments.\n",
      "       (Intercept)  1 comps  2 comps  3 comps  4 comps  5 comps  6 comps\n",
      "CV           428.3    325.5    329.9    328.8    339.0    338.9    340.1\n",
      "adjCV        428.3    325.0    328.2    327.2    336.6    336.1    336.6\n",
      "       7 comps  8 comps  9 comps  10 comps  11 comps  12 comps  13 comps\n",
      "CV       339.0    347.1    346.4     343.4     341.5     345.4     356.4\n",
      "adjCV    336.2    343.4    342.8     340.2     338.3     341.8     351.1\n",
      "       14 comps  15 comps  16 comps  17 comps  18 comps  19 comps\n",
      "CV        348.4     349.1     350.0     344.2     344.5     345.0\n",
      "adjCV     344.2     345.0     345.9     340.4     340.6     341.1\n",
      "\n",
      "TRAINING: % variance explained\n",
      "        1 comps  2 comps  3 comps  4 comps  5 comps  6 comps  7 comps  8 comps\n",
      "X         39.13    48.80    60.09    75.07    78.58    81.12    88.21    90.71\n",
      "Salary    46.36    50.72    52.23    53.03    54.07    54.77    55.05    55.66\n",
      "        9 comps  10 comps  11 comps  12 comps  13 comps  14 comps  15 comps\n",
      "X         93.17     96.05     97.08     97.61     97.97     98.70     99.12\n",
      "Salary    55.95     56.12     56.47     56.68     57.37     57.76     58.08\n",
      "        16 comps  17 comps  18 comps  19 comps\n",
      "X          99.61     99.70     99.95    100.00\n",
      "Salary     58.17     58.49     58.56     58.62\n"
     ]
    },
    {
     "data": {
      "image/png": "[encoded data removed]",
      "text/plain": [
       "Plot with title \"Salary\""
      ]
     },
     "metadata": {
      "image/png": {
       "height": 420,
       "width": 420
      }
     },
     "output_type": "display_data"
    }
   ],
   "source": [
    "set.seed(1)\n",
    "pls.fit <- plsr(Salary ~ ., data = Hitters, subset = train, scale = TRUE, validation = \"CV\")\n",
    "summary(pls.fit)\n",
    "validationplot(pls.fit, val.type = \"MSEP\")"
   ]
  },
  {
   "cell_type": "markdown",
   "id": "9b266c17",
   "metadata": {},
   "source": [
    "The lowest cross-validation error occurs when only $M=1$ partial least squares directions are used. We now evaluate the corresponding test set MSE."
   ]
  },
  {
   "cell_type": "code",
   "execution_count": 56,
   "id": "68658d73",
   "metadata": {
    "name": "chunk49"
   },
   "outputs": [
    {
     "data": {
      "text/html": [
       "151995.259555806"
      ],
      "text/latex": [
       "151995.259555806"
      ],
      "text/markdown": [
       "151995.259555806"
      ],
      "text/plain": [
       "[1] 151995.3"
      ]
     },
     "metadata": {},
     "output_type": "display_data"
    }
   ],
   "source": [
    "pls.pred <- predict(pls.fit, x[test, ], ncomp = 1)\n",
    "mean((pls.pred - y.test)^2)"
   ]
  },
  {
   "cell_type": "markdown",
   "id": "9ccab8d8",
   "metadata": {},
   "source": [
    "The test MSE is comparable to, but slightly higher than, the test MSE obtained using ridge regression, the lasso, and PCR.\n",
    "\n",
    "Finally, we perform PLS using the full data set, using $M=1$, the number of components identified by cross-validation."
   ]
  },
  {
   "cell_type": "code",
   "execution_count": 57,
   "id": "0c93ac86",
   "metadata": {
    "name": "chunk50"
   },
   "outputs": [
    {
     "name": "stdout",
     "output_type": "stream",
     "text": [
      "Data: \tX dimension: 263 19 \n",
      "\tY dimension: 263 1\n",
      "Fit method: kernelpls\n",
      "Number of components considered: 1\n",
      "TRAINING: % variance explained\n",
      "        1 comps\n",
      "X         38.08\n",
      "Salary    43.05\n"
     ]
    }
   ],
   "source": [
    "pls.fit <- plsr(Salary ~ ., data = Hitters, scale = TRUE,\n",
    "    ncomp = 1)\n",
    "summary(pls.fit)"
   ]
  },
  {
   "cell_type": "markdown",
   "id": "8a8719fc",
   "metadata": {},
   "source": [
    "Notice that the percentage of variance in `Salary` that the one-component PLS fit explains, $43.05 \\%$, is almost as much as that explained using the final five-component model PCR fit, $44.90 \\%$. This is because PCR only attempts to maximize the amount of variance explained in the predictors, while PLS searches for directions that explain variance in both the predictors and the response.\n",
    "\n",
    "\n"
   ]
  }
 ],
 "metadata": {
  "jupytext": {
   "cell_metadata_filter": "name,tags,-all"
  },
  "kernelspec": {
   "display_name": "R",
   "language": "R",
   "name": "ir"
  },
  "language_info": {
   "codemirror_mode": "r",
   "file_extension": ".r",
   "mimetype": "text/x-r-source",
   "name": "R",
   "pygments_lexer": "r",
   "version": "4.1.1"
  }
 },
 "nbformat": 4,
 "nbformat_minor": 5
}
