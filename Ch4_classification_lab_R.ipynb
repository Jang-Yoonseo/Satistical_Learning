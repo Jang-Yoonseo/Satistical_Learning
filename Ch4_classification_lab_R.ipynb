{
 "cells": [
  {
   "cell_type": "raw",
   "id": "b4fa2bec",
   "metadata": {
    "id": "b4fa2bec"
   },
   "source": [
    "---\n",
    "title: \"Ch4-classification-lab\"\n",
    "---"
   ]
  },
  {
   "cell_type": "markdown",
   "id": "67f91564",
   "metadata": {
    "id": "67f91564"
   },
   "source": [
    "\n",
    "# Lab: Classification Methods\n"
   ]
  },
  {
   "cell_type": "markdown",
   "id": "09ead673",
   "metadata": {
    "id": "09ead673"
   },
   "source": [
    "## The Stock Market Data\n",
    "\n",
    "We will begin by examining some numerical and graphical summaries of\n",
    "the `Smarket` data, which is part of the `ISLR2` library. This\n",
    "data set consists of percentage returns for the S\\&P 500 stock index\n",
    "over $1,250$~days, from the beginning of 2001 until the end of\n",
    "2005. For each date, we have recorded the percentage returns for each\n",
    "of the five previous trading days, `lagone` through `lagfive`. We\n",
    "have also recorded `volume` (the number of shares traded on the previous day, in billions), `Today` (the percentage return on the date in question)  and `direction` (whether the market was `Up` or `Down` on this date). Our goal is to predict `direction` (a qualitative response) using the other features."
   ]
  },
  {
   "cell_type": "code",
   "execution_count": 12,
   "id": "eb5f80aa",
   "metadata": {
    "colab": {
     "base_uri": "https://localhost:8080/",
     "height": 900
    },
    "id": "eb5f80aa",
    "name": "chunk1",
    "outputId": "869f3339-47bf-4e96-cc51-999d59fd083e"
   },
   "outputs": [
    {
     "data": {
      "text/html": [
       "<style>\n",
       ".list-inline {list-style: none; margin:0; padding: 0}\n",
       ".list-inline>li {display: inline-block}\n",
       ".list-inline>li:not(:last-child)::after {content: \"\\00b7\"; padding: 0 .5ex}\n",
       "</style>\n",
       "<ol class=list-inline><li>'Year'</li><li>'Lag1'</li><li>'Lag2'</li><li>'Lag3'</li><li>'Lag4'</li><li>'Lag5'</li><li>'Volume'</li><li>'Today'</li><li>'Direction'</li></ol>\n"
      ],
      "text/latex": [
       "\\begin{enumerate*}\n",
       "\\item 'Year'\n",
       "\\item 'Lag1'\n",
       "\\item 'Lag2'\n",
       "\\item 'Lag3'\n",
       "\\item 'Lag4'\n",
       "\\item 'Lag5'\n",
       "\\item 'Volume'\n",
       "\\item 'Today'\n",
       "\\item 'Direction'\n",
       "\\end{enumerate*}\n"
      ],
      "text/markdown": [
       "1. 'Year'\n",
       "2. 'Lag1'\n",
       "3. 'Lag2'\n",
       "4. 'Lag3'\n",
       "5. 'Lag4'\n",
       "6. 'Lag5'\n",
       "7. 'Volume'\n",
       "8. 'Today'\n",
       "9. 'Direction'\n",
       "\n",
       "\n"
      ],
      "text/plain": [
       "[1] \"Year\"      \"Lag1\"      \"Lag2\"      \"Lag3\"      \"Lag4\"      \"Lag5\"     \n",
       "[7] \"Volume\"    \"Today\"     \"Direction\""
      ]
     },
     "metadata": {},
     "output_type": "display_data"
    },
    {
     "data": {
      "text/html": [
       "<style>\n",
       ".list-inline {list-style: none; margin:0; padding: 0}\n",
       ".list-inline>li {display: inline-block}\n",
       ".list-inline>li:not(:last-child)::after {content: \"\\00b7\"; padding: 0 .5ex}\n",
       "</style>\n",
       "<ol class=list-inline><li>1250</li><li>9</li></ol>\n"
      ],
      "text/latex": [
       "\\begin{enumerate*}\n",
       "\\item 1250\n",
       "\\item 9\n",
       "\\end{enumerate*}\n"
      ],
      "text/markdown": [
       "1. 1250\n",
       "2. 9\n",
       "\n",
       "\n"
      ],
      "text/plain": [
       "[1] 1250    9"
      ]
     },
     "metadata": {},
     "output_type": "display_data"
    },
    {
     "data": {
      "text/plain": [
       "      Year           Lag1                Lag2                Lag3          \n",
       " Min.   :2001   Min.   :-4.922000   Min.   :-4.922000   Min.   :-4.922000  \n",
       " 1st Qu.:2002   1st Qu.:-0.639500   1st Qu.:-0.639500   1st Qu.:-0.640000  \n",
       " Median :2003   Median : 0.039000   Median : 0.039000   Median : 0.038500  \n",
       " Mean   :2003   Mean   : 0.003834   Mean   : 0.003919   Mean   : 0.001716  \n",
       " 3rd Qu.:2004   3rd Qu.: 0.596750   3rd Qu.: 0.596750   3rd Qu.: 0.596750  \n",
       " Max.   :2005   Max.   : 5.733000   Max.   : 5.733000   Max.   : 5.733000  \n",
       "      Lag4                Lag5              Volume           Today          \n",
       " Min.   :-4.922000   Min.   :-4.92200   Min.   :0.3561   Min.   :-4.922000  \n",
       " 1st Qu.:-0.640000   1st Qu.:-0.64000   1st Qu.:1.2574   1st Qu.:-0.639500  \n",
       " Median : 0.038500   Median : 0.03850   Median :1.4229   Median : 0.038500  \n",
       " Mean   : 0.001636   Mean   : 0.00561   Mean   :1.4783   Mean   : 0.003138  \n",
       " 3rd Qu.: 0.596750   3rd Qu.: 0.59700   3rd Qu.:1.6417   3rd Qu.: 0.596750  \n",
       " Max.   : 5.733000   Max.   : 5.73300   Max.   :3.1525   Max.   : 5.733000  \n",
       " Direction \n",
       " Down:602  \n",
       " Up  :648  \n",
       "           \n",
       "           \n",
       "           \n",
       "           "
      ]
     },
     "metadata": {},
     "output_type": "display_data"
    },
    {
     "data": {
      "image/png": "[encoded data removed]",
      "text/plain": [
       "plot without title"
      ]
     },
     "metadata": {
      "image/png": {
       "height": 420,
       "width": 420
      }
     },
     "output_type": "display_data"
    }
   ],
   "source": [
    "# install.packages(\"ISLR2\")\n",
    "library(ISLR2)\n",
    "names(Smarket)\n",
    "dim(Smarket)\n",
    "summary(Smarket)\n",
    "pairs(Smarket)"
   ]
  },
  {
   "cell_type": "markdown",
   "id": "09ae38b1",
   "metadata": {
    "id": "09ae38b1"
   },
   "source": [
    "The `cor()` function produces a matrix that contains all of the pairwise correlations among the predictors in a data set. The first command below gives an error message because the `direction` variable is qualitative."
   ]
  },
  {
   "cell_type": "code",
   "execution_count": 13,
   "id": "8560298c-1d45-461f-8644-8c73f0fd7905",
   "metadata": {},
   "outputs": [],
   "source": [
    "#변수별로 pair wise 하게 correlation 계산"
   ]
  },
  {
   "cell_type": "code",
   "execution_count": 14,
   "id": "f0bc8b67",
   "metadata": {
    "colab": {
     "base_uri": "https://localhost:8080/",
     "height": 318
    },
    "error": true,
    "id": "f0bc8b67",
    "name": "chunk2",
    "outputId": "1dfb7f0f-ff4b-43aa-9009-e79b343fec16"
   },
   "outputs": [
    {
     "data": {
      "text/html": [
       "<table class=\"dataframe\">\n",
       "<caption>A matrix: 8 × 8 of type dbl</caption>\n",
       "<thead>\n",
       "\t<tr><th></th><th scope=col>Year</th><th scope=col>Lag1</th><th scope=col>Lag2</th><th scope=col>Lag3</th><th scope=col>Lag4</th><th scope=col>Lag5</th><th scope=col>Volume</th><th scope=col>Today</th></tr>\n",
       "</thead>\n",
       "<tbody>\n",
       "\t<tr><th scope=row>Year</th><td>1.00000000</td><td> 0.029699649</td><td> 0.030596422</td><td> 0.033194581</td><td> 0.035688718</td><td> 0.029787995</td><td> 0.53900647</td><td> 0.030095229</td></tr>\n",
       "\t<tr><th scope=row>Lag1</th><td>0.02969965</td><td> 1.000000000</td><td>-0.026294328</td><td>-0.010803402</td><td>-0.002985911</td><td>-0.005674606</td><td> 0.04090991</td><td>-0.026155045</td></tr>\n",
       "\t<tr><th scope=row>Lag2</th><td>0.03059642</td><td>-0.026294328</td><td> 1.000000000</td><td>-0.025896670</td><td>-0.010853533</td><td>-0.003557949</td><td>-0.04338321</td><td>-0.010250033</td></tr>\n",
       "\t<tr><th scope=row>Lag3</th><td>0.03319458</td><td>-0.010803402</td><td>-0.025896670</td><td> 1.000000000</td><td>-0.024051036</td><td>-0.018808338</td><td>-0.04182369</td><td>-0.002447647</td></tr>\n",
       "\t<tr><th scope=row>Lag4</th><td>0.03568872</td><td>-0.002985911</td><td>-0.010853533</td><td>-0.024051036</td><td> 1.000000000</td><td>-0.027083641</td><td>-0.04841425</td><td>-0.006899527</td></tr>\n",
       "\t<tr><th scope=row>Lag5</th><td>0.02978799</td><td>-0.005674606</td><td>-0.003557949</td><td>-0.018808338</td><td>-0.027083641</td><td> 1.000000000</td><td>-0.02200231</td><td>-0.034860083</td></tr>\n",
       "\t<tr><th scope=row>Volume</th><td>0.53900647</td><td> 0.040909908</td><td>-0.043383215</td><td>-0.041823686</td><td>-0.048414246</td><td>-0.022002315</td><td> 1.00000000</td><td> 0.014591823</td></tr>\n",
       "\t<tr><th scope=row>Today</th><td>0.03009523</td><td>-0.026155045</td><td>-0.010250033</td><td>-0.002447647</td><td>-0.006899527</td><td>-0.034860083</td><td> 0.01459182</td><td> 1.000000000</td></tr>\n",
       "</tbody>\n",
       "</table>\n"
      ],
      "text/latex": [
       "A matrix: 8 × 8 of type dbl\n",
       "\\begin{tabular}{r|llllllll}\n",
       "  & Year & Lag1 & Lag2 & Lag3 & Lag4 & Lag5 & Volume & Today\\\\\n",
       "\\hline\n",
       "\tYear & 1.00000000 &  0.029699649 &  0.030596422 &  0.033194581 &  0.035688718 &  0.029787995 &  0.53900647 &  0.030095229\\\\\n",
       "\tLag1 & 0.02969965 &  1.000000000 & -0.026294328 & -0.010803402 & -0.002985911 & -0.005674606 &  0.04090991 & -0.026155045\\\\\n",
       "\tLag2 & 0.03059642 & -0.026294328 &  1.000000000 & -0.025896670 & -0.010853533 & -0.003557949 & -0.04338321 & -0.010250033\\\\\n",
       "\tLag3 & 0.03319458 & -0.010803402 & -0.025896670 &  1.000000000 & -0.024051036 & -0.018808338 & -0.04182369 & -0.002447647\\\\\n",
       "\tLag4 & 0.03568872 & -0.002985911 & -0.010853533 & -0.024051036 &  1.000000000 & -0.027083641 & -0.04841425 & -0.006899527\\\\\n",
       "\tLag5 & 0.02978799 & -0.005674606 & -0.003557949 & -0.018808338 & -0.027083641 &  1.000000000 & -0.02200231 & -0.034860083\\\\\n",
       "\tVolume & 0.53900647 &  0.040909908 & -0.043383215 & -0.041823686 & -0.048414246 & -0.022002315 &  1.00000000 &  0.014591823\\\\\n",
       "\tToday & 0.03009523 & -0.026155045 & -0.010250033 & -0.002447647 & -0.006899527 & -0.034860083 &  0.01459182 &  1.000000000\\\\\n",
       "\\end{tabular}\n"
      ],
      "text/markdown": [
       "\n",
       "A matrix: 8 × 8 of type dbl\n",
       "\n",
       "| <!--/--> | Year | Lag1 | Lag2 | Lag3 | Lag4 | Lag5 | Volume | Today |\n",
       "|---|---|---|---|---|---|---|---|---|\n",
       "| Year | 1.00000000 |  0.029699649 |  0.030596422 |  0.033194581 |  0.035688718 |  0.029787995 |  0.53900647 |  0.030095229 |\n",
       "| Lag1 | 0.02969965 |  1.000000000 | -0.026294328 | -0.010803402 | -0.002985911 | -0.005674606 |  0.04090991 | -0.026155045 |\n",
       "| Lag2 | 0.03059642 | -0.026294328 |  1.000000000 | -0.025896670 | -0.010853533 | -0.003557949 | -0.04338321 | -0.010250033 |\n",
       "| Lag3 | 0.03319458 | -0.010803402 | -0.025896670 |  1.000000000 | -0.024051036 | -0.018808338 | -0.04182369 | -0.002447647 |\n",
       "| Lag4 | 0.03568872 | -0.002985911 | -0.010853533 | -0.024051036 |  1.000000000 | -0.027083641 | -0.04841425 | -0.006899527 |\n",
       "| Lag5 | 0.02978799 | -0.005674606 | -0.003557949 | -0.018808338 | -0.027083641 |  1.000000000 | -0.02200231 | -0.034860083 |\n",
       "| Volume | 0.53900647 |  0.040909908 | -0.043383215 | -0.041823686 | -0.048414246 | -0.022002315 |  1.00000000 |  0.014591823 |\n",
       "| Today | 0.03009523 | -0.026155045 | -0.010250033 | -0.002447647 | -0.006899527 | -0.034860083 |  0.01459182 |  1.000000000 |\n",
       "\n"
      ],
      "text/plain": [
       "       Year       Lag1         Lag2         Lag3         Lag4        \n",
       "Year   1.00000000  0.029699649  0.030596422  0.033194581  0.035688718\n",
       "Lag1   0.02969965  1.000000000 -0.026294328 -0.010803402 -0.002985911\n",
       "Lag2   0.03059642 -0.026294328  1.000000000 -0.025896670 -0.010853533\n",
       "Lag3   0.03319458 -0.010803402 -0.025896670  1.000000000 -0.024051036\n",
       "Lag4   0.03568872 -0.002985911 -0.010853533 -0.024051036  1.000000000\n",
       "Lag5   0.02978799 -0.005674606 -0.003557949 -0.018808338 -0.027083641\n",
       "Volume 0.53900647  0.040909908 -0.043383215 -0.041823686 -0.048414246\n",
       "Today  0.03009523 -0.026155045 -0.010250033 -0.002447647 -0.006899527\n",
       "       Lag5         Volume      Today       \n",
       "Year    0.029787995  0.53900647  0.030095229\n",
       "Lag1   -0.005674606  0.04090991 -0.026155045\n",
       "Lag2   -0.003557949 -0.04338321 -0.010250033\n",
       "Lag3   -0.018808338 -0.04182369 -0.002447647\n",
       "Lag4   -0.027083641 -0.04841425 -0.006899527\n",
       "Lag5    1.000000000 -0.02200231 -0.034860083\n",
       "Volume -0.022002315  1.00000000  0.014591823\n",
       "Today  -0.034860083  0.01459182  1.000000000"
      ]
     },
     "metadata": {},
     "output_type": "display_data"
    }
   ],
   "source": [
    "#cor(Smarket)\n",
    "cor(Smarket[, -9])"
   ]
  },
  {
   "cell_type": "markdown",
   "id": "d0cd124e",
   "metadata": {
    "id": "d0cd124e"
   },
   "source": [
    "As one would expect, the correlations between the lag variables and today's returns are close to zero. In other words, there appears to be little correlation between today's returns and previous days' returns. The only substantial correlation is between `Year` and `volume`. By plotting the data, which is ordered chronologically, we see that `volume` is increasing over time. In other words, the average number of shares traded daily increased from 2001 to 2005."
   ]
  },
  {
   "cell_type": "code",
   "execution_count": 15,
   "id": "39555396",
   "metadata": {
    "colab": {
     "base_uri": "https://localhost:8080/",
     "height": 437
    },
    "id": "39555396",
    "lines_to_next_cell": 2,
    "name": "chunk3",
    "outputId": "a3c49080-a6c3-4ade-f8be-e7d848d175f7"
   },
   "outputs": [
    {
     "data": {
      "image/png": "[encoded data removed]",
      "text/plain": [
       "plot without title"
      ]
     },
     "metadata": {
      "image/png": {
       "height": 420,
       "width": 420
      }
     },
     "output_type": "display_data"
    }
   ],
   "source": [
    "attach(Smarket)\n",
    "plot(Volume)"
   ]
  },
  {
   "cell_type": "markdown",
   "id": "8d0549e0",
   "metadata": {
    "id": "8d0549e0"
   },
   "source": [
    "## Logistic Regression\n",
    "\n",
    "Next, we will fit a logistic regression model in order to predict `direction` using `lagone` through `lagfive` and `volume`. The `glm()` function  can be used to fit many types of generalized linear models , including logistic regression.\n",
    " The syntax of the `glm()` function is similar to that of  `lm()`,  except that we must pass in the argument `family = binomial` in order to tell `R` to run a logistic regression rather than some other type of generalized linear model.\n"
   ]
  },
  {
   "cell_type": "markdown",
   "id": "740132fa-f850-4bdd-a452-2cefd40bb9fb",
   "metadata": {},
   "source": [
    "#### glm은 family = 'binomial' 로 하면 로지스틱 회귀 모형을 적합해줌"
   ]
  },
  {
   "cell_type": "code",
   "execution_count": 16,
   "id": "259e0074",
   "metadata": {
    "colab": {
     "base_uri": "https://localhost:8080/",
     "height": 410
    },
    "id": "259e0074",
    "name": "chunk4",
    "outputId": "54e1895d-1d71-413f-a65c-57b86a58a2c1"
   },
   "outputs": [
    {
     "data": {
      "text/plain": [
       "\n",
       "Call:\n",
       "glm(formula = Direction ~ Lag1 + Lag2 + Lag3 + Lag4 + Lag5 + \n",
       "    Volume, family = binomial, data = Smarket)\n",
       "\n",
       "Deviance Residuals: \n",
       "   Min      1Q  Median      3Q     Max  \n",
       "-1.446  -1.203   1.065   1.145   1.326  \n",
       "\n",
       "Coefficients:\n",
       "             Estimate Std. Error z value Pr(>|z|)\n",
       "(Intercept) -0.126000   0.240736  -0.523    0.601\n",
       "Lag1        -0.073074   0.050167  -1.457    0.145\n",
       "Lag2        -0.042301   0.050086  -0.845    0.398\n",
       "Lag3         0.011085   0.049939   0.222    0.824\n",
       "Lag4         0.009359   0.049974   0.187    0.851\n",
       "Lag5         0.010313   0.049511   0.208    0.835\n",
       "Volume       0.135441   0.158360   0.855    0.392\n",
       "\n",
       "(Dispersion parameter for binomial family taken to be 1)\n",
       "\n",
       "    Null deviance: 1731.2  on 1249  degrees of freedom\n",
       "Residual deviance: 1727.6  on 1243  degrees of freedom\n",
       "AIC: 1741.6\n",
       "\n",
       "Number of Fisher Scoring iterations: 3\n"
      ]
     },
     "metadata": {},
     "output_type": "display_data"
    }
   ],
   "source": [
    "glm.fits <- glm(\n",
    "    Direction ~ Lag1 + Lag2 + Lag3 + Lag4 + Lag5 + Volume,\n",
    "    data = Smarket, family = binomial\n",
    "  )     # Logistic regression 적합\n",
    "summary(glm.fits)"
   ]
  },
  {
   "cell_type": "markdown",
   "id": "e1b1497c",
   "metadata": {
    "id": "e1b1497c"
   },
   "source": [
    "The smallest $p$-value here is associated with `lagone`. The negative coefficient for this predictor suggests that if the market had a positive return yesterday, then it is less likely to go up today. However, at a value of $0.15$, the $p$-value is still relatively large, and so there is no clear evidence of a real association between `lagone` and `direction`.\n",
    "\n",
    " We use the `coef()` function in order to access just the coefficients for this fitted model. We can also use the `summary()` function to access  particular aspects of the fitted model, such as the $p$-values for the coefficients."
   ]
  },
  {
   "cell_type": "code",
   "execution_count": 17,
   "id": "99306afa",
   "metadata": {
    "colab": {
     "base_uri": "https://localhost:8080/",
     "height": 321
    },
    "id": "99306afa",
    "lines_to_next_cell": 0,
    "name": "chunk5",
    "outputId": "464cc865-4dad-44d7-f039-b9d2ecfaa0cd"
   },
   "outputs": [
    {
     "data": {
      "text/html": [
       "<style>\n",
       ".dl-inline {width: auto; margin:0; padding: 0}\n",
       ".dl-inline>dt, .dl-inline>dd {float: none; width: auto; display: inline-block}\n",
       ".dl-inline>dt::after {content: \":\\0020\"; padding-right: .5ex}\n",
       ".dl-inline>dt:not(:first-of-type) {padding-left: .5ex}\n",
       "</style><dl class=dl-inline><dt>(Intercept)</dt><dd>-0.126000256559266</dd><dt>Lag1</dt><dd>-0.0730737458900262</dd><dt>Lag2</dt><dd>-0.0423013440073082</dd><dt>Lag3</dt><dd>0.0110851083796762</dd><dt>Lag4</dt><dd>0.00935893837027879</dd><dt>Lag5</dt><dd>0.0103130684758179</dd><dt>Volume</dt><dd>0.13544065885916</dd></dl>\n"
      ],
      "text/latex": [
       "\\begin{description*}\n",
       "\\item[(Intercept)] -0.126000256559266\n",
       "\\item[Lag1] -0.0730737458900262\n",
       "\\item[Lag2] -0.0423013440073082\n",
       "\\item[Lag3] 0.0110851083796762\n",
       "\\item[Lag4] 0.00935893837027879\n",
       "\\item[Lag5] 0.0103130684758179\n",
       "\\item[Volume] 0.13544065885916\n",
       "\\end{description*}\n"
      ],
      "text/markdown": [
       "(Intercept)\n",
       ":   -0.126000256559266Lag1\n",
       ":   -0.0730737458900262Lag2\n",
       ":   -0.0423013440073082Lag3\n",
       ":   0.0110851083796762Lag4\n",
       ":   0.00935893837027879Lag5\n",
       ":   0.0103130684758179Volume\n",
       ":   0.13544065885916\n",
       "\n"
      ],
      "text/plain": [
       " (Intercept)         Lag1         Lag2         Lag3         Lag4         Lag5 \n",
       "-0.126000257 -0.073073746 -0.042301344  0.011085108  0.009358938  0.010313068 \n",
       "      Volume \n",
       " 0.135440659 "
      ]
     },
     "metadata": {},
     "output_type": "display_data"
    },
    {
     "data": {
      "text/html": [
       "<table class=\"dataframe\">\n",
       "<caption>A matrix: 7 × 4 of type dbl</caption>\n",
       "<thead>\n",
       "\t<tr><th></th><th scope=col>Estimate</th><th scope=col>Std. Error</th><th scope=col>z value</th><th scope=col>Pr(&gt;|z|)</th></tr>\n",
       "</thead>\n",
       "<tbody>\n",
       "\t<tr><th scope=row>(Intercept)</th><td>-0.126000257</td><td>0.24073574</td><td>-0.5233966</td><td>0.6006983</td></tr>\n",
       "\t<tr><th scope=row>Lag1</th><td>-0.073073746</td><td>0.05016739</td><td>-1.4565986</td><td>0.1452272</td></tr>\n",
       "\t<tr><th scope=row>Lag2</th><td>-0.042301344</td><td>0.05008605</td><td>-0.8445733</td><td>0.3983491</td></tr>\n",
       "\t<tr><th scope=row>Lag3</th><td> 0.011085108</td><td>0.04993854</td><td> 0.2219750</td><td>0.8243333</td></tr>\n",
       "\t<tr><th scope=row>Lag4</th><td> 0.009358938</td><td>0.04997413</td><td> 0.1872757</td><td>0.8514445</td></tr>\n",
       "\t<tr><th scope=row>Lag5</th><td> 0.010313068</td><td>0.04951146</td><td> 0.2082966</td><td>0.8349974</td></tr>\n",
       "\t<tr><th scope=row>Volume</th><td> 0.135440659</td><td>0.15835970</td><td> 0.8552723</td><td>0.3924004</td></tr>\n",
       "</tbody>\n",
       "</table>\n"
      ],
      "text/latex": [
       "A matrix: 7 × 4 of type dbl\n",
       "\\begin{tabular}{r|llll}\n",
       "  & Estimate & Std. Error & z value & Pr(>\\textbar{}z\\textbar{})\\\\\n",
       "\\hline\n",
       "\t(Intercept) & -0.126000257 & 0.24073574 & -0.5233966 & 0.6006983\\\\\n",
       "\tLag1 & -0.073073746 & 0.05016739 & -1.4565986 & 0.1452272\\\\\n",
       "\tLag2 & -0.042301344 & 0.05008605 & -0.8445733 & 0.3983491\\\\\n",
       "\tLag3 &  0.011085108 & 0.04993854 &  0.2219750 & 0.8243333\\\\\n",
       "\tLag4 &  0.009358938 & 0.04997413 &  0.1872757 & 0.8514445\\\\\n",
       "\tLag5 &  0.010313068 & 0.04951146 &  0.2082966 & 0.8349974\\\\\n",
       "\tVolume &  0.135440659 & 0.15835970 &  0.8552723 & 0.3924004\\\\\n",
       "\\end{tabular}\n"
      ],
      "text/markdown": [
       "\n",
       "A matrix: 7 × 4 of type dbl\n",
       "\n",
       "| <!--/--> | Estimate | Std. Error | z value | Pr(&gt;|z|) |\n",
       "|---|---|---|---|---|\n",
       "| (Intercept) | -0.126000257 | 0.24073574 | -0.5233966 | 0.6006983 |\n",
       "| Lag1 | -0.073073746 | 0.05016739 | -1.4565986 | 0.1452272 |\n",
       "| Lag2 | -0.042301344 | 0.05008605 | -0.8445733 | 0.3983491 |\n",
       "| Lag3 |  0.011085108 | 0.04993854 |  0.2219750 | 0.8243333 |\n",
       "| Lag4 |  0.009358938 | 0.04997413 |  0.1872757 | 0.8514445 |\n",
       "| Lag5 |  0.010313068 | 0.04951146 |  0.2082966 | 0.8349974 |\n",
       "| Volume |  0.135440659 | 0.15835970 |  0.8552723 | 0.3924004 |\n",
       "\n"
      ],
      "text/plain": [
       "            Estimate     Std. Error z value    Pr(>|z|) \n",
       "(Intercept) -0.126000257 0.24073574 -0.5233966 0.6006983\n",
       "Lag1        -0.073073746 0.05016739 -1.4565986 0.1452272\n",
       "Lag2        -0.042301344 0.05008605 -0.8445733 0.3983491\n",
       "Lag3         0.011085108 0.04993854  0.2219750 0.8243333\n",
       "Lag4         0.009358938 0.04997413  0.1872757 0.8514445\n",
       "Lag5         0.010313068 0.04951146  0.2082966 0.8349974\n",
       "Volume       0.135440659 0.15835970  0.8552723 0.3924004"
      ]
     },
     "metadata": {},
     "output_type": "display_data"
    },
    {
     "data": {
      "text/plain": [
       "\n",
       "Call:\n",
       "glm(formula = Direction ~ Lag1 + Lag2 + Lag3 + Lag4 + Lag5 + \n",
       "    Volume, family = binomial, data = Smarket)\n",
       "\n",
       "Deviance Residuals: \n",
       "   Min      1Q  Median      3Q     Max  \n",
       "-1.446  -1.203   1.065   1.145   1.326  \n",
       "\n",
       "Coefficients:\n",
       "             Estimate Std. Error z value Pr(>|z|)\n",
       "(Intercept) -0.126000   0.240736  -0.523    0.601\n",
       "Lag1        -0.073074   0.050167  -1.457    0.145\n",
       "Lag2        -0.042301   0.050086  -0.845    0.398\n",
       "Lag3         0.011085   0.049939   0.222    0.824\n",
       "Lag4         0.009359   0.049974   0.187    0.851\n",
       "Lag5         0.010313   0.049511   0.208    0.835\n",
       "Volume       0.135441   0.158360   0.855    0.392\n",
       "\n",
       "(Dispersion parameter for binomial family taken to be 1)\n",
       "\n",
       "    Null deviance: 1731.2  on 1249  degrees of freedom\n",
       "Residual deviance: 1727.6  on 1243  degrees of freedom\n",
       "AIC: 1741.6\n",
       "\n",
       "Number of Fisher Scoring iterations: 3\n"
      ]
     },
     "metadata": {},
     "output_type": "display_data"
    }
   ],
   "source": [
    "coef(glm.fits)   # 추정된 회귀계수\n",
    "summary(glm.fits)$coef\n",
    "summary(glm.fits)"
   ]
  },
  {
   "cell_type": "markdown",
   "id": "e0ae3bdc",
   "metadata": {
    "id": "e0ae3bdc"
   },
   "source": [
    "The `predict()` function can be used to predict the probability that the market will go up, given values of the predictors. The `type = \"response\"` option tells `R` to output probabilities of the form $P(Y=1|X)$, as opposed to other information such as the logit. If no data set is supplied to the `predict()` function,\n",
    "then  the probabilities are computed for the training data that was used to fit the logistic regression model. Here we have printed only the first ten probabilities. We know that these values correspond to the probability of the market going up, rather than down, because the `contrasts()` function indicates that `R` has created a dummy variable with a 1 for `Up`."
   ]
  },
  {
   "cell_type": "code",
   "execution_count": 20,
   "id": "d6417a0d",
   "metadata": {
    "colab": {
     "base_uri": "https://localhost:8080/",
     "height": 199
    },
    "id": "d6417a0d",
    "name": "chunk6",
    "outputId": "bfa2fd43-271b-42ca-fe4f-3cb8b6f9ea66"
   },
   "outputs": [
    {
     "data": {
      "text/html": [
       "<style>\n",
       ".dl-inline {width: auto; margin:0; padding: 0}\n",
       ".dl-inline>dt, .dl-inline>dd {float: none; width: auto; display: inline-block}\n",
       ".dl-inline>dt::after {content: \":\\0020\"; padding-right: .5ex}\n",
       ".dl-inline>dt:not(:first-of-type) {padding-left: .5ex}\n",
       "</style><dl class=dl-inline><dt>1</dt><dd>0.507084133395402</dd><dt>2</dt><dd>0.481467878454591</dd><dt>3</dt><dd>0.481138835214201</dd><dt>4</dt><dd>0.515222355813022</dd><dt>5</dt><dd>0.510781162691538</dd><dt>6</dt><dd>0.506956460534911</dd><dt>7</dt><dd>0.492650874187038</dd><dt>8</dt><dd>0.509229158207377</dd><dt>9</dt><dd>0.517613526170958</dd><dt>10</dt><dd>0.488837779771376</dd></dl>\n"
      ],
      "text/latex": [
       "\\begin{description*}\n",
       "\\item[1] 0.507084133395402\n",
       "\\item[2] 0.481467878454591\n",
       "\\item[3] 0.481138835214201\n",
       "\\item[4] 0.515222355813022\n",
       "\\item[5] 0.510781162691538\n",
       "\\item[6] 0.506956460534911\n",
       "\\item[7] 0.492650874187038\n",
       "\\item[8] 0.509229158207377\n",
       "\\item[9] 0.517613526170958\n",
       "\\item[10] 0.488837779771376\n",
       "\\end{description*}\n"
      ],
      "text/markdown": [
       "1\n",
       ":   0.5070841333954022\n",
       ":   0.4814678784545913\n",
       ":   0.4811388352142014\n",
       ":   0.5152223558130225\n",
       ":   0.5107811626915386\n",
       ":   0.5069564605349117\n",
       ":   0.4926508741870388\n",
       ":   0.5092291582073779\n",
       ":   0.51761352617095810\n",
       ":   0.488837779771376\n",
       "\n"
      ],
      "text/plain": [
       "        1         2         3         4         5         6         7         8 \n",
       "0.5070841 0.4814679 0.4811388 0.5152224 0.5107812 0.5069565 0.4926509 0.5092292 \n",
       "        9        10 \n",
       "0.5176135 0.4888378 "
      ]
     },
     "metadata": {},
     "output_type": "display_data"
    },
    {
     "data": {
      "text/html": [
       "<table class=\"dataframe\">\n",
       "<caption>A matrix: 2 × 1 of type dbl</caption>\n",
       "<thead>\n",
       "\t<tr><th></th><th scope=col>Up</th></tr>\n",
       "</thead>\n",
       "<tbody>\n",
       "\t<tr><th scope=row>Down</th><td>0</td></tr>\n",
       "\t<tr><th scope=row>Up</th><td>1</td></tr>\n",
       "</tbody>\n",
       "</table>\n"
      ],
      "text/latex": [
       "A matrix: 2 × 1 of type dbl\n",
       "\\begin{tabular}{r|l}\n",
       "  & Up\\\\\n",
       "\\hline\n",
       "\tDown & 0\\\\\n",
       "\tUp & 1\\\\\n",
       "\\end{tabular}\n"
      ],
      "text/markdown": [
       "\n",
       "A matrix: 2 × 1 of type dbl\n",
       "\n",
       "| <!--/--> | Up |\n",
       "|---|---|\n",
       "| Down | 0 |\n",
       "| Up | 1 |\n",
       "\n"
      ],
      "text/plain": [
       "     Up\n",
       "Down 0 \n",
       "Up   1 "
      ]
     },
     "metadata": {},
     "output_type": "display_data"
    }
   ],
   "source": [
    "# 적합치(훈련자료에서의 예측치) : 성공확률\n",
    "glm.probs <- predict(glm.fits, type = \"response\")   #관측치에 대한 1로 분류할 확률\n",
    "glm.probs[1:10] #첫 관측치 10개에 대한 분류 확률\n",
    "contrasts(Direction)"
   ]
  },
  {
   "cell_type": "markdown",
   "id": "dac20be3",
   "metadata": {
    "id": "dac20be3"
   },
   "source": [
    "In order to make a prediction as to whether the market will go up or down on a particular day, we must convert these predicted probabilities into class labels, `Up` or `Down`.\n",
    "The following two commands create a vector of class predictions based on whether the predicted probability of a market increase is greater than or less than $0.5$."
   ]
  },
  {
   "cell_type": "code",
   "execution_count": 22,
   "id": "4ae90da9",
   "metadata": {
    "id": "4ae90da9",
    "name": "chunk7"
   },
   "outputs": [],
   "source": [
    "glm.pred <- rep(\"Down\", 1250)\n",
    "glm.pred[glm.probs > .5] = \"Up\"   # 임계치 0.5로 설정하여 0과1로 분류 혹은 예측"
   ]
  },
  {
   "cell_type": "markdown",
   "id": "2be0ea24",
   "metadata": {
    "id": "2be0ea24"
   },
   "source": [
    "The first command creates a vector of 1,250  `Down` elements. The second line transforms to `Up` all of the elements for which the predicted probability of a market increase exceeds $0.5$. Given these predictions, the `table()` function can be used to produce a confusion matrix   in order to determine how many observations were correctly or incorrectly classified. %By inputting two qualitative vectors R will create a two by two table with counts of the number of times each combination occurred e.g. predicted {\\it Up} and market increased, predicted {\\it Up} and the market decreased etc."
   ]
  },
  {
   "cell_type": "markdown",
   "id": "4b458e99-3140-470c-88ea-abfeee5df726",
   "metadata": {},
   "source": [
    "#### 훈련자료에 대한 정분류율과 confution matrix"
   ]
  },
  {
   "cell_type": "code",
   "execution_count": 27,
   "id": "89e598ec",
   "metadata": {
    "id": "89e598ec",
    "name": "chunk8",
    "outputId": "b69f5ef6-79db-4308-e55b-b6c0c23fee79"
   },
   "outputs": [
    {
     "data": {
      "text/plain": [
       "        Direction\n",
       "glm.pred Down  Up\n",
       "    Down  145 141\n",
       "    Up    457 507"
      ]
     },
     "metadata": {},
     "output_type": "display_data"
    },
    {
     "data": {
      "text/html": [
       "0.5216"
      ],
      "text/latex": [
       "0.5216"
      ],
      "text/markdown": [
       "0.5216"
      ],
      "text/plain": [
       "[1] 0.5216"
      ]
     },
     "metadata": {},
     "output_type": "display_data"
    },
    {
     "data": {
      "text/html": [
       "0.5216"
      ],
      "text/latex": [
       "0.5216"
      ],
      "text/markdown": [
       "0.5216"
      ],
      "text/plain": [
       "[1] 0.5216"
      ]
     },
     "metadata": {},
     "output_type": "display_data"
    }
   ],
   "source": [
    "table(glm.pred, Direction)   # confusion matrix\n",
    "(507 + 145) / 1250           # 정분류율 (훈련자료)\n",
    "mean(glm.pred == Direction)  # 정분류율 (훈련자료)"
   ]
  },
  {
   "cell_type": "markdown",
   "id": "a3f96f0f",
   "metadata": {
    "id": "a3f96f0f"
   },
   "source": [
    "The diagonal elements of the confusion matrix indicate correct predictions, while the off-diagonals represent incorrect predictions. Hence our model correctly predicted that the market would go up on $507$~days and that it would go down on $145$~days, for a total of $507+145 = 652$ correct predictions. The `mean()` function can be used to compute the fraction of days for which the prediction was correct. In this case, logistic regression correctly predicted the movement of the market  $52.2$\\,\\% of the time.\n",
    "\n",
    "At first glance, it appears that the logistic regression model is working a little better than random guessing. However, this result is misleading because we trained and tested the  model on the same set of $1,250$ observations. In other words,\n",
    " $100\\%-52.2\\%=47.8\\%$, is the *training* error   rate. As we have seen previously, the training error rate is often overly optimistic---it tends to underestimate the   test error rate.  In order to better assess the accuracy of the logistic regression model in this setting, we can fit the model using part of the data, and then examine how well it predicts the *held out* data.\n",
    "This will yield a more realistic error rate, in the sense that in practice we will be interested in our model's performance not on the data that we used to fit the model, but rather on days in the future for which the market's movements are unknown.\n",
    "\n",
    "To implement this strategy, we will first create a vector corresponding to the observations from 2001 through 2004. We will then use this vector to create a held out data set of observations from 2005."
   ]
  },
  {
   "cell_type": "markdown",
   "id": "4b6276a3-4435-4854-a7a5-60d2b59ea7d5",
   "metadata": {},
   "source": [
    "#### 훈련자료와 평가자료 분할"
   ]
  },
  {
   "cell_type": "code",
   "execution_count": 28,
   "id": "a0b0740a",
   "metadata": {
    "colab": {
     "base_uri": "https://localhost:8080/",
     "height": 34
    },
    "id": "a0b0740a",
    "name": "chunk9",
    "outputId": "c075fbb9-78f7-4dca-c817-7afb3a213783"
   },
   "outputs": [
    {
     "data": {
      "text/html": [
       "<style>\n",
       ".list-inline {list-style: none; margin:0; padding: 0}\n",
       ".list-inline>li {display: inline-block}\n",
       ".list-inline>li:not(:last-child)::after {content: \"\\00b7\"; padding: 0 .5ex}\n",
       "</style>\n",
       "<ol class=list-inline><li>252</li><li>9</li></ol>\n"
      ],
      "text/latex": [
       "\\begin{enumerate*}\n",
       "\\item 252\n",
       "\\item 9\n",
       "\\end{enumerate*}\n"
      ],
      "text/markdown": [
       "1. 252\n",
       "2. 9\n",
       "\n",
       "\n"
      ],
      "text/plain": [
       "[1] 252   9"
      ]
     },
     "metadata": {},
     "output_type": "display_data"
    }
   ],
   "source": [
    "train <- (Year < 2005)        # 2005년 이전 자료를 훈련자료로 설정\n",
    "Smarket.2005 <- Smarket[!train, ]   # 2005년 자료를 평가자료로 설정\n",
    "dim(Smarket.2005)\n",
    "Direction.2005 <- Direction[!train]"
   ]
  },
  {
   "cell_type": "markdown",
   "id": "7f2d8b2d",
   "metadata": {
    "id": "7f2d8b2d"
   },
   "source": [
    "The object `train` is a vector of $1{,}250$ elements, corresponding to the observations in our data set. The elements of the vector that correspond to observations that occurred before 2005 are set to `TRUE`, whereas those that correspond to observations  in 2005 are set to `FALSE`.\n",
    "The object `train` is a  *Boolean*  vector, since its elements are `TRUE` and `FALSE`.\n",
    "Boolean vectors can be used to obtain a subset of the rows or columns of a matrix. For instance, the command `Smarket[train, ]` would pick out a submatrix of the stock market data set, corresponding only to the dates before 2005, since\n",
    "those are the ones for which the elements of `train` are `TRUE`.\n",
    "The `!` symbol can be used to reverse all of the elements of  a Boolean vector. That is, `!train` is a vector similar to `train`, except that  the elements that are `TRUE` in `train` get swapped to `FALSE` in `!train`, and the elements that are `FALSE`\n",
    "in `train` get swapped to `TRUE` in `!train`. Therefore, `Smarket[!train, ]` yields a submatrix of the stock market data containing only\n",
    "the observations for which `train` is `FALSE`---that is, the observations with dates in 2005. The output above indicates that there are 252 such observations.\n",
    "\n",
    "We now fit a logistic regression model using only the subset of the observations that correspond to dates before 2005, using the `subset` argument. We then obtain predicted probabilities of the stock market going up for each of the days in our test set---that is, for the days in 2005."
   ]
  },
  {
   "cell_type": "markdown",
   "id": "47b0de91-175e-4c62-a177-9f448e9cca77",
   "metadata": {},
   "source": [
    "#### 로지스틱 회귀 모형의 훈련자료에의 적합 + 평가 자료에서의 예측 결과"
   ]
  },
  {
   "cell_type": "code",
   "execution_count": 30,
   "id": "4c7a7c4d",
   "metadata": {
    "id": "4c7a7c4d",
    "name": "chunk10"
   },
   "outputs": [],
   "source": [
    "glm.fits <- glm(\n",
    "    Direction ~ Lag1 + Lag2 + Lag3 + Lag4 + Lag5 + Volume,\n",
    "    data = Smarket, family = binomial, subset = train\n",
    "  )     # 훈련자료에 의한 모형 적합\n",
    "glm.probs <- predict(glm.fits, Smarket.2005,\n",
    "    type = \"response\")    # 평가자료에서의 예측성공확률 생성"
   ]
  },
  {
   "cell_type": "markdown",
   "id": "40a2f0ea",
   "metadata": {
    "id": "40a2f0ea"
   },
   "source": [
    "Notice that we have trained and tested our model on two completely separate data sets: training was performed using only the dates before 2005, and testing was performed using only the dates in 2005.\n",
    "Finally, we compute the predictions for 2005 and compare them to the actual movements of the market over that time period."
   ]
  },
  {
   "cell_type": "markdown",
   "id": "79975089-d4ed-42a8-9089-724b197eb266",
   "metadata": {},
   "source": [
    "#### 평가자료에서의 confusion matrix와 정분류율 오분류율"
   ]
  },
  {
   "cell_type": "code",
   "execution_count": 31,
   "id": "cc885d0d",
   "metadata": {
    "colab": {
     "base_uri": "https://localhost:8080/",
     "height": 123
    },
    "id": "cc885d0d",
    "name": "chunk11",
    "outputId": "6579bccc-0841-4ac4-9341-ec54fc1be98b"
   },
   "outputs": [
    {
     "data": {
      "text/plain": [
       "        Direction.2005\n",
       "glm.pred Down Up\n",
       "    Down   77 97\n",
       "    Up     34 44"
      ]
     },
     "metadata": {},
     "output_type": "display_data"
    },
    {
     "data": {
      "text/html": [
       "0.48015873015873"
      ],
      "text/latex": [
       "0.48015873015873"
      ],
      "text/markdown": [
       "0.48015873015873"
      ],
      "text/plain": [
       "[1] 0.4801587"
      ]
     },
     "metadata": {},
     "output_type": "display_data"
    },
    {
     "data": {
      "text/html": [
       "0.51984126984127"
      ],
      "text/latex": [
       "0.51984126984127"
      ],
      "text/markdown": [
       "0.51984126984127"
      ],
      "text/plain": [
       "[1] 0.5198413"
      ]
     },
     "metadata": {},
     "output_type": "display_data"
    }
   ],
   "source": [
    "glm.pred <- rep(\"Down\", 252)\n",
    "glm.pred[glm.probs > .5] <- \"Up\"     # 임계치 0.5\n",
    "table(glm.pred, Direction.2005)      # confusion matrix\n",
    "mean(glm.pred == Direction.2005)     # 정분류율 (평가자료)\n",
    "mean(glm.pred != Direction.2005)     # 오분류율 (평가자료)"
   ]
  },
  {
   "cell_type": "markdown",
   "id": "85204956",
   "metadata": {
    "id": "85204956"
   },
   "source": [
    "The `!=` notation means *not equal to*, and  so the last command computes the  test set error rate. The results are rather disappointing: the test error rate is $52$\\,\\%, which is worse than random guessing! Of course this result is not all that surprising, given that one would not generally expect to be able to  use previous days' returns to predict future market performance. (After all, if it were possible to do so, then the authors of this book would be out striking it rich rather than writing a statistics textbook.)\n",
    "\n",
    "We recall that the logistic regression model had very underwhelming $p$-values associated with all of the predictors, and that the smallest $p$-value, though not very small, corresponded to `lagone`. Perhaps by removing the variables that appear not  to be helpful in\n",
    "predicting\n",
    "`direction`, we can obtain a more effective model. After all, using predictors that have no relationship with the response tends to cause a deterioration in the test error rate (since such predictors cause an increase in variance without a corresponding decrease in bias), and so removing such predictors may in turn yield an improvement.\n",
    " Below we have refit the logistic regression using just `lagone` and `lagtwo`, which seemed to have the highest predictive power in the original logistic regression model."
   ]
  },
  {
   "cell_type": "markdown",
   "id": "8e70cc15-4c78-494f-bba0-6961fb4c2801",
   "metadata": {},
   "source": [
    "#### 변수를 약간 탈락시킨 후 로지스틱 모형 적합"
   ]
  },
  {
   "cell_type": "code",
   "execution_count": 35,
   "id": "96341453",
   "metadata": {
    "colab": {
     "base_uri": "https://localhost:8080/",
     "height": 123
    },
    "id": "96341453",
    "name": "chunk12",
    "outputId": "3704fc8f-267f-4d3c-f2e5-9541e37acaea"
   },
   "outputs": [
    {
     "data": {
      "text/plain": [
       "        Direction.2005\n",
       "glm.pred Down  Up\n",
       "    Down   35  35\n",
       "    Up     76 106"
      ]
     },
     "metadata": {},
     "output_type": "display_data"
    },
    {
     "data": {
      "text/html": [
       "0.55952380952381"
      ],
      "text/latex": [
       "0.55952380952381"
      ],
      "text/markdown": [
       "0.55952380952381"
      ],
      "text/plain": [
       "[1] 0.5595238"
      ]
     },
     "metadata": {},
     "output_type": "display_data"
    },
    {
     "data": {
      "text/html": [
       "0.582417582417582"
      ],
      "text/latex": [
       "0.582417582417582"
      ],
      "text/markdown": [
       "0.582417582417582"
      ],
      "text/plain": [
       "[1] 0.5824176"
      ]
     },
     "metadata": {},
     "output_type": "display_data"
    }
   ],
   "source": [
    "glm.fits <- glm(Direction ~ Lag1 + Lag2, data = Smarket,\n",
    "    family = binomial, subset = train)          # 예측변수를 2개로 줄여 모형의 복잡도를 줄임\n",
    "glm.probs <- predict(glm.fits, Smarket.2005, #평가자료 예측\n",
    "    type = \"response\")\n",
    "glm.pred <- rep(\"Down\", 252)\n",
    "glm.pred[glm.probs > .5] <- \"Up\"\n",
    "table(glm.pred, Direction.2005)\n",
    "mean(glm.pred == Direction.2005)          # 정분류율\n",
    "106 / (106 + 76)                          # accruracy rate (민감도와는 다름) #맞다고 예측한 것 중에 맞게 예측한 비율"
   ]
  },
  {
   "cell_type": "markdown",
   "id": "26ec9d8c",
   "metadata": {
    "id": "26ec9d8c"
   },
   "source": [
    "Now the results appear to be a little better: $56\\%$ of the daily movements have been correctly predicted. It is worth noting that in this case, a much simpler strategy of predicting that the market will increase every day will also be correct $56\\%$ of the time! Hence, in terms of overall error rate, the logistic regression method is no better than the naive approach. However, the confusion matrix shows that on days when logistic regression predicts an increase in the market, it has a $58\\%$ accuracy rate. This suggests a possible trading strategy of buying on days when the model predicts an increasing market, and avoiding trades on days when a decrease is predicted. Of course one would need to investigate more carefully whether this small improvement was real or just due to random chance."
   ]
  },
  {
   "cell_type": "markdown",
   "id": "99b0a9dc",
   "metadata": {
    "id": "99b0a9dc"
   },
   "source": [
    "Suppose that we want to predict the returns associated with particular values of `lagone` and `lagtwo`. In particular, we want to predict `direction` on a day when `lagone` and `lagtwo` equal 1.2 and~1.1, respectively, and  on a day when they equal  1.5 and $-$0.8.\n",
    "We do this using the `predict()` function."
   ]
  },
  {
   "cell_type": "code",
   "execution_count": 36,
   "id": "058a4a72",
   "metadata": {
    "colab": {
     "base_uri": "https://localhost:8080/",
     "height": 34
    },
    "id": "058a4a72",
    "lines_to_next_cell": 0,
    "name": "chunk13",
    "outputId": "7b22ed54-5b51-4d1e-eddd-1115e3908a56"
   },
   "outputs": [
    {
     "data": {
      "text/html": [
       "<style>\n",
       ".dl-inline {width: auto; margin:0; padding: 0}\n",
       ".dl-inline>dt, .dl-inline>dd {float: none; width: auto; display: inline-block}\n",
       ".dl-inline>dt::after {content: \":\\0020\"; padding-right: .5ex}\n",
       ".dl-inline>dt:not(:first-of-type) {padding-left: .5ex}\n",
       "</style><dl class=dl-inline><dt>1</dt><dd>0.479146239171912</dd><dt>2</dt><dd>0.496093872956532</dd></dl>\n"
      ],
      "text/latex": [
       "\\begin{description*}\n",
       "\\item[1] 0.479146239171912\n",
       "\\item[2] 0.496093872956532\n",
       "\\end{description*}\n"
      ],
      "text/markdown": [
       "1\n",
       ":   0.4791462391719122\n",
       ":   0.496093872956532\n",
       "\n"
      ],
      "text/plain": [
       "        1         2 \n",
       "0.4791462 0.4960939 "
      ]
     },
     "metadata": {},
     "output_type": "display_data"
    }
   ],
   "source": [
    "predict(glm.fits,\n",
    "    newdata =\n",
    "      data.frame(Lag1 = c(1.2, 1.5),  Lag2 = c(1.1, -0.8)),\n",
    "    type = \"response\"\n",
    "  )          # new predictor에서의 분류"
   ]
  },
  {
   "cell_type": "markdown",
   "id": "1575461a",
   "metadata": {
    "id": "1575461a"
   },
   "source": [
    "## Linear Discriminant Analysis\n",
    "\n",
    "Now we will perform LDA on the `Smarket` data. In `R`, we fit an LDA model using the  `lda()` function, which is part of the `MASS` library. Notice that the syntax for the `lda()` function is identical to that of `lm()`, and to that of `glm()` except for the absence of the `family` option. We fit the model using only the observations before 2005."
   ]
  },
  {
   "cell_type": "code",
   "execution_count": 38,
   "id": "d833be9a",
   "metadata": {
    "colab": {
     "base_uri": "https://localhost:8080/",
     "height": 883
    },
    "id": "d833be9a",
    "name": "chunk14",
    "outputId": "3cb838c6-fd10-4fc1-86b8-71a549a676fb"
   },
   "outputs": [
    {
     "data": {
      "text/plain": [
       "Call:\n",
       "lda(Direction ~ Lag1 + Lag2, data = Smarket, subset = train)\n",
       "\n",
       "Prior probabilities of groups:\n",
       "    Down       Up \n",
       "0.491984 0.508016 \n",
       "\n",
       "Group means:\n",
       "            Lag1        Lag2\n",
       "Down  0.04279022  0.03389409\n",
       "Up   -0.03954635 -0.03132544\n",
       "\n",
       "Coefficients of linear discriminants:\n",
       "            LD1\n",
       "Lag1 -0.6420190\n",
       "Lag2 -0.5135293"
      ]
     },
     "metadata": {},
     "output_type": "display_data"
    },
    {
     "data": {
      "image/png": "[encoded data removed]",
      "text/plain": [
       "plot without title"
      ]
     },
     "metadata": {
      "image/png": {
       "height": 420,
       "width": 420
      }
     },
     "output_type": "display_data"
    }
   ],
   "source": [
    "library(MASS)\n",
    "lda.fit <- lda(Direction ~ Lag1 + Lag2, data = Smarket,\n",
    "    subset = train)     # LDA 적합\n",
    "lda.fit\n",
    "plot(lda.fit)   # 적합결과 시각화 (discriminant function 값)"
   ]
  },
  {
   "cell_type": "markdown",
   "id": "ea992c61",
   "metadata": {
    "id": "ea992c61"
   },
   "source": [
    "The LDA output indicates that $\\hat\\pi_1=0.492$ and $\\hat\\pi_2=0.508$; in other words, $49.2$\\,\\% of the training observations correspond to days during which the market went down.\n",
    " It also provides the group means; these are the average of each predictor within each class, and are used by LDA as estimates of $\\mu_k$.\n",
    " These suggest that there is a tendency for the previous 2~days' returns to be negative on days when the market increases, and a tendency for the previous days' returns to be positive on days when the market declines.\n",
    "  The *coefficients of linear discriminants* output provides the linear combination of `lagone` and `lagtwo` that are used to form the LDA decision rule. In other words, these are the multipliers of the elements of $X=x$ in ( 4.24).\n",
    "  If $-0.642\\times `lagone` - 0.514 \\times `lagtwo`$ is large, then the LDA classifier will predict a market increase, and if it is small, then the LDA classifier will predict a market decline.\n",
    "\n",
    "  The `plot()` function produces plots of the *linear discriminants*, obtained by computing $-0.642\\times `lagone` - 0.514 \\times `lagtwo`$ for each of the training observations. The `Up` and `Down` observations are displayed separately.\n",
    "\n"
   ]
  },
  {
   "cell_type": "markdown",
   "id": "6a5eb9f6",
   "metadata": {
    "id": "6a5eb9f6"
   },
   "source": [
    "The `predict()` function returns a list with three elements. The first element,  `class`,  contains LDA's predictions about the movement of the market. The second element, `posterior`, is a matrix whose $k$th column contains the posterior probability that the corresponding observation belongs to the $k$th class, computed from ( 4.15). Finally, `x` contains the linear discriminants, described earlier."
   ]
  },
  {
   "cell_type": "markdown",
   "id": "6f346a85-418c-4e03-b17b-9bb77491af4d",
   "metadata": {},
   "source": [
    "#### LDA 예측(test data)"
   ]
  },
  {
   "cell_type": "code",
   "execution_count": 40,
   "id": "16ddf2d4",
   "metadata": {
    "colab": {
     "base_uri": "https://localhost:8080/",
     "height": 34
    },
    "id": "16ddf2d4",
    "name": "chunk15",
    "outputId": "fa61d4e4-d9cc-4a48-e38b-42d4d86bbfa4"
   },
   "outputs": [
    {
     "data": {
      "text/html": [
       "<style>\n",
       ".list-inline {list-style: none; margin:0; padding: 0}\n",
       ".list-inline>li {display: inline-block}\n",
       ".list-inline>li:not(:last-child)::after {content: \"\\00b7\"; padding: 0 .5ex}\n",
       "</style>\n",
       "<ol class=list-inline><li>'class'</li><li>'posterior'</li><li>'x'</li></ol>\n"
      ],
      "text/latex": [
       "\\begin{enumerate*}\n",
       "\\item 'class'\n",
       "\\item 'posterior'\n",
       "\\item 'x'\n",
       "\\end{enumerate*}\n"
      ],
      "text/markdown": [
       "1. 'class'\n",
       "2. 'posterior'\n",
       "3. 'x'\n",
       "\n",
       "\n"
      ],
      "text/plain": [
       "[1] \"class\"     \"posterior\" \"x\"        "
      ]
     },
     "metadata": {},
     "output_type": "display_data"
    }
   ],
   "source": [
    "lda.pred <- predict(lda.fit, Smarket.2005)     # 예측\n",
    "names(lda.pred)  \n",
    "# 예측성공확률 및 분류결과(class) : 분류결과는 0.5 임계치를 전제로 함"
   ]
  },
  {
   "cell_type": "markdown",
   "id": "bbd108fa",
   "metadata": {
    "id": "bbd108fa"
   },
   "source": [
    "As we observed in Section 4.5, the LDA and logistic regression predictions are almost identical."
   ]
  },
  {
   "cell_type": "markdown",
   "id": "bc6cd734-4b4f-4e78-9371-e6b36f2d677f",
   "metadata": {},
   "source": [
    "#### 정분류율과 confusion matrix"
   ]
  },
  {
   "cell_type": "code",
   "execution_count": 45,
   "id": "57586436",
   "metadata": {
    "colab": {
     "base_uri": "https://localhost:8080/",
     "height": 106
    },
    "id": "57586436",
    "name": "chunk16",
    "outputId": "0de1e719-afaa-423a-ceaa-7a271a8ccda2"
   },
   "outputs": [
    {
     "data": {
      "text/plain": [
       "         Direction.2005\n",
       "lda.class Down  Up\n",
       "     Down   35  35\n",
       "     Up     76 106"
      ]
     },
     "metadata": {},
     "output_type": "display_data"
    },
    {
     "data": {
      "text/html": [
       "0.55952380952381"
      ],
      "text/latex": [
       "0.55952380952381"
      ],
      "text/markdown": [
       "0.55952380952381"
      ],
      "text/plain": [
       "[1] 0.5595238"
      ]
     },
     "metadata": {},
     "output_type": "display_data"
    }
   ],
   "source": [
    "lda.class <- lda.pred$class\n",
    "table(lda.class, Direction.2005) #confusion matrix\n",
    "mean(lda.class == Direction.2005)   # 정분류율"
   ]
  },
  {
   "cell_type": "markdown",
   "id": "258b2935",
   "metadata": {
    "id": "258b2935"
   },
   "source": [
    "Applying a $50$\\,\\% threshold to the posterior probabilities allows us to recreate the predictions contained in `lda.pred$class`."
   ]
  },
  {
   "cell_type": "code",
   "execution_count": 47,
   "id": "b5a3a9b0",
   "metadata": {
    "colab": {
     "base_uri": "https://localhost:8080/",
     "height": 52
    },
    "id": "b5a3a9b0",
    "name": "chunk17",
    "outputId": "f70b086c-6aa1-4d9d-cf89-b17e3c62e9c6"
   },
   "outputs": [
    {
     "data": {
      "text/html": [
       "70"
      ],
      "text/latex": [
       "70"
      ],
      "text/markdown": [
       "70"
      ],
      "text/plain": [
       "[1] 70"
      ]
     },
     "metadata": {},
     "output_type": "display_data"
    },
    {
     "data": {
      "text/html": [
       "182"
      ],
      "text/latex": [
       "182"
      ],
      "text/markdown": [
       "182"
      ],
      "text/plain": [
       "[1] 182"
      ]
     },
     "metadata": {},
     "output_type": "display_data"
    }
   ],
   "source": [
    "sum(lda.pred$posterior[, 1] >= .5)\n",
    "sum(lda.pred$posterior[, 1] < .5)"
   ]
  },
  {
   "cell_type": "markdown",
   "id": "22e75ab3",
   "metadata": {
    "id": "22e75ab3"
   },
   "source": [
    "Notice that the posterior probability output by the model corresponds to the probability that the market will *decrease*:"
   ]
  },
  {
   "cell_type": "code",
   "execution_count": 51,
   "id": "1e96bff8",
   "metadata": {
    "colab": {
     "base_uri": "https://localhost:8080/",
     "height": 104
    },
    "id": "1e96bff8",
    "name": "chunk18",
    "outputId": "6b5ce6b0-2fb4-401c-8211-10045640ff29"
   },
   "outputs": [
    {
     "data": {
      "text/html": [
       "<style>\n",
       ".dl-inline {width: auto; margin:0; padding: 0}\n",
       ".dl-inline>dt, .dl-inline>dd {float: none; width: auto; display: inline-block}\n",
       ".dl-inline>dt::after {content: \":\\0020\"; padding-right: .5ex}\n",
       ".dl-inline>dt:not(:first-of-type) {padding-left: .5ex}\n",
       "</style><dl class=dl-inline><dt>999</dt><dd>0.490179249818258</dd><dt>1000</dt><dd>0.479218499099683</dd><dt>1001</dt><dd>0.466818479852065</dd><dt>1002</dt><dd>0.474001069455248</dd><dt>1003</dt><dd>0.492787663967445</dd><dt>1004</dt><dd>0.493856154997504</dd><dt>1005</dt><dd>0.495101564646223</dd><dt>1006</dt><dd>0.487286099421815</dd><dt>1007</dt><dd>0.490701348960405</dd><dt>1008</dt><dd>0.484402624071869</dd><dt>1009</dt><dd>0.490696276120968</dd><dt>1010</dt><dd>0.511998846261919</dd><dt>1011</dt><dd>0.489515226936648</dd><dt>1012</dt><dd>0.470676122211879</dd><dt>1013</dt><dd>0.474459285611829</dd><dt>1014</dt><dd>0.479958339148108</dd><dt>1015</dt><dd>0.493577529465861</dd><dt>1016</dt><dd>0.503089377118306</dd><dt>1017</dt><dd>0.497880612141404</dd><dt>1018</dt><dd>0.488633086516518</dd></dl>\n"
      ],
      "text/latex": [
       "\\begin{description*}\n",
       "\\item[999] 0.490179249818258\n",
       "\\item[1000] 0.479218499099683\n",
       "\\item[1001] 0.466818479852065\n",
       "\\item[1002] 0.474001069455248\n",
       "\\item[1003] 0.492787663967445\n",
       "\\item[1004] 0.493856154997504\n",
       "\\item[1005] 0.495101564646223\n",
       "\\item[1006] 0.487286099421815\n",
       "\\item[1007] 0.490701348960405\n",
       "\\item[1008] 0.484402624071869\n",
       "\\item[1009] 0.490696276120968\n",
       "\\item[1010] 0.511998846261919\n",
       "\\item[1011] 0.489515226936648\n",
       "\\item[1012] 0.470676122211879\n",
       "\\item[1013] 0.474459285611829\n",
       "\\item[1014] 0.479958339148108\n",
       "\\item[1015] 0.493577529465861\n",
       "\\item[1016] 0.503089377118306\n",
       "\\item[1017] 0.497880612141404\n",
       "\\item[1018] 0.488633086516518\n",
       "\\end{description*}\n"
      ],
      "text/markdown": [
       "999\n",
       ":   0.4901792498182581000\n",
       ":   0.4792184990996831001\n",
       ":   0.4668184798520651002\n",
       ":   0.4740010694552481003\n",
       ":   0.4927876639674451004\n",
       ":   0.4938561549975041005\n",
       ":   0.4951015646462231006\n",
       ":   0.4872860994218151007\n",
       ":   0.4907013489604051008\n",
       ":   0.4844026240718691009\n",
       ":   0.4906962761209681010\n",
       ":   0.5119988462619191011\n",
       ":   0.4895152269366481012\n",
       ":   0.4706761222118791013\n",
       ":   0.4744592856118291014\n",
       ":   0.4799583391481081015\n",
       ":   0.4935775294658611016\n",
       ":   0.5030893771183061017\n",
       ":   0.4978806121414041018\n",
       ":   0.488633086516518\n",
       "\n"
      ],
      "text/plain": [
       "      999      1000      1001      1002      1003      1004      1005      1006 \n",
       "0.4901792 0.4792185 0.4668185 0.4740011 0.4927877 0.4938562 0.4951016 0.4872861 \n",
       "     1007      1008      1009      1010      1011      1012      1013      1014 \n",
       "0.4907013 0.4844026 0.4906963 0.5119988 0.4895152 0.4706761 0.4744593 0.4799583 \n",
       "     1015      1016      1017      1018 \n",
       "0.4935775 0.5030894 0.4978806 0.4886331 "
      ]
     },
     "metadata": {},
     "output_type": "display_data"
    },
    {
     "data": {
      "text/html": [
       "<style>\n",
       ".list-inline {list-style: none; margin:0; padding: 0}\n",
       ".list-inline>li {display: inline-block}\n",
       ".list-inline>li:not(:last-child)::after {content: \"\\00b7\"; padding: 0 .5ex}\n",
       "</style>\n",
       "<ol class=list-inline><li>Up</li><li>Up</li><li>Up</li><li>Up</li><li>Up</li><li>Up</li><li>Up</li><li>Up</li><li>Up</li><li>Up</li><li>Up</li><li>Down</li><li>Up</li><li>Up</li><li>Up</li><li>Up</li><li>Up</li><li>Down</li><li>Up</li><li>Up</li></ol>\n",
       "\n",
       "<details>\n",
       "\t<summary style=display:list-item;cursor:pointer>\n",
       "\t\t<strong>Levels</strong>:\n",
       "\t</summary>\n",
       "\t<style>\n",
       "\t.list-inline {list-style: none; margin:0; padding: 0}\n",
       "\t.list-inline>li {display: inline-block}\n",
       "\t.list-inline>li:not(:last-child)::after {content: \"\\00b7\"; padding: 0 .5ex}\n",
       "\t</style>\n",
       "\t<ol class=list-inline><li>'Down'</li><li>'Up'</li></ol>\n",
       "</details>"
      ],
      "text/latex": [
       "\\begin{enumerate*}\n",
       "\\item Up\n",
       "\\item Up\n",
       "\\item Up\n",
       "\\item Up\n",
       "\\item Up\n",
       "\\item Up\n",
       "\\item Up\n",
       "\\item Up\n",
       "\\item Up\n",
       "\\item Up\n",
       "\\item Up\n",
       "\\item Down\n",
       "\\item Up\n",
       "\\item Up\n",
       "\\item Up\n",
       "\\item Up\n",
       "\\item Up\n",
       "\\item Down\n",
       "\\item Up\n",
       "\\item Up\n",
       "\\end{enumerate*}\n",
       "\n",
       "\\emph{Levels}: \\begin{enumerate*}\n",
       "\\item 'Down'\n",
       "\\item 'Up'\n",
       "\\end{enumerate*}\n"
      ],
      "text/markdown": [
       "1. Up\n",
       "2. Up\n",
       "3. Up\n",
       "4. Up\n",
       "5. Up\n",
       "6. Up\n",
       "7. Up\n",
       "8. Up\n",
       "9. Up\n",
       "10. Up\n",
       "11. Up\n",
       "12. Down\n",
       "13. Up\n",
       "14. Up\n",
       "15. Up\n",
       "16. Up\n",
       "17. Up\n",
       "18. Down\n",
       "19. Up\n",
       "20. Up\n",
       "\n",
       "\n",
       "\n",
       "**Levels**: 1. 'Down'\n",
       "2. 'Up'\n",
       "\n",
       "\n"
      ],
      "text/plain": [
       " [1] Up   Up   Up   Up   Up   Up   Up   Up   Up   Up   Up   Down Up   Up   Up  \n",
       "[16] Up   Up   Down Up   Up  \n",
       "Levels: Down Up"
      ]
     },
     "metadata": {},
     "output_type": "display_data"
    }
   ],
   "source": [
    "lda.pred$posterior[1:20, 1] #사후확률 ... 이거에 근거해서 분류하는거임\n",
    "lda.class[1:20] #근데 인덱스 머선일?"
   ]
  },
  {
   "cell_type": "markdown",
   "id": "d634b820",
   "metadata": {
    "id": "d634b820"
   },
   "source": [
    "If we wanted to use a posterior probability threshold other than $50$\\,\\% in order to make predictions, then we could easily do so. For instance, suppose that we wish to predict a market decrease only if we are very certain that the market will indeed decrease on that day---say, if the posterior probability\n",
    "is at least $90$\\,\\%."
   ]
  },
  {
   "cell_type": "markdown",
   "id": "49fb9bc3-5fa8-44bf-ac2c-4135ccaadf56",
   "metadata": {},
   "source": [
    "#### treshold 조정시 발생하는일... 민감도 0"
   ]
  },
  {
   "cell_type": "code",
   "execution_count": 52,
   "id": "5e4c77ca",
   "metadata": {
    "colab": {
     "base_uri": "https://localhost:8080/",
     "height": 34
    },
    "id": "5e4c77ca",
    "name": "chunk19",
    "outputId": "fa5f30ab-5d32-4a5b-d314-7f71cf5a0b2c"
   },
   "outputs": [
    {
     "data": {
      "text/html": [
       "0"
      ],
      "text/latex": [
       "0"
      ],
      "text/markdown": [
       "0"
      ],
      "text/plain": [
       "[1] 0"
      ]
     },
     "metadata": {},
     "output_type": "display_data"
    }
   ],
   "source": [
    "sum(lda.pred$posterior[, 1] > .9) #threshold를 0.9로... 아무것도 up으로 분로되지 않는다."
   ]
  },
  {
   "cell_type": "markdown",
   "id": "381c1169",
   "metadata": {
    "id": "381c1169"
   },
   "source": [
    "No days in 2005 meet that threshold! In fact, the greatest posterior probability of decrease in all of 2005 was $52.02$\\,\\%.\n",
    "\n",
    "## Quadratic Discriminant Analysis\n",
    "\n",
    "We will now fit a QDA model to the `Smarket` data. QDA is  implemented in `R` using the `qda()` function, which is also part of the `MASS` library. The syntax is identical to that of `lda()`."
   ]
  },
  {
   "cell_type": "markdown",
   "id": "13d64a24-1280-4119-ab08-d5769aa57b3a",
   "metadata": {},
   "source": [
    "#### test data set에 QDA 적합"
   ]
  },
  {
   "cell_type": "code",
   "execution_count": 29,
   "id": "68c27d8a",
   "metadata": {
    "colab": {
     "base_uri": "https://localhost:8080/",
     "height": 213
    },
    "id": "68c27d8a",
    "name": "chunk20",
    "outputId": "be3ae735-d9ad-4552-e713-3d08fe07d227"
   },
   "outputs": [
    {
     "data": {
      "text/plain": [
       "Call:\n",
       "qda(Direction ~ Lag1 + Lag2, data = Smarket, subset = train)\n",
       "\n",
       "Prior probabilities of groups:\n",
       "    Down       Up \n",
       "0.491984 0.508016 \n",
       "\n",
       "Group means:\n",
       "            Lag1        Lag2\n",
       "Down  0.04279022  0.03389409\n",
       "Up   -0.03954635 -0.03132544"
      ]
     },
     "metadata": {},
     "output_type": "display_data"
    }
   ],
   "source": [
    "qda.fit <- qda(Direction ~ Lag1 + Lag2, data = Smarket,\n",
    "    subset = train)    # QDA\n",
    "qda.fit"
   ]
  },
  {
   "cell_type": "markdown",
   "id": "69d1414f",
   "metadata": {
    "id": "69d1414f"
   },
   "source": [
    "The output  contains the group means. But it does not contain the coefficients of the linear discriminants, because the QDA classifier involves  a quadratic, rather than a linear, function of the predictors. The `predict()` function works in exactly the same fashion as for LDA."
   ]
  },
  {
   "cell_type": "markdown",
   "id": "ffb03b17-1e24-4343-9327-554fb88a646b",
   "metadata": {},
   "source": [
    "#### test data set으로 예측 수행, confusion matrix와 정분류율"
   ]
  },
  {
   "cell_type": "code",
   "execution_count": 30,
   "id": "d14bc0ce",
   "metadata": {
    "colab": {
     "base_uri": "https://localhost:8080/",
     "height": 106
    },
    "id": "d14bc0ce",
    "name": "chunk21",
    "outputId": "7768bfe4-f243-4c92-b3db-c8981a95dfa0"
   },
   "outputs": [
    {
     "data": {
      "text/plain": [
       "         Direction.2005\n",
       "qda.class Down  Up\n",
       "     Down   30  20\n",
       "     Up     81 121"
      ]
     },
     "metadata": {},
     "output_type": "display_data"
    },
    {
     "data": {
      "text/html": [
       "0.599206349206349"
      ],
      "text/latex": [
       "0.599206349206349"
      ],
      "text/markdown": [
       "0.599206349206349"
      ],
      "text/plain": [
       "[1] 0.5992063"
      ]
     },
     "metadata": {},
     "output_type": "display_data"
    }
   ],
   "source": [
    "qda.class <- predict(qda.fit, Smarket.2005)$class\n",
    "table(qda.class, Direction.2005)\n",
    "mean(qda.class == Direction.2005)   # 정분류율"
   ]
  },
  {
   "cell_type": "markdown",
   "id": "2ee4b83c",
   "metadata": {
    "id": "2ee4b83c"
   },
   "source": [
    "Interestingly, the QDA predictions are accurate almost $60$\\,\\% of the time, even though the 2005 data was not used  to fit the model. This level of accuracy is quite impressive for stock market data, which is known to be quite hard to model accurately.\n",
    "This  suggests that the quadratic form assumed by QDA may capture the true relationship more accurately than the linear forms assumed by LDA and logistic regression.\n",
    " However, we recommend evaluating this method's performance on a larger test set  before betting  that this approach will consistently beat the market!\n",
    "\n",
    "## Naive Bayes\n",
    "\n",
    "Next, we fit a naive Bayes model to the `Smarket` data. Naive Bayes is implemented in `R` using the `naiveBayes()` function, which is part of the `e1071` library. The syntax is identical to that of `lda()` and `qda()`.\n",
    "By default, this implementation of the naive Bayes classifier models each quantitative feature using a Gaussian distribution. However, a kernel density method can also be used to estimate the distributions."
   ]
  },
  {
   "cell_type": "code",
   "execution_count": null,
   "id": "ead11ec5",
   "metadata": {
    "id": "ead11ec5",
    "name": "chunk22",
    "outputId": "2eed9228-3760-4545-b2da-767e79e846ad"
   },
   "outputs": [
    {
     "data": {
      "text/plain": [
       "\n",
       "Naive Bayes Classifier for Discrete Predictors\n",
       "\n",
       "Call:\n",
       "naiveBayes.default(x = X, y = Y, laplace = laplace)\n",
       "\n",
       "A-priori probabilities:\n",
       "Y\n",
       "    Down       Up \n",
       "0.491984 0.508016 \n",
       "\n",
       "Conditional probabilities:\n",
       "      Lag1\n",
       "Y             [,1]     [,2]\n",
       "  Down  0.04279022 1.227446\n",
       "  Up   -0.03954635 1.231668\n",
       "\n",
       "      Lag2\n",
       "Y             [,1]     [,2]\n",
       "  Down  0.03389409 1.239191\n",
       "  Up   -0.03132544 1.220765\n"
      ]
     },
     "metadata": {},
     "output_type": "display_data"
    }
   ],
   "source": [
    "library(e1071)\n",
    "nb.fit <- naiveBayes(Direction ~ Lag1 + Lag2, data = Smarket,\n",
    "    subset = train)\n",
    "nb.fit"
   ]
  },
  {
   "cell_type": "markdown",
   "id": "b319a3e0",
   "metadata": {
    "id": "b319a3e0"
   },
   "source": [
    "The output  contains the estimated mean and standard deviation for each variable in each class. For example, the mean for `lagone` is $0.0428$ for\n",
    "\n",
    "  `Direction=Down`, and the standard deviation is $1.23$. We can easily verify this:"
   ]
  },
  {
   "cell_type": "code",
   "execution_count": null,
   "id": "521385c2",
   "metadata": {
    "id": "521385c2",
    "name": "chunk23",
    "outputId": "2c7d81e1-485d-4d06-f340-c4f18a5cd3a9"
   },
   "outputs": [
    {
     "data": {
      "text/html": [
       "0.0427902240325866"
      ],
      "text/latex": [
       "0.0427902240325866"
      ],
      "text/markdown": [
       "0.0427902240325866"
      ],
      "text/plain": [
       "[1] 0.04279022"
      ]
     },
     "metadata": {},
     "output_type": "display_data"
    },
    {
     "data": {
      "text/html": [
       "1.22744562820108"
      ],
      "text/latex": [
       "1.22744562820108"
      ],
      "text/markdown": [
       "1.22744562820108"
      ],
      "text/plain": [
       "[1] 1.227446"
      ]
     },
     "metadata": {},
     "output_type": "display_data"
    }
   ],
   "source": [
    "mean(Lag1[train][Direction[train] == \"Down\"])\n",
    "sd(Lag1[train][Direction[train] == \"Down\"])"
   ]
  },
  {
   "cell_type": "markdown",
   "id": "0e84db77",
   "metadata": {
    "id": "0e84db77"
   },
   "source": [
    "The `predict()` function is straightforward."
   ]
  },
  {
   "cell_type": "code",
   "execution_count": null,
   "id": "2604c015",
   "metadata": {
    "id": "2604c015",
    "name": "chunk24",
    "outputId": "8ec77df6-5fcb-4873-8bb0-9168ad6b7829"
   },
   "outputs": [
    {
     "data": {
      "text/plain": [
       "        Direction.2005\n",
       "nb.class Down  Up\n",
       "    Down   28  20\n",
       "    Up     83 121"
      ]
     },
     "metadata": {},
     "output_type": "display_data"
    },
    {
     "data": {
      "text/html": [
       "0.591269841269841"
      ],
      "text/latex": [
       "0.591269841269841"
      ],
      "text/markdown": [
       "0.591269841269841"
      ],
      "text/plain": [
       "[1] 0.5912698"
      ]
     },
     "metadata": {},
     "output_type": "display_data"
    }
   ],
   "source": [
    "nb.class <- predict(nb.fit, Smarket.2005)\n",
    "table(nb.class, Direction.2005)\n",
    "mean(nb.class == Direction.2005)"
   ]
  },
  {
   "cell_type": "markdown",
   "id": "97516daa",
   "metadata": {
    "id": "97516daa"
   },
   "source": [
    "Naive Bayes performs very well on this data, with accurate predictions over $59\\%$ of the time. This is slightly worse than QDA, but much better than LDA.\n",
    "\n",
    "The `predict()` function can also generate estimates of the probability that each observation belongs to a particular class. %"
   ]
  },
  {
   "cell_type": "code",
   "execution_count": null,
   "id": "f2d56a0a",
   "metadata": {
    "id": "f2d56a0a",
    "lines_to_next_cell": 2,
    "name": "chunk25",
    "outputId": "1095c177-a71f-4e28-983d-7a12eaecc887"
   },
   "outputs": [
    {
     "data": {
      "text/html": [
       "<table class=\"dataframe\">\n",
       "<caption>A matrix: 5 × 2 of type dbl</caption>\n",
       "<thead>\n",
       "\t<tr><th scope=col>Down</th><th scope=col>Up</th></tr>\n",
       "</thead>\n",
       "<tbody>\n",
       "\t<tr><td>0.4873164</td><td>0.5126836</td></tr>\n",
       "\t<tr><td>0.4762492</td><td>0.5237508</td></tr>\n",
       "\t<tr><td>0.4653377</td><td>0.5346623</td></tr>\n",
       "\t<tr><td>0.4748652</td><td>0.5251348</td></tr>\n",
       "\t<tr><td>0.4901890</td><td>0.5098110</td></tr>\n",
       "</tbody>\n",
       "</table>\n"
      ],
      "text/latex": [
       "A matrix: 5 × 2 of type dbl\n",
       "\\begin{tabular}{ll}\n",
       " Down & Up\\\\\n",
       "\\hline\n",
       "\t 0.4873164 & 0.5126836\\\\\n",
       "\t 0.4762492 & 0.5237508\\\\\n",
       "\t 0.4653377 & 0.5346623\\\\\n",
       "\t 0.4748652 & 0.5251348\\\\\n",
       "\t 0.4901890 & 0.5098110\\\\\n",
       "\\end{tabular}\n"
      ],
      "text/markdown": [
       "\n",
       "A matrix: 5 × 2 of type dbl\n",
       "\n",
       "| Down | Up |\n",
       "|---|---|\n",
       "| 0.4873164 | 0.5126836 |\n",
       "| 0.4762492 | 0.5237508 |\n",
       "| 0.4653377 | 0.5346623 |\n",
       "| 0.4748652 | 0.5251348 |\n",
       "| 0.4901890 | 0.5098110 |\n",
       "\n"
      ],
      "text/plain": [
       "     Down      Up       \n",
       "[1,] 0.4873164 0.5126836\n",
       "[2,] 0.4762492 0.5237508\n",
       "[3,] 0.4653377 0.5346623\n",
       "[4,] 0.4748652 0.5251348\n",
       "[5,] 0.4901890 0.5098110"
      ]
     },
     "metadata": {},
     "output_type": "display_data"
    }
   ],
   "source": [
    "nb.preds <- predict(nb.fit, Smarket.2005, type = \"raw\")\n",
    "nb.preds[1:5, ]"
   ]
  },
  {
   "cell_type": "markdown",
   "id": "b03ffb10",
   "metadata": {
    "id": "b03ffb10"
   },
   "source": [
    "## $K$-Nearest Neighbors\n",
    "\n",
    "We will now perform KNN using the `knn()` function, which is part of the `class` library. This function works rather differently from the other model-fitting functions that we have encountered thus far.\n",
    "Rather than a two-step approach  in which we first fit the model and then we use the model to make predictions, `knn()` forms predictions using a single command. The function requires four inputs.\n",
    "\n",
    "* A matrix containing the predictors associated with the training data, labeled `train.X` below.\n",
    "* A matrix containing the predictors associated with the data for which we wish to make predictions, labeled `test.X` below.\n",
    "* A vector containing the class labels for the training observations, labeled `train.Direction` below.\n",
    "* A value for $K$, the number of nearest neighbors to be used by the classifier.\n",
    "\n",
    "We use the `cbind()` function, short for *column bind*, to bind the `lagone` and `lagtwo` variables together into two matrices, one for the training set and the other for the test set."
   ]
  },
  {
   "cell_type": "markdown",
   "id": "15b86fea-d06c-44a9-9753-ae59df4b023e",
   "metadata": {},
   "source": [
    "#### KNN 적합"
   ]
  },
  {
   "cell_type": "code",
   "execution_count": 62,
   "id": "c0d172fa",
   "metadata": {
    "id": "c0d172fa",
    "name": "chunk26"
   },
   "outputs": [],
   "source": [
    "#데이터를 쌍으로 묶는 행위중이군..\n",
    "library(class)\n",
    "train.X <- cbind(Lag1, Lag2)[train, ]\n",
    "test.X <- cbind(Lag1, Lag2)[!train, ]\n",
    "train.Direction <- Direction[train] #훈련자료의 Label에 해당하는 값"
   ]
  },
  {
   "cell_type": "markdown",
   "id": "2d745da5",
   "metadata": {
    "id": "2d745da5"
   },
   "source": [
    "Now the `knn()` function can be used to predict the market's movement for the dates in 2005. We set a random seed before we apply `knn()` because if several observations are tied as nearest neighbors, then `R` will randomly break the tie. Therefore, a seed must be set in order to ensure reproducibility of results."
   ]
  },
  {
   "cell_type": "markdown",
   "id": "e0b78b79-09f8-42ae-9ef0-5cc08ddf46b2",
   "metadata": {},
   "source": [
    "#### K 변경에 따른 정분류율과 Confusion matrix"
   ]
  },
  {
   "cell_type": "code",
   "execution_count": 63,
   "id": "118c57a9",
   "metadata": {
    "colab": {
     "base_uri": "https://localhost:8080/",
     "height": 106
    },
    "id": "118c57a9",
    "name": "chunk27",
    "outputId": "c1dd6ce6-2ccc-464d-c71b-0657dfa4904b"
   },
   "outputs": [
    {
     "data": {
      "text/plain": [
       "        Direction.2005\n",
       "knn.pred Down Up\n",
       "    Down   43 58\n",
       "    Up     68 83"
      ]
     },
     "metadata": {},
     "output_type": "display_data"
    },
    {
     "data": {
      "text/html": [
       "0.5"
      ],
      "text/latex": [
       "0.5"
      ],
      "text/markdown": [
       "0.5"
      ],
      "text/plain": [
       "[1] 0.5"
      ]
     },
     "metadata": {},
     "output_type": "display_data"
    }
   ],
   "source": [
    "set.seed(1)   # NN의 동점자를 제어하기 위한 seed\n",
    "knn.pred <- knn(train.X, test.X, train.Direction, k = 1)  # K=1\n",
    "table(knn.pred, Direction.2005)\n",
    "(83 + 43) / 252     # 정분류율"
   ]
  },
  {
   "cell_type": "markdown",
   "id": "4c3457a7",
   "metadata": {
    "id": "4c3457a7"
   },
   "source": [
    "The results using $K=1$ are not very good,  since only $50$\\,\\% of the observations are correctly predicted. Of course, it may be that $K=1$ results in  an overly flexible fit to the data. Below, we repeat the analysis using $K=3$."
   ]
  },
  {
   "cell_type": "markdown",
   "id": "675a6292-d9c0-4e1d-9e1f-d7a419255291",
   "metadata": {},
   "source": [
    "#### K = 3 일 때 confusion matrix와 정분류율"
   ]
  },
  {
   "cell_type": "code",
   "execution_count": 66,
   "id": "3e0855c5",
   "metadata": {
    "colab": {
     "base_uri": "https://localhost:8080/",
     "height": 106
    },
    "id": "3e0855c5",
    "name": "chunk28",
    "outputId": "6071ce3e-27b2-4f52-ab3f-e43f63d29437"
   },
   "outputs": [
    {
     "data": {
      "text/plain": [
       "        Direction.2005\n",
       "knn.pred Down Up\n",
       "    Down   48 54\n",
       "    Up     63 87"
      ]
     },
     "metadata": {},
     "output_type": "display_data"
    },
    {
     "data": {
      "text/html": [
       "0.535714285714286"
      ],
      "text/latex": [
       "0.535714285714286"
      ],
      "text/markdown": [
       "0.535714285714286"
      ],
      "text/plain": [
       "[1] 0.5357143"
      ]
     },
     "metadata": {},
     "output_type": "display_data"
    }
   ],
   "source": [
    "knn.pred <- knn(train.X, test.X, train.Direction, k = 3)  # K=3\n",
    "table(knn.pred, Direction.2005)\n",
    "mean(knn.pred == Direction.2005)   # 정분류율"
   ]
  },
  {
   "cell_type": "markdown",
   "id": "382f603c",
   "metadata": {
    "id": "382f603c"
   },
   "source": [
    "The results have improved slightly. But increasing $K$ further turns out to provide no further improvements. It appears that for this data, QDA provides the best results of the methods that we have examined so far.\n",
    "\n"
   ]
  },
  {
   "cell_type": "markdown",
   "id": "5ae75ebd",
   "metadata": {
    "id": "5ae75ebd"
   },
   "source": [
    "KNN does not perform well on the `Smarket` data but it does often provide impressive results. As an example we will apply the KNN approach to the `Insurance` data set, which is part of the `ISLR2` library. This data set includes $85$ predictors that measure\n",
    " demographic characteristics for 5,822 individuals. The response variable is `Purchase`, which indicates whether or not a given individual purchases a caravan insurance policy. In this data set, only $6$\\,\\% of people purchased caravan  insurance.\n"
   ]
  },
  {
   "cell_type": "markdown",
   "id": "f771a5e0-ef03-41a1-8551-20b22665beaa",
   "metadata": {},
   "source": [
    "#### 또 다른 데이터에 대한 분류!"
   ]
  },
  {
   "cell_type": "code",
   "execution_count": 68,
   "id": "afcd32ca",
   "metadata": {
    "id": "afcd32ca",
    "name": "chunk29",
    "outputId": "d68ca156-be7d-42d5-dee4-3435ee71207e"
   },
   "outputs": [
    {
     "data": {
      "text/html": [
       "<style>\n",
       ".list-inline {list-style: none; margin:0; padding: 0}\n",
       ".list-inline>li {display: inline-block}\n",
       ".list-inline>li:not(:last-child)::after {content: \"\\00b7\"; padding: 0 .5ex}\n",
       "</style>\n",
       "<ol class=list-inline><li>5822</li><li>86</li></ol>\n"
      ],
      "text/latex": [
       "\\begin{enumerate*}\n",
       "\\item 5822\n",
       "\\item 86\n",
       "\\end{enumerate*}\n"
      ],
      "text/markdown": [
       "1. 5822\n",
       "2. 86\n",
       "\n",
       "\n"
      ],
      "text/plain": [
       "[1] 5822   86"
      ]
     },
     "metadata": {},
     "output_type": "display_data"
    },
    {
     "data": {
      "text/html": [
       "<style>\n",
       ".dl-inline {width: auto; margin:0; padding: 0}\n",
       ".dl-inline>dt, .dl-inline>dd {float: none; width: auto; display: inline-block}\n",
       ".dl-inline>dt::after {content: \":\\0020\"; padding-right: .5ex}\n",
       ".dl-inline>dt:not(:first-of-type) {padding-left: .5ex}\n",
       "</style><dl class=dl-inline><dt>No</dt><dd>5474</dd><dt>Yes</dt><dd>348</dd></dl>\n"
      ],
      "text/latex": [
       "\\begin{description*}\n",
       "\\item[No] 5474\n",
       "\\item[Yes] 348\n",
       "\\end{description*}\n"
      ],
      "text/markdown": [
       "No\n",
       ":   5474Yes\n",
       ":   348\n",
       "\n"
      ],
      "text/plain": [
       "  No  Yes \n",
       "5474  348 "
      ]
     },
     "metadata": {},
     "output_type": "display_data"
    },
    {
     "data": {
      "text/html": [
       "0.0597732737890759"
      ],
      "text/latex": [
       "0.0597732737890759"
      ],
      "text/markdown": [
       "0.0597732737890759"
      ],
      "text/plain": [
       "[1] 0.05977327"
      ]
     },
     "metadata": {},
     "output_type": "display_data"
    }
   ],
   "source": [
    "dim(Caravan)\n",
    "attach(Caravan)\n",
    "summary(Purchase)\n",
    "348 / 5822"
   ]
  },
  {
   "cell_type": "markdown",
   "id": "a08d1df1",
   "metadata": {
    "id": "a08d1df1"
   },
   "source": [
    "Because the KNN classifier predicts the class of a given test observation by identifying the observations that are nearest to it, the scale of the variables matters. Variables that are on a large scale will have a much larger effect\n",
    " on the *distance* between the observations, and hence\n",
    "on the KNN classifier, than variables that are on a small scale. For instance, imagine a data set that contains two variables, `salary` and `age` (measured in dollars and years, respectively). As far as KNN is concerned, a difference of 1,000 dollors in salary is enormous compared to a difference of 50(and over) years in age. Consequently, `salary` will drive the KNN classification results, and `age` will have almost no effect. This is contrary to our intuition  that a salary difference of 1,000 dollors is quite small compared to an age difference of 50~years.\n",
    "Furthermore, the importance of scale to the KNN classifier leads to another issue: if we measured `salary` in Japanese yen, or if we measured `age` in minutes, then we'd get quite different classification results from what we get\n",
    " if these two variables are measured in dollars and years."
   ]
  },
  {
   "cell_type": "markdown",
   "id": "8fbf6317",
   "metadata": {
    "id": "8fbf6317"
   },
   "source": [
    "A good way to handle this problem is to  the data so that all variables are given a mean of  zero and  a standard deviation of one. Then all variables will be on a comparable scale. The `scale()` function does just this.\n",
    " In standardizing the data, we exclude column $86$, because that is the qualitative `Purchase` variable."
   ]
  },
  {
   "cell_type": "markdown",
   "id": "6cb36e8e-24ea-4e87-b8ee-c042f09a4d81",
   "metadata": {},
   "source": [
    "#### 표준화.. KNN은 거리 기반 알고리즘이기 떄문에 표준화를 시켜줘야한다."
   ]
  },
  {
   "cell_type": "code",
   "execution_count": 72,
   "id": "b6a0e219",
   "metadata": {
    "id": "b6a0e219",
    "name": "chunk30",
    "outputId": "0ae2891b-153f-46a0-fd87-c1769f4550f5"
   },
   "outputs": [
    {
     "data": {
      "text/html": [
       "165.037847395189"
      ],
      "text/latex": [
       "165.037847395189"
      ],
      "text/markdown": [
       "165.037847395189"
      ],
      "text/plain": [
       "[1] 165.0378"
      ]
     },
     "metadata": {},
     "output_type": "display_data"
    },
    {
     "data": {
      "text/html": [
       "0.164707781931954"
      ],
      "text/latex": [
       "0.164707781931954"
      ],
      "text/markdown": [
       "0.164707781931954"
      ],
      "text/plain": [
       "[1] 0.1647078"
      ]
     },
     "metadata": {},
     "output_type": "display_data"
    },
    {
     "data": {
      "text/html": [
       "1"
      ],
      "text/latex": [
       "1"
      ],
      "text/markdown": [
       "1"
      ],
      "text/plain": [
       "[1] 1"
      ]
     },
     "metadata": {},
     "output_type": "display_data"
    },
    {
     "data": {
      "text/html": [
       "1"
      ],
      "text/latex": [
       "1"
      ],
      "text/markdown": [
       "1"
      ],
      "text/plain": [
       "[1] 1"
      ]
     },
     "metadata": {},
     "output_type": "display_data"
    }
   ],
   "source": [
    "standardized.X <- scale(Caravan[, -86])\n",
    "var(Caravan[, 1])\n",
    "var(Caravan[, 2])\n",
    "var(standardized.X[, 1])\n",
    "var(standardized.X[, 2])"
   ]
  },
  {
   "cell_type": "markdown",
   "id": "894fe0ed",
   "metadata": {
    "id": "894fe0ed"
   },
   "source": [
    "Now every column of `standardized.X` has a standard deviation of one and a mean of zero.\n",
    "\n",
    "We now split the observations into a test set, containing the first 1,000 observations, and a training set, containing the remaining observations.\n",
    "We fit  a KNN model on the training data using $K=1$, and evaluate its performance on the test data.%"
   ]
  },
  {
   "cell_type": "code",
   "execution_count": 76,
   "id": "b27e1925",
   "metadata": {
    "id": "b27e1925",
    "name": "chunk31",
    "outputId": "69d4c027-5234-4b53-82ba-2ba2f3a67ab6"
   },
   "outputs": [
    {
     "data": {
      "text/html": [
       "0.118"
      ],
      "text/latex": [
       "0.118"
      ],
      "text/markdown": [
       "0.118"
      ],
      "text/plain": [
       "[1] 0.118"
      ]
     },
     "metadata": {},
     "output_type": "display_data"
    },
    {
     "data": {
      "text/html": [
       "0.059"
      ],
      "text/latex": [
       "0.059"
      ],
      "text/markdown": [
       "0.059"
      ],
      "text/plain": [
       "[1] 0.059"
      ]
     },
     "metadata": {},
     "output_type": "display_data"
    }
   ],
   "source": [
    "test <- 1:1000\n",
    "train.X <- standardized.X[-test, ] #test 만큼을 제외한 것.. 처음 1000개가 테스트\n",
    "test.X <- standardized.X[test, ]\n",
    "train.Y <- Purchase[-test]\n",
    "test.Y <- Purchase[test]\n",
    "set.seed(1)\n",
    "knn.pred <- knn(train.X, test.X, train.Y, k = 1)\n",
    "mean(test.Y != knn.pred) #오분류율\n",
    "mean(test.Y != \"No\") #Yes인 비율"
   ]
  },
  {
   "cell_type": "code",
   "execution_count": 77,
   "id": "8f17a6fb-1bc5-4a63-9e48-2da58372a6e2",
   "metadata": {},
   "outputs": [],
   "source": [
    "# 그냥 싹 다 Yes 로 분류해도 KNN, k =1 보다 오분류율 낮음 ㅋㅋ"
   ]
  },
  {
   "cell_type": "markdown",
   "id": "a6d595be",
   "metadata": {
    "id": "a6d595be"
   },
   "source": [
    "The vector `test` is numeric, with values\n",
    "from  $1$ through $1,000$. Typing `standardized.X[test, ]` yields the submatrix of the data containing the observations whose indices range from $1$ to $1,000$, whereas typing\n",
    "\n",
    "`standardized.X[-test, ]` yields the submatrix containing the observations whose indices do\n",
    "*not* range from $1$ to $1,000$.\n",
    "The KNN error rate on the 1,000 test observations is just under $12$\\,\\%. At first glance, this may appear to be fairly good. However, since only $6$\\,\\% of customers purchased insurance, we could get the error rate down to $6$\\,\\% by always predicting `No` regardless of\n",
    "the values of the predictors!\n",
    "\n",
    "Suppose that there is some non-trivial cost to trying to sell insurance to a given individual. For instance, perhaps a salesperson must  visit each potential customer.\n",
    "If the company tries to sell insurance to a random selection of customers, then the success rate will be only $6$\\,\\%, which may be far too low given the costs involved.\n",
    "Instead, the company would like to try to sell insurance only to customers who are likely to buy it. So the  overall error rate is not of interest. Instead,  the fraction of individuals that are correctly predicted to buy insurance is of interest.\n",
    "\n",
    " It turns out that KNN with $K=1$ does far better than random guessing among the customers that are predicted to buy insurance. Among  $77$ such customers, $9$, or $11.7$\\,\\%, actually do purchase insurance.\n",
    " This is  double the rate that one would obtain from random guessing."
   ]
  },
  {
   "cell_type": "code",
   "execution_count": 79,
   "id": "5d03f2a6",
   "metadata": {
    "id": "5d03f2a6",
    "name": "chunk32",
    "outputId": "01e3b077-bd52-4a09-864d-0e168b71f58c"
   },
   "outputs": [
    {
     "data": {
      "text/plain": [
       "        test.Y\n",
       "knn.pred  No Yes\n",
       "     No  873  50\n",
       "     Yes  68   9"
      ]
     },
     "metadata": {},
     "output_type": "display_data"
    },
    {
     "data": {
      "text/html": [
       "0.116883116883117"
      ],
      "text/latex": [
       "0.116883116883117"
      ],
      "text/markdown": [
       "0.116883116883117"
      ],
      "text/plain": [
       "[1] 0.1168831"
      ]
     },
     "metadata": {},
     "output_type": "display_data"
    }
   ],
   "source": [
    "table(knn.pred, test.Y)\n",
    "9 / (68 + 9) #예측 한 것 들중에 맞을 확률 precision 이던가"
   ]
  },
  {
   "cell_type": "markdown",
   "id": "dba58e81",
   "metadata": {
    "id": "dba58e81"
   },
   "source": [
    "Using $K=3$, the success rate increases to $19$\\,\\%, and with $K=5$ the rate is $26.7$\\,\\%. This is  over four times the rate that results from random guessing. It appears that KNN is finding some real patterns in a difficult data set!"
   ]
  },
  {
   "cell_type": "markdown",
   "id": "971cb19c-da6f-43b7-9b7d-6769b13291ee",
   "metadata": {},
   "source": [
    "#### KNN에서 K 를 바꿔가면서 분류한 결과"
   ]
  },
  {
   "cell_type": "code",
   "execution_count": 82,
   "id": "81385dcb",
   "metadata": {
    "id": "81385dcb",
    "name": "chunk33",
    "outputId": "7d77bf6b-604c-439f-fce0-a97c7416877a"
   },
   "outputs": [
    {
     "data": {
      "text/plain": [
       "        test.Y\n",
       "knn.pred  No Yes\n",
       "     No  922  54\n",
       "     Yes  19   5"
      ]
     },
     "metadata": {},
     "output_type": "display_data"
    },
    {
     "data": {
      "text/html": [
       "0.192307692307692"
      ],
      "text/latex": [
       "0.192307692307692"
      ],
      "text/markdown": [
       "0.192307692307692"
      ],
      "text/plain": [
       "[1] 0.1923077"
      ]
     },
     "metadata": {},
     "output_type": "display_data"
    },
    {
     "data": {
      "text/plain": [
       "        test.Y\n",
       "knn.pred  No Yes\n",
       "     No  930  55\n",
       "     Yes  11   4"
      ]
     },
     "metadata": {},
     "output_type": "display_data"
    },
    {
     "data": {
      "text/html": [
       "0.266666666666667"
      ],
      "text/latex": [
       "0.266666666666667"
      ],
      "text/markdown": [
       "0.266666666666667"
      ],
      "text/plain": [
       "[1] 0.2666667"
      ]
     },
     "metadata": {},
     "output_type": "display_data"
    }
   ],
   "source": [
    "knn.pred <- knn(train.X, test.X, train.Y, k = 3)\n",
    "table(knn.pred, test.Y)\n",
    "5 / 26\n",
    "knn.pred <- knn(train.X, test.X, train.Y, k = 5)\n",
    "table(knn.pred, test.Y)\n",
    "4 / 15"
   ]
  },
  {
   "cell_type": "markdown",
   "id": "38458bcd",
   "metadata": {
    "id": "38458bcd"
   },
   "source": [
    "However, while this strategy is cost-effective, it is worth noting that only 15 customers are predicted to purchase insurance using KNN with $K=5$. In practice, the insurance company may wish to expend resources on convincing more than just 15 potential customers to buy insurance.\n",
    "\n",
    "As a comparison, we can also fit a logistic regression model to the data. If we use $0.5$ as the predicted probability cut-off for the classifier, then we have a problem: only seven of the test observations are predicted to purchase insurance. Even worse, we are wrong about all of these!\n",
    " However, we are not required to use a cut-off of  $0.5$. If we instead predict a purchase any time the predicted probability of purchase exceeds  $0.25$, we get much better results: we predict that 33 people will purchase insurance, and\n",
    " we are correct for about $33$\\,\\% of these people. This is  over five times better than random guessing!"
   ]
  },
  {
   "cell_type": "markdown",
   "id": "d867702b-3d57-48ab-b64e-8ecffd0f1aa1",
   "metadata": {},
   "source": [
    "#### 갑분 로지스틱.. 비교를 하려는 의도겠지"
   ]
  },
  {
   "cell_type": "code",
   "execution_count": 83,
   "id": "c93625b8",
   "metadata": {
    "id": "c93625b8",
    "lines_to_next_cell": 0,
    "name": "chunk34",
    "outputId": "8312c17b-c613-4fc0-b83f-f9fbf13b2b29"
   },
   "outputs": [
    {
     "name": "stderr",
     "output_type": "stream",
     "text": [
      "Warning message:\n",
      "\"glm.fit: fitted probabilities numerically 0 or 1 occurred\"\n"
     ]
    },
    {
     "data": {
      "text/plain": [
       "        test.Y\n",
       "glm.pred  No Yes\n",
       "     No  934  59\n",
       "     Yes   7   0"
      ]
     },
     "metadata": {},
     "output_type": "display_data"
    },
    {
     "data": {
      "text/plain": [
       "        test.Y\n",
       "glm.pred  No Yes\n",
       "     No  919  48\n",
       "     Yes  22  11"
      ]
     },
     "metadata": {},
     "output_type": "display_data"
    },
    {
     "data": {
      "text/html": [
       "0.333333333333333"
      ],
      "text/latex": [
       "0.333333333333333"
      ],
      "text/markdown": [
       "0.333333333333333"
      ],
      "text/plain": [
       "[1] 0.3333333"
      ]
     },
     "metadata": {},
     "output_type": "display_data"
    }
   ],
   "source": [
    "glm.fits <- glm(Purchase ~ ., data = Caravan,\n",
    "    family = binomial, subset = -test)\n",
    "glm.probs <- predict(glm.fits, Caravan[test, ],\n",
    "    type = \"response\")\n",
    "glm.pred <- rep(\"No\", 1000)\n",
    "glm.pred[glm.probs > .5] <- \"Yes\"\n",
    "table(glm.pred, test.Y)\n",
    "glm.pred <- rep(\"No\", 1000)\n",
    "glm.pred[glm.probs > .25] <- \"Yes\"\n",
    "table(glm.pred, test.Y)\n",
    "11 / (22 + 11)"
   ]
  },
  {
   "cell_type": "markdown",
   "id": "33007a99",
   "metadata": {
    "id": "33007a99"
   },
   "source": [
    "## Poisson Regression\n",
    "\n",
    "Finally, we fit a  Poisson regression model to the `Bikeshare` data set, which measures the number of bike rentals (`bikers`) per hour in Washington, DC. The data can be found in the `ISLR2` library.\n"
   ]
  },
  {
   "cell_type": "code",
   "execution_count": null,
   "id": "8c2b1aa3",
   "metadata": {
    "id": "8c2b1aa3",
    "lines_to_next_cell": 2,
    "name": "chunk35",
    "outputId": "22489271-0e31-470f-aafa-b06a8468f7c4"
   },
   "outputs": [
    {
     "data": {
      "text/html": [
       "<style>\n",
       ".list-inline {list-style: none; margin:0; padding: 0}\n",
       ".list-inline>li {display: inline-block}\n",
       ".list-inline>li:not(:last-child)::after {content: \"\\00b7\"; padding: 0 .5ex}\n",
       "</style>\n",
       "<ol class=list-inline><li>8645</li><li>15</li></ol>\n"
      ],
      "text/latex": [
       "\\begin{enumerate*}\n",
       "\\item 8645\n",
       "\\item 15\n",
       "\\end{enumerate*}\n"
      ],
      "text/markdown": [
       "1. 8645\n",
       "2. 15\n",
       "\n",
       "\n"
      ],
      "text/plain": [
       "[1] 8645   15"
      ]
     },
     "metadata": {},
     "output_type": "display_data"
    },
    {
     "data": {
      "text/html": [
       "<style>\n",
       ".list-inline {list-style: none; margin:0; padding: 0}\n",
       ".list-inline>li {display: inline-block}\n",
       ".list-inline>li:not(:last-child)::after {content: \"\\00b7\"; padding: 0 .5ex}\n",
       "</style>\n",
       "<ol class=list-inline><li>'season'</li><li>'mnth'</li><li>'day'</li><li>'hr'</li><li>'holiday'</li><li>'weekday'</li><li>'workingday'</li><li>'weathersit'</li><li>'temp'</li><li>'atemp'</li><li>'hum'</li><li>'windspeed'</li><li>'casual'</li><li>'registered'</li><li>'bikers'</li></ol>\n"
      ],
      "text/latex": [
       "\\begin{enumerate*}\n",
       "\\item 'season'\n",
       "\\item 'mnth'\n",
       "\\item 'day'\n",
       "\\item 'hr'\n",
       "\\item 'holiday'\n",
       "\\item 'weekday'\n",
       "\\item 'workingday'\n",
       "\\item 'weathersit'\n",
       "\\item 'temp'\n",
       "\\item 'atemp'\n",
       "\\item 'hum'\n",
       "\\item 'windspeed'\n",
       "\\item 'casual'\n",
       "\\item 'registered'\n",
       "\\item 'bikers'\n",
       "\\end{enumerate*}\n"
      ],
      "text/markdown": [
       "1. 'season'\n",
       "2. 'mnth'\n",
       "3. 'day'\n",
       "4. 'hr'\n",
       "5. 'holiday'\n",
       "6. 'weekday'\n",
       "7. 'workingday'\n",
       "8. 'weathersit'\n",
       "9. 'temp'\n",
       "10. 'atemp'\n",
       "11. 'hum'\n",
       "12. 'windspeed'\n",
       "13. 'casual'\n",
       "14. 'registered'\n",
       "15. 'bikers'\n",
       "\n",
       "\n"
      ],
      "text/plain": [
       " [1] \"season\"     \"mnth\"       \"day\"        \"hr\"         \"holiday\"   \n",
       " [6] \"weekday\"    \"workingday\" \"weathersit\" \"temp\"       \"atemp\"     \n",
       "[11] \"hum\"        \"windspeed\"  \"casual\"     \"registered\" \"bikers\"    "
      ]
     },
     "metadata": {},
     "output_type": "display_data"
    }
   ],
   "source": [
    "attach(Bikeshare)\n",
    "dim(Bikeshare)\n",
    "names(Bikeshare)"
   ]
  },
  {
   "cell_type": "markdown",
   "id": "50417ba7",
   "metadata": {
    "id": "50417ba7"
   },
   "source": [
    "We begin by fitting a least squares linear regression model to the data."
   ]
  },
  {
   "cell_type": "code",
   "execution_count": null,
   "id": "4d55de40",
   "metadata": {
    "id": "4d55de40",
    "name": "chunk36",
    "outputId": "0fa68007-bea7-4115-b6cc-c9855d41b389"
   },
   "outputs": [
    {
     "data": {
      "text/plain": [
       "\n",
       "Call:\n",
       "lm(formula = bikers ~ mnth + hr + workingday + temp + weathersit, \n",
       "    data = Bikeshare)\n",
       "\n",
       "Residuals:\n",
       "    Min      1Q  Median      3Q     Max \n",
       "-299.00  -45.70   -6.23   41.08  425.29 \n",
       "\n",
       "Coefficients:\n",
       "                          Estimate Std. Error t value Pr(>|t|)    \n",
       "(Intercept)                -68.632      5.307 -12.932  < 2e-16 ***\n",
       "mnthFeb                      6.845      4.287   1.597 0.110398    \n",
       "mnthMarch                   16.551      4.301   3.848 0.000120 ***\n",
       "mnthApril                   41.425      4.972   8.331  < 2e-16 ***\n",
       "mnthMay                     72.557      5.641  12.862  < 2e-16 ***\n",
       "mnthJune                    67.819      6.544  10.364  < 2e-16 ***\n",
       "mnthJuly                    45.324      7.081   6.401 1.63e-10 ***\n",
       "mnthAug                     53.243      6.640   8.019 1.21e-15 ***\n",
       "mnthSept                    66.678      5.925  11.254  < 2e-16 ***\n",
       "mnthOct                     75.834      4.950  15.319  < 2e-16 ***\n",
       "mnthNov                     60.310      4.610  13.083  < 2e-16 ***\n",
       "mnthDec                     46.458      4.271  10.878  < 2e-16 ***\n",
       "hr1                        -14.579      5.699  -2.558 0.010536 *  \n",
       "hr2                        -21.579      5.733  -3.764 0.000168 ***\n",
       "hr3                        -31.141      5.778  -5.389 7.26e-08 ***\n",
       "hr4                        -36.908      5.802  -6.361 2.11e-10 ***\n",
       "hr5                        -24.135      5.737  -4.207 2.61e-05 ***\n",
       "hr6                         20.600      5.704   3.612 0.000306 ***\n",
       "hr7                        120.093      5.693  21.095  < 2e-16 ***\n",
       "hr8                        223.662      5.690  39.310  < 2e-16 ***\n",
       "hr9                        120.582      5.693  21.182  < 2e-16 ***\n",
       "hr10                        83.801      5.705  14.689  < 2e-16 ***\n",
       "hr11                       105.423      5.722  18.424  < 2e-16 ***\n",
       "hr12                       137.284      5.740  23.916  < 2e-16 ***\n",
       "hr13                       136.036      5.760  23.617  < 2e-16 ***\n",
       "hr14                       126.636      5.776  21.923  < 2e-16 ***\n",
       "hr15                       132.087      5.780  22.852  < 2e-16 ***\n",
       "hr16                       178.521      5.772  30.927  < 2e-16 ***\n",
       "hr17                       296.267      5.749  51.537  < 2e-16 ***\n",
       "hr18                       269.441      5.736  46.976  < 2e-16 ***\n",
       "hr19                       186.256      5.714  32.596  < 2e-16 ***\n",
       "hr20                       125.549      5.704  22.012  < 2e-16 ***\n",
       "hr21                        87.554      5.693  15.378  < 2e-16 ***\n",
       "hr22                        59.123      5.689  10.392  < 2e-16 ***\n",
       "hr23                        26.838      5.688   4.719 2.41e-06 ***\n",
       "workingday                   1.270      1.784   0.711 0.476810    \n",
       "temp                       157.209     10.261  15.321  < 2e-16 ***\n",
       "weathersitcloudy/misty     -12.890      1.964  -6.562 5.60e-11 ***\n",
       "weathersitlight rain/snow  -66.494      2.965 -22.425  < 2e-16 ***\n",
       "weathersitheavy rain/snow -109.745     76.667  -1.431 0.152341    \n",
       "---\n",
       "Signif. codes:  0 ‘***’ 0.001 ‘**’ 0.01 ‘*’ 0.05 ‘.’ 0.1 ‘ ’ 1\n",
       "\n",
       "Residual standard error: 76.5 on 8605 degrees of freedom\n",
       "Multiple R-squared:  0.6745,\tAdjusted R-squared:  0.6731 \n",
       "F-statistic: 457.3 on 39 and 8605 DF,  p-value: < 2.2e-16\n"
      ]
     },
     "metadata": {},
     "output_type": "display_data"
    }
   ],
   "source": [
    "mod.lm <- lm(\n",
    "    bikers ~ mnth + hr + workingday + temp + weathersit,\n",
    "    data = Bikeshare\n",
    "  )\n",
    "summary(mod.lm)"
   ]
  },
  {
   "cell_type": "markdown",
   "id": "36dd3ac9",
   "metadata": {
    "id": "36dd3ac9"
   },
   "source": [
    "Due to space constraints, we truncate the output of `summary(mod.lm)`.\n",
    "In `mod.lm`, the first level of `hr` (0) and `mnth` (Jan) are treated as the baseline values, and so no coefficient estimates are provided for them: implicitly, their coefficient estimates are zero, and all other levels are measured relative to these baselines. For example, the Feb coefficient of $6.845$ signifies that, holding all other variables constant, there are on average about 7 more riders in February than in January. Similarly there are about 16.5 more riders in March than in January.\n",
    "\n",
    "The results seen in Section 4.6.1 used a slightly different coding of the variables `hr` and `mnth`, as follows:"
   ]
  },
  {
   "cell_type": "code",
   "execution_count": null,
   "id": "143aa4a9",
   "metadata": {
    "id": "143aa4a9",
    "name": "chunk37",
    "outputId": "159804fc-44e6-45f2-bb08-cb4dfba4f17d"
   },
   "outputs": [
    {
     "data": {
      "text/plain": [
       "\n",
       "Call:\n",
       "lm(formula = bikers ~ mnth + hr + workingday + temp + weathersit, \n",
       "    data = Bikeshare)\n",
       "\n",
       "Residuals:\n",
       "    Min      1Q  Median      3Q     Max \n",
       "-299.00  -45.70   -6.23   41.08  425.29 \n",
       "\n",
       "Coefficients:\n",
       "                           Estimate Std. Error t value Pr(>|t|)    \n",
       "(Intercept)                 73.5974     5.1322  14.340  < 2e-16 ***\n",
       "mnth1                      -46.0871     4.0855 -11.281  < 2e-16 ***\n",
       "mnth2                      -39.2419     3.5391 -11.088  < 2e-16 ***\n",
       "mnth3                      -29.5357     3.1552  -9.361  < 2e-16 ***\n",
       "mnth4                       -4.6622     2.7406  -1.701  0.08895 .  \n",
       "mnth5                       26.4700     2.8508   9.285  < 2e-16 ***\n",
       "mnth6                       21.7317     3.4651   6.272 3.75e-10 ***\n",
       "mnth7                       -0.7626     3.9084  -0.195  0.84530    \n",
       "mnth8                        7.1560     3.5347   2.024  0.04295 *  \n",
       "mnth9                       20.5912     3.0456   6.761 1.46e-11 ***\n",
       "mnth10                      29.7472     2.6995  11.019  < 2e-16 ***\n",
       "mnth11                      14.2229     2.8604   4.972 6.74e-07 ***\n",
       "hr1                        -96.1420     3.9554 -24.307  < 2e-16 ***\n",
       "hr2                       -110.7213     3.9662 -27.916  < 2e-16 ***\n",
       "hr3                       -117.7212     4.0165 -29.310  < 2e-16 ***\n",
       "hr4                       -127.2828     4.0808 -31.191  < 2e-16 ***\n",
       "hr5                       -133.0495     4.1168 -32.319  < 2e-16 ***\n",
       "hr6                       -120.2775     4.0370 -29.794  < 2e-16 ***\n",
       "hr7                        -75.5424     3.9916 -18.925  < 2e-16 ***\n",
       "hr8                         23.9511     3.9686   6.035 1.65e-09 ***\n",
       "hr9                        127.5199     3.9500  32.284  < 2e-16 ***\n",
       "hr10                        24.4399     3.9360   6.209 5.57e-10 ***\n",
       "hr11                       -12.3407     3.9361  -3.135  0.00172 ** \n",
       "hr12                         9.2814     3.9447   2.353  0.01865 *  \n",
       "hr13                        41.1417     3.9571  10.397  < 2e-16 ***\n",
       "hr14                        39.8939     3.9750  10.036  < 2e-16 ***\n",
       "hr15                        30.4940     3.9910   7.641 2.39e-14 ***\n",
       "hr16                        35.9445     3.9949   8.998  < 2e-16 ***\n",
       "hr17                        82.3786     3.9883  20.655  < 2e-16 ***\n",
       "hr18                       200.1249     3.9638  50.488  < 2e-16 ***\n",
       "hr19                       173.2989     3.9561  43.806  < 2e-16 ***\n",
       "hr20                        90.1138     3.9400  22.872  < 2e-16 ***\n",
       "hr21                        29.4071     3.9362   7.471 8.74e-14 ***\n",
       "hr22                        -8.5883     3.9332  -2.184  0.02902 *  \n",
       "hr23                       -37.0194     3.9344  -9.409  < 2e-16 ***\n",
       "workingday                   1.2696     1.7845   0.711  0.47681    \n",
       "temp                       157.2094    10.2612  15.321  < 2e-16 ***\n",
       "weathersitcloudy/misty     -12.8903     1.9643  -6.562 5.60e-11 ***\n",
       "weathersitlight rain/snow  -66.4944     2.9652 -22.425  < 2e-16 ***\n",
       "weathersitheavy rain/snow -109.7446    76.6674  -1.431  0.15234    \n",
       "---\n",
       "Signif. codes:  0 ‘***’ 0.001 ‘**’ 0.01 ‘*’ 0.05 ‘.’ 0.1 ‘ ’ 1\n",
       "\n",
       "Residual standard error: 76.5 on 8605 degrees of freedom\n",
       "Multiple R-squared:  0.6745,\tAdjusted R-squared:  0.6731 \n",
       "F-statistic: 457.3 on 39 and 8605 DF,  p-value: < 2.2e-16\n"
      ]
     },
     "metadata": {},
     "output_type": "display_data"
    }
   ],
   "source": [
    "contrasts(Bikeshare$hr) = contr.sum(24)\n",
    "contrasts(Bikeshare$mnth) = contr.sum(12)\n",
    "mod.lm2 <- lm(\n",
    "    bikers ~ mnth + hr + workingday + temp + weathersit,\n",
    "    data = Bikeshare\n",
    "  )\n",
    "summary(mod.lm2)"
   ]
  },
  {
   "cell_type": "markdown",
   "id": "60579e3b",
   "metadata": {
    "id": "60579e3b"
   },
   "source": [
    "What is the difference between the two codings?  In `mod.lm2`,  a coefficient estimate is reported for all but the last level of `hr` and `mnth`. Importantly, in `mod.lm2`, the coefficient estimate for the last level of `mnth` is not zero: instead, it equals the *negative of the sum of the coefficient estimates for all of the other levels*. Similarly, in `mod.lm2`, the coefficient estimate for the last level of `hr` is the negative of the sum of the coefficient estimates for all of the other levels. This means that the coefficients of `hr` and `mnth` in `mod.lm2` will always sum to zero, and can be interpreted as the difference from the mean level. For example, the coefficient for January of $-46.087$ indicates that, holding all other variables constant, there are typically 46 fewer riders in January relative to the yearly average.\n",
    "\n",
    "It is important to realize that the choice of coding really does not matter, provided that we interpret the model output correctly in light of the coding used. For example, we see   that the predictions from the linear model are the same regardless of coding:"
   ]
  },
  {
   "cell_type": "code",
   "execution_count": null,
   "id": "6a0dff5d",
   "metadata": {
    "id": "6a0dff5d",
    "name": "chunk38",
    "outputId": "e9dfbf2e-7c94-45af-e0a9-d4344787c4c7"
   },
   "outputs": [
    {
     "data": {
      "text/html": [
       "1.42627365746246e-18"
      ],
      "text/latex": [
       "1.42627365746246e-18"
      ],
      "text/markdown": [
       "1.42627365746246e-18"
      ],
      "text/plain": [
       "[1] 1.426274e-18"
      ]
     },
     "metadata": {},
     "output_type": "display_data"
    }
   ],
   "source": [
    "sum((predict(mod.lm) - predict(mod.lm2))^2)"
   ]
  },
  {
   "cell_type": "markdown",
   "id": "79b586a2",
   "metadata": {
    "id": "79b586a2"
   },
   "source": [
    "The sum of squared differences is zero. We can also see this using the `all.equal()` function:"
   ]
  },
  {
   "cell_type": "code",
   "execution_count": null,
   "id": "7004fb55",
   "metadata": {
    "id": "7004fb55",
    "lines_to_next_cell": 2,
    "name": "chunk39",
    "outputId": "83a42ff4-a785-4ab1-c95d-28a3e538ad38"
   },
   "outputs": [
    {
     "data": {
      "text/html": [
       "TRUE"
      ],
      "text/latex": [
       "TRUE"
      ],
      "text/markdown": [
       "TRUE"
      ],
      "text/plain": [
       "[1] TRUE"
      ]
     },
     "metadata": {},
     "output_type": "display_data"
    }
   ],
   "source": [
    "all.equal(predict(mod.lm), predict(mod.lm2))"
   ]
  },
  {
   "cell_type": "markdown",
   "id": "cbaeb480",
   "metadata": {
    "id": "cbaeb480"
   },
   "source": [
    "To reproduce the left-hand side of Figure 4.13, we must first obtain the coefficient estimates associated with `mnth`. The coefficients for January through November can be obtained directly from the `mod.lm2` object. The coefficient for December must be explicitly computed as the negative sum of all the other months."
   ]
  },
  {
   "cell_type": "code",
   "execution_count": null,
   "id": "5d7da100",
   "metadata": {
    "id": "5d7da100",
    "name": "chunk40"
   },
   "outputs": [],
   "source": [
    "coef.months <- c(coef(mod.lm2)[2:12],\n",
    "    -sum(coef(mod.lm2)[2:12]))"
   ]
  },
  {
   "cell_type": "markdown",
   "id": "82a5eb9e",
   "metadata": {
    "id": "82a5eb9e"
   },
   "source": [
    "To make the plot, we manually label the $x$-axis with the names of the months."
   ]
  },
  {
   "cell_type": "code",
   "execution_count": null,
   "id": "6c557580",
   "metadata": {
    "id": "6c557580",
    "name": "chunk41",
    "outputId": "f83c91cb-83ba-44ff-dca8-b84e378c3ef8"
   },
   "outputs": [
    {
     "data": {
      "image/png": "[encoded data removed]",
      "text/plain": [
       "plot without title"
      ]
     },
     "metadata": {
      "image/png": {
       "height": 420,
       "width": 420
      }
     },
     "output_type": "display_data"
    }
   ],
   "source": [
    "plot(coef.months, xlab = \"Month\", ylab = \"Coefficient\",\n",
    "    xaxt = \"n\", col = \"blue\", pch = 19, type = \"o\")\n",
    "axis(side = 1, at = 1:12, labels = c(\"J\", \"F\", \"M\", \"A\",\n",
    "    \"M\", \"J\", \"J\", \"A\", \"S\", \"O\", \"N\", \"D\"))"
   ]
  },
  {
   "cell_type": "markdown",
   "id": "c3c26987",
   "metadata": {
    "id": "c3c26987"
   },
   "source": [
    "Reproducing the right-hand side of Figure 4.13 follows a similar process."
   ]
  },
  {
   "cell_type": "code",
   "execution_count": null,
   "id": "12ac2549",
   "metadata": {
    "id": "12ac2549",
    "lines_to_next_cell": 0,
    "name": "chunk42",
    "outputId": "bf4dec53-5c5f-44e1-9332-646757dde281"
   },
   "outputs": [
    {
     "data": {
      "image/png": "[encoded data removed]",
      "text/plain": [
       "plot without title"
      ]
     },
     "metadata": {
      "image/png": {
       "height": 420,
       "width": 420
      }
     },
     "output_type": "display_data"
    }
   ],
   "source": [
    "coef.hours <- c(coef(mod.lm2)[13:35],\n",
    "    -sum(coef(mod.lm2)[13:35]))\n",
    "plot(coef.hours, xlab = \"Hour\", ylab = \"Coefficient\",\n",
    "    col = \"blue\", pch = 19, type = \"o\")"
   ]
  },
  {
   "cell_type": "markdown",
   "id": "6a487002",
   "metadata": {
    "id": "6a487002"
   },
   "source": []
  },
  {
   "cell_type": "markdown",
   "id": "81e9b9b1",
   "metadata": {
    "id": "81e9b9b1"
   },
   "source": [
    "Now, we consider instead fitting a Poisson regression model to the `Bikeshare` data. Very little changes, except that we now use the function `glm()` with the argument `family = poisson` to specify that we wish to  fit a Poisson regression model:"
   ]
  },
  {
   "cell_type": "code",
   "execution_count": null,
   "id": "bb6f94a7",
   "metadata": {
    "id": "bb6f94a7",
    "name": "chunk43",
    "outputId": "a29aa984-ac78-430d-8db5-658f6c69c3df"
   },
   "outputs": [
    {
     "data": {
      "text/plain": [
       "\n",
       "Call:\n",
       "glm(formula = bikers ~ mnth + hr + workingday + temp + weathersit, \n",
       "    family = poisson, data = Bikeshare)\n",
       "\n",
       "Deviance Residuals: \n",
       "     Min        1Q    Median        3Q       Max  \n",
       "-20.7574   -3.3441   -0.6549    2.6999   21.9628  \n",
       "\n",
       "Coefficients:\n",
       "                           Estimate Std. Error  z value Pr(>|z|)    \n",
       "(Intercept)                4.118245   0.006021  683.964  < 2e-16 ***\n",
       "mnth1                     -0.670170   0.005907 -113.445  < 2e-16 ***\n",
       "mnth2                     -0.444124   0.004860  -91.379  < 2e-16 ***\n",
       "mnth3                     -0.293733   0.004144  -70.886  < 2e-16 ***\n",
       "mnth4                      0.021523   0.003125    6.888 5.66e-12 ***\n",
       "mnth5                      0.240471   0.002916   82.462  < 2e-16 ***\n",
       "mnth6                      0.223235   0.003554   62.818  < 2e-16 ***\n",
       "mnth7                      0.103617   0.004125   25.121  < 2e-16 ***\n",
       "mnth8                      0.151171   0.003662   41.281  < 2e-16 ***\n",
       "mnth9                      0.233493   0.003102   75.281  < 2e-16 ***\n",
       "mnth10                     0.267573   0.002785   96.091  < 2e-16 ***\n",
       "mnth11                     0.150264   0.003180   47.248  < 2e-16 ***\n",
       "hr1                       -0.754386   0.007879  -95.744  < 2e-16 ***\n",
       "hr2                       -1.225979   0.009953 -123.173  < 2e-16 ***\n",
       "hr3                       -1.563147   0.011869 -131.702  < 2e-16 ***\n",
       "hr4                       -2.198304   0.016424 -133.846  < 2e-16 ***\n",
       "hr5                       -2.830484   0.022538 -125.586  < 2e-16 ***\n",
       "hr6                       -1.814657   0.013464 -134.775  < 2e-16 ***\n",
       "hr7                       -0.429888   0.006896  -62.341  < 2e-16 ***\n",
       "hr8                        0.575181   0.004406  130.544  < 2e-16 ***\n",
       "hr9                        1.076927   0.003563  302.220  < 2e-16 ***\n",
       "hr10                       0.581769   0.004286  135.727  < 2e-16 ***\n",
       "hr11                       0.336852   0.004720   71.372  < 2e-16 ***\n",
       "hr12                       0.494121   0.004392  112.494  < 2e-16 ***\n",
       "hr13                       0.679642   0.004069  167.040  < 2e-16 ***\n",
       "hr14                       0.673565   0.004089  164.722  < 2e-16 ***\n",
       "hr15                       0.624910   0.004178  149.570  < 2e-16 ***\n",
       "hr16                       0.653763   0.004132  158.205  < 2e-16 ***\n",
       "hr17                       0.874301   0.003784  231.040  < 2e-16 ***\n",
       "hr18                       1.294635   0.003254  397.848  < 2e-16 ***\n",
       "hr19                       1.212281   0.003321  365.084  < 2e-16 ***\n",
       "hr20                       0.914022   0.003700  247.065  < 2e-16 ***\n",
       "hr21                       0.616201   0.004191  147.045  < 2e-16 ***\n",
       "hr22                       0.364181   0.004659   78.173  < 2e-16 ***\n",
       "hr23                       0.117493   0.005225   22.488  < 2e-16 ***\n",
       "workingday                 0.014665   0.001955    7.502 6.27e-14 ***\n",
       "temp                       0.785292   0.011475   68.434  < 2e-16 ***\n",
       "weathersitcloudy/misty    -0.075231   0.002179  -34.528  < 2e-16 ***\n",
       "weathersitlight rain/snow -0.575800   0.004058 -141.905  < 2e-16 ***\n",
       "weathersitheavy rain/snow -0.926287   0.166782   -5.554 2.79e-08 ***\n",
       "---\n",
       "Signif. codes:  0 ‘***’ 0.001 ‘**’ 0.01 ‘*’ 0.05 ‘.’ 0.1 ‘ ’ 1\n",
       "\n",
       "(Dispersion parameter for poisson family taken to be 1)\n",
       "\n",
       "    Null deviance: 1052921  on 8644  degrees of freedom\n",
       "Residual deviance:  228041  on 8605  degrees of freedom\n",
       "AIC: 281159\n",
       "\n",
       "Number of Fisher Scoring iterations: 5\n"
      ]
     },
     "metadata": {},
     "output_type": "display_data"
    }
   ],
   "source": [
    "mod.pois <- glm(\n",
    "    bikers ~ mnth + hr + workingday + temp + weathersit,\n",
    "    data = Bikeshare, family = poisson\n",
    "  )\n",
    "summary(mod.pois)"
   ]
  },
  {
   "cell_type": "markdown",
   "id": "f9025643",
   "metadata": {
    "id": "f9025643"
   },
   "source": [
    "We can plot the coefficients associated with `mnth` and `hr`, in order to reproduce Figure 4.15:"
   ]
  },
  {
   "cell_type": "code",
   "execution_count": null,
   "id": "cb0ab6b8",
   "metadata": {
    "id": "cb0ab6b8",
    "name": "chunk44",
    "outputId": "a9d42b81-7733-48c1-8908-c964223b620e"
   },
   "outputs": [
    {
     "data": {
      "image/png": "[encoded data removed]",
      "text/plain": [
       "plot without title"
      ]
     },
     "metadata": {
      "image/png": {
       "height": 420,
       "width": 420
      }
     },
     "output_type": "display_data"
    },
    {
     "data": {
      "image/png": "[encoded data removed]",
      "text/plain": [
       "plot without title"
      ]
     },
     "metadata": {
      "image/png": {
       "height": 420,
       "width": 420
      }
     },
     "output_type": "display_data"
    }
   ],
   "source": [
    "coef.mnth <- c(coef(mod.pois)[2:12],\n",
    "    -sum(coef(mod.pois)[2:12]))\n",
    "plot(coef.mnth, xlab = \"Month\", ylab = \"Coefficient\",\n",
    "     xaxt = \"n\", col = \"blue\", pch = 19, type = \"o\")\n",
    "axis(side = 1, at = 1:12, labels = c(\"J\", \"F\", \"M\", \"A\", \"M\", \"J\", \"J\", \"A\", \"S\", \"O\", \"N\", \"D\"))\n",
    "coef.hours <- c(coef(mod.pois)[13:35],\n",
    "     -sum(coef(mod.pois)[13:35]))\n",
    "plot(coef.hours, xlab = \"Hour\", ylab = \"Coefficient\",\n",
    "    col = \"blue\", pch = 19, type = \"o\")"
   ]
  },
  {
   "cell_type": "markdown",
   "id": "009cc635",
   "metadata": {
    "id": "009cc635"
   },
   "source": [
    "We can once again use the `predict()` function to obtain the fitted values (predictions) from this Poisson regression model. However, we must use the argument `type = \"response\"` to specify that we want `R` to output $\\exp(\\hat\\beta_0 + \\hat\\beta_1 X_1 + \\ldots +\\hat\\beta_p X_p)$ rather than $\\hat\\beta_0 + \\hat\\beta_1 X_1 + \\ldots + \\hat\\beta_p X_p$, which it will output by default."
   ]
  },
  {
   "cell_type": "code",
   "execution_count": null,
   "id": "47ce00d8",
   "metadata": {
    "id": "47ce00d8",
    "name": "chunk45",
    "outputId": "846f4664-85cc-45ae-bb51-fad1ab214190"
   },
   "outputs": [
    {
     "data": {
      "image/png": "[encoded data removed]",
      "text/plain": [
       "plot without title"
      ]
     },
     "metadata": {
      "image/png": {
       "height": 420,
       "width": 420
      }
     },
     "output_type": "display_data"
    }
   ],
   "source": [
    "plot(predict(mod.lm2), predict(mod.pois, type = \"response\"))\n",
    "abline(0, 1, col = 2, lwd = 3)"
   ]
  },
  {
   "cell_type": "markdown",
   "id": "4c98af69",
   "metadata": {
    "id": "4c98af69"
   },
   "source": [
    "The predictions from the Poisson regression model are correlated with those from the linear model; however, the former are non-negative. As a result the Poisson regression predictions tend to be larger than those from the linear model for either very low or very high levels of ridership.\n",
    "\n",
    "In this section, we used the `glm()` function with the argument `family = poisson` in order to perform Poisson regression. Earlier in this lab we used the `glm()` function with `family = binomial` to perform logistic regression. Other choices for the `family` argument can be used to fit other types of GLMs. For instance, `family = Gamma` fits a gamma regression model.\n",
    "\n"
   ]
  }
 ],
 "metadata": {
  "celltoolbar": "Edit Metadata",
  "colab": {
   "provenance": []
  },
  "jupytext": {
   "formats": "ipynb,Rmd"
  },
  "kernelspec": {
   "display_name": "R",
   "language": "R",
   "name": "ir"
  },
  "language_info": {
   "codemirror_mode": "r",
   "file_extension": ".r",
   "mimetype": "text/x-r-source",
   "name": "R",
   "pygments_lexer": "r",
   "version": "4.1.1"
  },
  "substitutions": {
   "ISLPmod": "`ISLP`",
   "Rlang": "`R`",
   "mpl": "`matplotlib`",
   "numpy": "`numpy`",
   "pandas": "`pandas`",
   "pylang": "`python`",
   "smlib": "`statsmodels`"
  }
 },
 "nbformat": 4,
 "nbformat_minor": 5
}
